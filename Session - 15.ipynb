{
 "cells": [
  {
   "cell_type": "markdown",
   "id": "fa70c6b8",
   "metadata": {},
   "source": [
    "## Exception handling in python"
   ]
  },
  {
   "cell_type": "code",
   "execution_count": 2,
   "id": "89d7df14",
   "metadata": {
    "scrolled": true
   },
   "outputs": [
    {
     "name": "stdout",
     "output_type": "stream",
     "text": [
      "anant\n"
     ]
    },
    {
     "ename": "ValueError",
     "evalue": "invalid literal for int() with base 10: 'anant'",
     "output_type": "error",
     "traceback": [
      "\u001b[1;31m---------------------------------------------------------------------------\u001b[0m",
      "\u001b[1;31mValueError\u001b[0m                                Traceback (most recent call last)",
      "Input \u001b[1;32mIn [2]\u001b[0m, in \u001b[0;36m<cell line: 1>\u001b[1;34m()\u001b[0m\n\u001b[1;32m----> 1\u001b[0m a \u001b[38;5;241m=\u001b[39m \u001b[38;5;28;43mint\u001b[39;49m\u001b[43m(\u001b[49m\u001b[38;5;28;43minput\u001b[39;49m\u001b[43m(\u001b[49m\u001b[43m)\u001b[49m\u001b[43m)\u001b[49m\n\u001b[0;32m      2\u001b[0m \u001b[38;5;28mprint\u001b[39m(a)\n\u001b[0;32m      3\u001b[0m \u001b[38;5;28mprint\u001b[39m(\u001b[38;5;124m'\u001b[39m\u001b[38;5;124mThis input is expecting a numerical data\u001b[39m\u001b[38;5;124m'\u001b[39m)\n",
      "\u001b[1;31mValueError\u001b[0m: invalid literal for int() with base 10: 'anant'"
     ]
    }
   ],
   "source": [
    "a = int(input())\n",
    "print(a)\n",
    "print('This input is expecting a numerical data')"
   ]
  },
  {
   "cell_type": "code",
   "execution_count": 8,
   "id": "34a45128",
   "metadata": {},
   "outputs": [
    {
     "name": "stdout",
     "output_type": "stream",
     "text": [
      "Enter a: 10\n",
      "Enter b: 0\n"
     ]
    },
    {
     "ename": "ZeroDivisionError",
     "evalue": "division by zero",
     "output_type": "error",
     "traceback": [
      "\u001b[1;31m---------------------------------------------------------------------------\u001b[0m",
      "\u001b[1;31mZeroDivisionError\u001b[0m                         Traceback (most recent call last)",
      "Input \u001b[1;32mIn [8]\u001b[0m, in \u001b[0;36m<cell line: 3>\u001b[1;34m()\u001b[0m\n\u001b[0;32m      1\u001b[0m a \u001b[38;5;241m=\u001b[39m \u001b[38;5;28mint\u001b[39m(\u001b[38;5;28minput\u001b[39m(\u001b[38;5;124m'\u001b[39m\u001b[38;5;124mEnter a: \u001b[39m\u001b[38;5;124m'\u001b[39m))\n\u001b[0;32m      2\u001b[0m b \u001b[38;5;241m=\u001b[39m \u001b[38;5;28mint\u001b[39m(\u001b[38;5;28minput\u001b[39m(\u001b[38;5;124m'\u001b[39m\u001b[38;5;124mEnter b: \u001b[39m\u001b[38;5;124m'\u001b[39m))\n\u001b[1;32m----> 3\u001b[0m \u001b[38;5;28mprint\u001b[39m(\u001b[43ma\u001b[49m\u001b[38;5;241;43m/\u001b[39;49m\u001b[43mb\u001b[49m)\n\u001b[0;32m      4\u001b[0m \u001b[38;5;28mprint\u001b[39m(\u001b[38;5;124m'\u001b[39m\u001b[38;5;124ma = \u001b[39m\u001b[38;5;124m'\u001b[39m, a)\n\u001b[0;32m      5\u001b[0m \u001b[38;5;28mprint\u001b[39m(\u001b[38;5;124m'\u001b[39m\u001b[38;5;124mb = \u001b[39m\u001b[38;5;124m'\u001b[39m, b)\n",
      "\u001b[1;31mZeroDivisionError\u001b[0m: division by zero"
     ]
    }
   ],
   "source": [
    "a = int(input('Enter a: '))\n",
    "b = int(input('Enter b: '))\n",
    "print(a/b)\n",
    "print('a = ', a)\n",
    "print('b = ', b)\n",
    "print(a*b)"
   ]
  },
  {
   "cell_type": "markdown",
   "id": "0190bb5d",
   "metadata": {},
   "source": [
    "## try and except block in python"
   ]
  },
  {
   "cell_type": "raw",
   "id": "c5abe121",
   "metadata": {},
   "source": [
    "try:\n",
    "    statement 1\n",
    "    statement 2\n",
    "    statement 3\n",
    "    .\n",
    "    .\n",
    "    .\n",
    "except:\n",
    "    statement 1\n",
    "    statement 2\n",
    "    statement 3\n",
    "    .\n",
    "    .\n",
    "    ."
   ]
  },
  {
   "cell_type": "markdown",
   "id": "248fba4b",
   "metadata": {},
   "source": [
    "- When there is no error in try block the except block does not get executed. \n",
    "- The execution of except happens only when there is an error in the try block."
   ]
  },
  {
   "cell_type": "code",
   "execution_count": 9,
   "id": "36ded417",
   "metadata": {},
   "outputs": [
    {
     "name": "stdout",
     "output_type": "stream",
     "text": [
      "10\n",
      "10\n",
      "This input accepts only numerical data\n"
     ]
    }
   ],
   "source": [
    "try:\n",
    "    a = int(input())\n",
    "    print(a)\n",
    "    print('This input accepts only numerical data')\n",
    "except:\n",
    "    print('You have entered a string data. You should enter a numerical data')"
   ]
  },
  {
   "cell_type": "code",
   "execution_count": 11,
   "id": "4de9c96a",
   "metadata": {},
   "outputs": [
    {
     "name": "stdout",
     "output_type": "stream",
     "text": [
      "anant\n",
      "You have entered a string data. You should enter a numerical data\n",
      "This line will get executed even if the user is entering a string data\n",
      "a*2\n"
     ]
    }
   ],
   "source": [
    "try:\n",
    "    a = int(input())\n",
    "    print(a)\n",
    "    print('This input accepts only numerical data')\n",
    "except:\n",
    "    print('You have entered a string data. You should enter a numerical data')\n",
    "\n",
    "print('This line will get executed even if the user is entering a string data')\n",
    "print('a*2')"
   ]
  },
  {
   "cell_type": "markdown",
   "id": "9fc75416",
   "metadata": {},
   "source": [
    "## try except else block"
   ]
  },
  {
   "cell_type": "raw",
   "id": "e844d14a",
   "metadata": {},
   "source": [
    "try - except and else block:\n",
    "\n",
    "try:\n",
    "    statement 1\n",
    "    statement 2\n",
    "    statement 3\n",
    "    .\n",
    "    .\n",
    "    .\n",
    "except:\n",
    "    statement 1\n",
    "    statement 2\n",
    "    statement 3\n",
    "    .\n",
    "    .\n",
    "    .\n",
    "else:\n",
    "    statement 1\n",
    "    statement 2\n",
    "    statement 3\n",
    "    .\n",
    "    .\n",
    "    .\n",
    "    \n"
   ]
  },
  {
   "cell_type": "code",
   "execution_count": 12,
   "id": "10154c46",
   "metadata": {},
   "outputs": [],
   "source": [
    "## Write a program to divide and multiply 2 numbers"
   ]
  },
  {
   "cell_type": "code",
   "execution_count": 14,
   "id": "f50df894",
   "metadata": {},
   "outputs": [
    {
     "name": "stdout",
     "output_type": "stream",
     "text": [
      "20\n",
      "10\n",
      "The try gets executed if there is no error in try block\n",
      "2.0\n",
      "The else block gets executed if there is no error in try block\n",
      "200\n"
     ]
    }
   ],
   "source": [
    "try:\n",
    "    a = int(input())\n",
    "    b = int(input())\n",
    "    print('The try gets executed if there is no error in try block')\n",
    "    print(a/b)\n",
    "except:\n",
    "    print('This is a zero division error')\n",
    "else:\n",
    "    print('The else block gets executed if there is no error in try block')\n",
    "    print(a*b)"
   ]
  },
  {
   "cell_type": "code",
   "execution_count": 15,
   "id": "053a8030",
   "metadata": {},
   "outputs": [
    {
     "name": "stdout",
     "output_type": "stream",
     "text": [
      "10\n",
      "0\n",
      "The try gets executed if there is no error in try block\n",
      "This is a zero division error\n"
     ]
    }
   ],
   "source": [
    "try:\n",
    "    a = int(input())\n",
    "    b = int(input())\n",
    "    print('The try gets executed if there is no error in try block')\n",
    "    print(a/b)\n",
    "except:\n",
    "    print('This is a zero division error')\n",
    "else:\n",
    "    print('The else block gets executed if there is no error in try block')\n",
    "    print(a*b)"
   ]
  },
  {
   "cell_type": "markdown",
   "id": "00a0e998",
   "metadata": {},
   "source": [
    "## Catching multiple error using except"
   ]
  },
  {
   "cell_type": "code",
   "execution_count": 16,
   "id": "2582c9ac",
   "metadata": {},
   "outputs": [
    {
     "name": "stdout",
     "output_type": "stream",
     "text": [
      "ananr\n",
      "The value entered is a string value\n"
     ]
    }
   ],
   "source": [
    "try:\n",
    "    a = int(input())\n",
    "    b = int(input())\n",
    "    print('The try gets executed if there is no error in try block')\n",
    "    print(a/b)\n",
    "except ZeroDivisionError:\n",
    "    print('This is a zero division error')\n",
    "except ValueError:\n",
    "    print('The value entered is a string value')"
   ]
  },
  {
   "cell_type": "code",
   "execution_count": 17,
   "id": "72de5480",
   "metadata": {},
   "outputs": [
    {
     "name": "stdout",
     "output_type": "stream",
     "text": [
      "10 \n",
      "0\n",
      "The try gets executed if there is no error in try block\n",
      "This is a zero division error\n"
     ]
    }
   ],
   "source": [
    "try:\n",
    "    a = int(input())\n",
    "    b = int(input())\n",
    "    print('The try gets executed if there is no error in try block')\n",
    "    print(a/b)\n",
    "except ZeroDivisionError:\n",
    "    print('This is a zero division error')\n",
    "except ValueError:\n",
    "    print('The value entered is a string value')"
   ]
  },
  {
   "cell_type": "markdown",
   "id": "1605fc20",
   "metadata": {},
   "source": [
    "## Try except else finally block"
   ]
  },
  {
   "cell_type": "raw",
   "id": "889dee11",
   "metadata": {},
   "source": [
    "Syntax:\n",
    "\n",
    "try - except - else - finally block:\n",
    "\n",
    "try:\n",
    "    statement 1\n",
    "    statement 2\n",
    "    statement 3\n",
    "    .\n",
    "    .\n",
    "    .\n",
    "except:\n",
    "    statement 1\n",
    "    statement 2\n",
    "    statement 3\n",
    "    .\n",
    "    .\n",
    "    .\n",
    "else:\n",
    "    statement 1\n",
    "    statement 2\n",
    "    statement 3\n",
    "    .\n",
    "    .\n",
    "    .\n",
    "finally:\n",
    "    statement 1\n",
    "    statement 2\n",
    "    statement 3\n",
    "    .\n",
    "    .\n",
    "    ."
   ]
  },
  {
   "cell_type": "code",
   "execution_count": 19,
   "id": "50927c3b",
   "metadata": {},
   "outputs": [
    {
     "name": "stdout",
     "output_type": "stream",
     "text": [
      "10\n",
      "0\n",
      "The try gets executed if there is no error in try block\n",
      "This is a zero division error\n"
     ]
    }
   ],
   "source": [
    "## Write a program to divide and multiply 2 numbers\n",
    "\n",
    "try:\n",
    "    a = int(input())\n",
    "    b = int(input())\n",
    "    print('The try gets executed if there is no error in try block')\n",
    "    print(a/b)\n",
    "except:\n",
    "    print('This is a zero division error')\n",
    "else:\n",
    "    print('The else block gets executed if there is no error in try block')\n",
    "    print(a*b)"
   ]
  },
  {
   "cell_type": "code",
   "execution_count": 25,
   "id": "9f593e9c",
   "metadata": {},
   "outputs": [
    {
     "name": "stdout",
     "output_type": "stream",
     "text": [
      "anant\n",
      "Enter a number data\n"
     ]
    },
    {
     "ename": "NameError",
     "evalue": "name 'c' is not defined",
     "output_type": "error",
     "traceback": [
      "\u001b[1;31m---------------------------------------------------------------------------\u001b[0m",
      "\u001b[1;31mNameError\u001b[0m                                 Traceback (most recent call last)",
      "Input \u001b[1;32mIn [25]\u001b[0m, in \u001b[0;36m<cell line: 3>\u001b[1;34m()\u001b[0m\n\u001b[0;32m     13\u001b[0m     \u001b[38;5;28mprint\u001b[39m(\u001b[38;5;124m'\u001b[39m\u001b[38;5;124mThe else block gets executed if there is no error in try block\u001b[39m\u001b[38;5;124m'\u001b[39m)\n\u001b[0;32m     14\u001b[0m \u001b[38;5;28;01mfinally\u001b[39;00m:\n\u001b[1;32m---> 15\u001b[0m     \u001b[38;5;28mprint\u001b[39m(\u001b[43mc\u001b[49m\u001b[38;5;241m*\u001b[39md)\n\u001b[0;32m     16\u001b[0m     \u001b[38;5;28mprint\u001b[39m(\u001b[38;5;124m'\u001b[39m\u001b[38;5;124mThis will always get executed\u001b[39m\u001b[38;5;124m'\u001b[39m)\n",
      "\u001b[1;31mNameError\u001b[0m: name 'c' is not defined"
     ]
    }
   ],
   "source": [
    "## Write a program to divide and multiply 2 numbers\n",
    "\n",
    "try:\n",
    "    c = int(input())\n",
    "    d = int(input())\n",
    "    print(a/b)\n",
    "    print('The try gets executed if there is no error in try block')\n",
    "except ZeroDivisionError:\n",
    "    print('This is a zero division error')\n",
    "except ValueError:\n",
    "    print('Enter a number data')\n",
    "else:\n",
    "    print('The else block gets executed if there is no error in try block')\n",
    "finally:\n",
    "    print(c*d)\n",
    "    print('This will always get executed')"
   ]
  },
  {
   "cell_type": "markdown",
   "id": "eaab8c61",
   "metadata": {},
   "source": [
    "## Arguement of an exception"
   ]
  },
  {
   "cell_type": "code",
   "execution_count": 27,
   "id": "51dbb244",
   "metadata": {},
   "outputs": [
    {
     "name": "stdout",
     "output_type": "stream",
     "text": [
      "anant\n",
      "String Data Entered. Numerical data expected\n"
     ]
    }
   ],
   "source": [
    "try:\n",
    "    a = int(input())\n",
    "    print(a)\n",
    "except ValueError as v:\n",
    "    print('String Data Entered. Numerical data expected')"
   ]
  },
  {
   "cell_type": "markdown",
   "id": "e952db0c",
   "metadata": {},
   "source": [
    "## Raising an exception\n",
    "\n",
    "- Using raise Keyword, we can raise our own exceptions"
   ]
  },
  {
   "cell_type": "code",
   "execution_count": 30,
   "id": "e6e025c4",
   "metadata": {},
   "outputs": [
    {
     "name": "stdout",
     "output_type": "stream",
     "text": [
      "50\n",
      "50\n"
     ]
    }
   ],
   "source": [
    "age = int(input())\n",
    "\n",
    "if age < 0 and age > 100:\n",
    "    raise Exception('Sorry, The value of age cannot be less than zero or greater than 100')\n",
    "    \n",
    "print(age)"
   ]
  },
  {
   "cell_type": "code",
   "execution_count": 32,
   "id": "5f7876c9",
   "metadata": {},
   "outputs": [
    {
     "name": "stdout",
     "output_type": "stream",
     "text": [
      "150\n"
     ]
    },
    {
     "ename": "Exception",
     "evalue": "Sorry, The value of age cannot be less than zero or greater than 100",
     "output_type": "error",
     "traceback": [
      "\u001b[1;31m---------------------------------------------------------------------------\u001b[0m",
      "\u001b[1;31mException\u001b[0m                                 Traceback (most recent call last)",
      "Input \u001b[1;32mIn [32]\u001b[0m, in \u001b[0;36m<cell line: 3>\u001b[1;34m()\u001b[0m\n\u001b[0;32m      1\u001b[0m age \u001b[38;5;241m=\u001b[39m \u001b[38;5;28mint\u001b[39m(\u001b[38;5;28minput\u001b[39m())\n\u001b[0;32m      3\u001b[0m \u001b[38;5;28;01mif\u001b[39;00m age \u001b[38;5;241m<\u001b[39m \u001b[38;5;241m0\u001b[39m \u001b[38;5;129;01mor\u001b[39;00m age \u001b[38;5;241m>\u001b[39m \u001b[38;5;241m100\u001b[39m:\n\u001b[1;32m----> 4\u001b[0m     \u001b[38;5;28;01mraise\u001b[39;00m \u001b[38;5;167;01mException\u001b[39;00m(\u001b[38;5;124m'\u001b[39m\u001b[38;5;124mSorry, The value of age cannot be less than zero or greater than 100\u001b[39m\u001b[38;5;124m'\u001b[39m)\n\u001b[0;32m      6\u001b[0m \u001b[38;5;28mprint\u001b[39m(age)\n",
      "\u001b[1;31mException\u001b[0m: Sorry, The value of age cannot be less than zero or greater than 100"
     ]
    }
   ],
   "source": [
    "age = int(input())\n",
    "\n",
    "if age < 0 or age > 100:\n",
    "    raise Exception('Sorry, The value of age cannot be less than zero or greater than 100')\n",
    "    \n",
    "print(age)"
   ]
  },
  {
   "cell_type": "code",
   "execution_count": 33,
   "id": "a28c491a",
   "metadata": {},
   "outputs": [
    {
     "ename": "ZeroDivisionError",
     "evalue": "division by zero",
     "output_type": "error",
     "traceback": [
      "\u001b[1;31m---------------------------------------------------------------------------\u001b[0m",
      "\u001b[1;31mZeroDivisionError\u001b[0m                         Traceback (most recent call last)",
      "Input \u001b[1;32mIn [33]\u001b[0m, in \u001b[0;36m<cell line: 3>\u001b[1;34m()\u001b[0m\n\u001b[0;32m      1\u001b[0m a \u001b[38;5;241m=\u001b[39m \u001b[38;5;241m10\u001b[39m \n\u001b[0;32m      2\u001b[0m b \u001b[38;5;241m=\u001b[39m \u001b[38;5;241m0\u001b[39m\n\u001b[1;32m----> 3\u001b[0m \u001b[38;5;28mprint\u001b[39m(\u001b[43ma\u001b[49m\u001b[38;5;241;43m/\u001b[39;49m\u001b[43mb\u001b[49m)\n\u001b[0;32m      4\u001b[0m \u001b[38;5;28;01mraise\u001b[39;00m \u001b[38;5;167;01mException\u001b[39;00m\n",
      "\u001b[1;31mZeroDivisionError\u001b[0m: division by zero"
     ]
    }
   ],
   "source": [
    "a = 10 \n",
    "b = 0\n",
    "print(a/b)\n",
    "raise Exception"
   ]
  },
  {
   "cell_type": "markdown",
   "id": "e9c6fef2",
   "metadata": {},
   "source": [
    "## Classes and objects\n",
    "- Class is a prototype\n",
    "- object is an instance of a class"
   ]
  },
  {
   "cell_type": "code",
   "execution_count": 34,
   "id": "c95ab6b2",
   "metadata": {},
   "outputs": [],
   "source": [
    "## Creating a class\n",
    "class MyClass:\n",
    "    x = 5         ### Member of MyClass class"
   ]
  },
  {
   "cell_type": "code",
   "execution_count": 35,
   "id": "e397fcff",
   "metadata": {},
   "outputs": [],
   "source": [
    "## Creating an object\n",
    "p1 = MyClass()"
   ]
  },
  {
   "cell_type": "code",
   "execution_count": 37,
   "id": "ccccf5ac",
   "metadata": {},
   "outputs": [
    {
     "name": "stdout",
     "output_type": "stream",
     "text": [
      "5\n"
     ]
    }
   ],
   "source": [
    "print(p1.x)     ### Accessing the members of the class"
   ]
  },
  {
   "cell_type": "code",
   "execution_count": 44,
   "id": "824d4867",
   "metadata": {},
   "outputs": [],
   "source": [
    "## Creating a person class\n",
    "class person:\n",
    "    def __init__(self, name, age, gender):\n",
    "        self.name = name\n",
    "        self.age = age\n",
    "        self.gender = gender\n",
    "\n",
    "### Creating a person object\n",
    "p1 = person('Sam', 36, \"M\")\n",
    "p2 = person('Anil', 25, 'F')"
   ]
  },
  {
   "cell_type": "code",
   "execution_count": 39,
   "id": "1c1dbb4f",
   "metadata": {},
   "outputs": [
    {
     "data": {
      "text/plain": [
       "'Sam'"
      ]
     },
     "execution_count": 39,
     "metadata": {},
     "output_type": "execute_result"
    }
   ],
   "source": [
    "p1.name"
   ]
  },
  {
   "cell_type": "code",
   "execution_count": 40,
   "id": "ba222edd",
   "metadata": {},
   "outputs": [
    {
     "data": {
      "text/plain": [
       "36"
      ]
     },
     "execution_count": 40,
     "metadata": {},
     "output_type": "execute_result"
    }
   ],
   "source": [
    "p1.age"
   ]
  },
  {
   "cell_type": "code",
   "execution_count": 43,
   "id": "22ea3c79",
   "metadata": {},
   "outputs": [
    {
     "data": {
      "text/plain": [
       "'M'"
      ]
     },
     "execution_count": 43,
     "metadata": {},
     "output_type": "execute_result"
    }
   ],
   "source": [
    "p1.gender"
   ]
  },
  {
   "cell_type": "code",
   "execution_count": 45,
   "id": "7c101a32",
   "metadata": {},
   "outputs": [
    {
     "data": {
      "text/plain": [
       "'Anil'"
      ]
     },
     "execution_count": 45,
     "metadata": {},
     "output_type": "execute_result"
    }
   ],
   "source": [
    "p2.name"
   ]
  },
  {
   "cell_type": "code",
   "execution_count": 46,
   "id": "4fa48540",
   "metadata": {},
   "outputs": [
    {
     "data": {
      "text/plain": [
       "'F'"
      ]
     },
     "execution_count": 46,
     "metadata": {},
     "output_type": "execute_result"
    }
   ],
   "source": [
    "p2.gender"
   ]
  },
  {
   "cell_type": "code",
   "execution_count": 49,
   "id": "f9f71bd2",
   "metadata": {},
   "outputs": [
    {
     "ename": "AttributeError",
     "evalue": "'person' object has no attribute 'qualification'",
     "output_type": "error",
     "traceback": [
      "\u001b[1;31m---------------------------------------------------------------------------\u001b[0m",
      "\u001b[1;31mAttributeError\u001b[0m                            Traceback (most recent call last)",
      "Input \u001b[1;32mIn [49]\u001b[0m, in \u001b[0;36m<cell line: 1>\u001b[1;34m()\u001b[0m\n\u001b[1;32m----> 1\u001b[0m \u001b[43mp2\u001b[49m\u001b[38;5;241;43m.\u001b[39;49m\u001b[43mqualification\u001b[49m\n",
      "\u001b[1;31mAttributeError\u001b[0m: 'person' object has no attribute 'qualification'"
     ]
    }
   ],
   "source": [
    "p2.qualification"
   ]
  },
  {
   "cell_type": "code",
   "execution_count": 47,
   "id": "77bf4a14",
   "metadata": {},
   "outputs": [
    {
     "data": {
      "text/plain": [
       "False"
      ]
     },
     "execution_count": 47,
     "metadata": {},
     "output_type": "execute_result"
    }
   ],
   "source": [
    "'1' == 1"
   ]
  },
  {
   "cell_type": "code",
   "execution_count": 48,
   "id": "04107ff1",
   "metadata": {},
   "outputs": [
    {
     "ename": "AttributeError",
     "evalue": "'list' object has no attribute 'upper'",
     "output_type": "error",
     "traceback": [
      "\u001b[1;31m---------------------------------------------------------------------------\u001b[0m",
      "\u001b[1;31mAttributeError\u001b[0m                            Traceback (most recent call last)",
      "Input \u001b[1;32mIn [48]\u001b[0m, in \u001b[0;36m<cell line: 2>\u001b[1;34m()\u001b[0m\n\u001b[0;32m      1\u001b[0m lst \u001b[38;5;241m=\u001b[39m [\u001b[38;5;241m1\u001b[39m,\u001b[38;5;241m2\u001b[39m,\u001b[38;5;241m3\u001b[39m]\n\u001b[1;32m----> 2\u001b[0m \u001b[43mlst\u001b[49m\u001b[38;5;241;43m.\u001b[39;49m\u001b[43mupper\u001b[49m()\n",
      "\u001b[1;31mAttributeError\u001b[0m: 'list' object has no attribute 'upper'"
     ]
    }
   ],
   "source": [
    "lst = [1,2,3]\n",
    "lst.upper()"
   ]
  },
  {
   "cell_type": "code",
   "execution_count": 50,
   "id": "b22105a4",
   "metadata": {},
   "outputs": [],
   "source": [
    "## Creating a person class\n",
    "class person:\n",
    "    def __init__(self, name, age, gender):\n",
    "        self.name = name\n",
    "        self.age = age\n",
    "        self.gender = gender\n",
    "\n",
    "### Creating a person object\n",
    "p1 = person('Sam', 36, \"M\")"
   ]
  },
  {
   "cell_type": "code",
   "execution_count": 51,
   "id": "052b983c",
   "metadata": {},
   "outputs": [
    {
     "data": {
      "text/plain": [
       "'Sam'"
      ]
     },
     "execution_count": 51,
     "metadata": {},
     "output_type": "execute_result"
    }
   ],
   "source": [
    "p1.name"
   ]
  },
  {
   "cell_type": "code",
   "execution_count": 53,
   "id": "7c517108",
   "metadata": {},
   "outputs": [
    {
     "data": {
      "text/plain": [
       "'Sam'"
      ]
     },
     "execution_count": 53,
     "metadata": {},
     "output_type": "execute_result"
    }
   ],
   "source": [
    "## getattr - get atrribute\n",
    "getattr(p1, 'name')"
   ]
  },
  {
   "cell_type": "code",
   "execution_count": 54,
   "id": "19622751",
   "metadata": {},
   "outputs": [
    {
     "data": {
      "text/plain": [
       "36"
      ]
     },
     "execution_count": 54,
     "metadata": {},
     "output_type": "execute_result"
    }
   ],
   "source": [
    "getattr(p1, 'age')"
   ]
  },
  {
   "cell_type": "code",
   "execution_count": 56,
   "id": "148c5ef0",
   "metadata": {},
   "outputs": [
    {
     "data": {
      "text/plain": [
       "True"
      ]
     },
     "execution_count": 56,
     "metadata": {},
     "output_type": "execute_result"
    }
   ],
   "source": [
    "hasattr(p1, 'name')"
   ]
  },
  {
   "cell_type": "code",
   "execution_count": 57,
   "id": "f0792bfc",
   "metadata": {},
   "outputs": [
    {
     "data": {
      "text/plain": [
       "False"
      ]
     },
     "execution_count": 57,
     "metadata": {},
     "output_type": "execute_result"
    }
   ],
   "source": [
    "hasattr(p1, 'qualification')"
   ]
  },
  {
   "cell_type": "code",
   "execution_count": 58,
   "id": "4ee52eb4",
   "metadata": {},
   "outputs": [],
   "source": [
    "setattr(p1, 'age', 46)"
   ]
  },
  {
   "cell_type": "code",
   "execution_count": 59,
   "id": "c119aaf7",
   "metadata": {},
   "outputs": [
    {
     "data": {
      "text/plain": [
       "46"
      ]
     },
     "execution_count": 59,
     "metadata": {},
     "output_type": "execute_result"
    }
   ],
   "source": [
    "p1.age"
   ]
  },
  {
   "cell_type": "code",
   "execution_count": 60,
   "id": "7c888df5",
   "metadata": {},
   "outputs": [
    {
     "data": {
      "text/plain": [
       "46"
      ]
     },
     "execution_count": 60,
     "metadata": {},
     "output_type": "execute_result"
    }
   ],
   "source": [
    "getattr(p1, 'age')"
   ]
  },
  {
   "cell_type": "code",
   "execution_count": 61,
   "id": "3131c39d",
   "metadata": {},
   "outputs": [],
   "source": [
    "delattr(p1, 'gender')"
   ]
  },
  {
   "cell_type": "code",
   "execution_count": 63,
   "id": "81c25a6e",
   "metadata": {},
   "outputs": [
    {
     "ename": "AttributeError",
     "evalue": "'person' object has no attribute 'gender'",
     "output_type": "error",
     "traceback": [
      "\u001b[1;31m---------------------------------------------------------------------------\u001b[0m",
      "\u001b[1;31mAttributeError\u001b[0m                            Traceback (most recent call last)",
      "Input \u001b[1;32mIn [63]\u001b[0m, in \u001b[0;36m<cell line: 1>\u001b[1;34m()\u001b[0m\n\u001b[1;32m----> 1\u001b[0m \u001b[38;5;28;43mgetattr\u001b[39;49m\u001b[43m(\u001b[49m\u001b[43mp1\u001b[49m\u001b[43m,\u001b[49m\u001b[43m \u001b[49m\u001b[38;5;124;43m'\u001b[39;49m\u001b[38;5;124;43mgender\u001b[39;49m\u001b[38;5;124;43m'\u001b[39;49m\u001b[43m)\u001b[49m\n",
      "\u001b[1;31mAttributeError\u001b[0m: 'person' object has no attribute 'gender'"
     ]
    }
   ],
   "source": [
    "getattr(p1, 'gender')"
   ]
  },
  {
   "cell_type": "code",
   "execution_count": 65,
   "id": "2e8ddbef",
   "metadata": {},
   "outputs": [
    {
     "data": {
      "text/plain": [
       "mappingproxy({'__module__': '__main__',\n",
       "              '__init__': <function __main__.person.__init__(self, name, age, gender)>,\n",
       "              '__dict__': <attribute '__dict__' of 'person' objects>,\n",
       "              '__weakref__': <attribute '__weakref__' of 'person' objects>,\n",
       "              '__doc__': None})"
      ]
     },
     "execution_count": 65,
     "metadata": {},
     "output_type": "execute_result"
    }
   ],
   "source": [
    "## person is a class. we are using built function on a class\n",
    "\n",
    "person.__dict__"
   ]
  },
  {
   "cell_type": "code",
   "execution_count": 66,
   "id": "46afc85d",
   "metadata": {},
   "outputs": [
    {
     "data": {
      "text/plain": [
       "{'name': 'Sam', 'age': 46}"
      ]
     },
     "execution_count": 66,
     "metadata": {},
     "output_type": "execute_result"
    }
   ],
   "source": [
    "p1.__dict__  ## p1 ia an object"
   ]
  },
  {
   "cell_type": "code",
   "execution_count": 67,
   "id": "c56751ef",
   "metadata": {},
   "outputs": [
    {
     "data": {
      "text/plain": [
       "'__main__'"
      ]
     },
     "execution_count": 67,
     "metadata": {},
     "output_type": "execute_result"
    }
   ],
   "source": [
    "person.__module__"
   ]
  },
  {
   "cell_type": "code",
   "execution_count": 68,
   "id": "2c459594",
   "metadata": {},
   "outputs": [],
   "source": [
    "person.__doc__"
   ]
  },
  {
   "cell_type": "code",
   "execution_count": 69,
   "id": "f8e5a29b",
   "metadata": {},
   "outputs": [],
   "source": [
    "## Creating a person class\n",
    "class person:\n",
    "    'This is a person class with all the person characteristics'\n",
    "    def __init__(self, name, age, gender):\n",
    "        self.name = name\n",
    "        self.age = age\n",
    "        self.gender = gender\n",
    "\n",
    "### Creating a person object\n",
    "p1 = person('Sam', 36, \"M\")"
   ]
  },
  {
   "cell_type": "code",
   "execution_count": 70,
   "id": "741f225b",
   "metadata": {},
   "outputs": [
    {
     "data": {
      "text/plain": [
       "'This is a person class with all the person characteristics'"
      ]
     },
     "execution_count": 70,
     "metadata": {},
     "output_type": "execute_result"
    }
   ],
   "source": [
    "person.__doc__"
   ]
  },
  {
   "cell_type": "code",
   "execution_count": 74,
   "id": "fb4b3e9b",
   "metadata": {},
   "outputs": [
    {
     "data": {
      "text/plain": [
       "'person'"
      ]
     },
     "execution_count": 74,
     "metadata": {},
     "output_type": "execute_result"
    }
   ],
   "source": [
    "person.__name__"
   ]
  },
  {
   "cell_type": "code",
   "execution_count": 75,
   "id": "2583d9e0",
   "metadata": {},
   "outputs": [
    {
     "data": {
      "text/plain": [
       "(object,)"
      ]
     },
     "execution_count": 75,
     "metadata": {},
     "output_type": "execute_result"
    }
   ],
   "source": [
    "person.__bases__"
   ]
  },
  {
   "cell_type": "code",
   "execution_count": 76,
   "id": "4b5559d6",
   "metadata": {},
   "outputs": [],
   "source": [
    "a = 10"
   ]
  },
  {
   "cell_type": "code",
   "execution_count": 77,
   "id": "89d0ea57",
   "metadata": {},
   "outputs": [],
   "source": [
    "del a"
   ]
  },
  {
   "cell_type": "code",
   "execution_count": 78,
   "id": "ad609f34",
   "metadata": {},
   "outputs": [
    {
     "ename": "NameError",
     "evalue": "name 'a' is not defined",
     "output_type": "error",
     "traceback": [
      "\u001b[1;31m---------------------------------------------------------------------------\u001b[0m",
      "\u001b[1;31mNameError\u001b[0m                                 Traceback (most recent call last)",
      "Input \u001b[1;32mIn [78]\u001b[0m, in \u001b[0;36m<cell line: 1>\u001b[1;34m()\u001b[0m\n\u001b[1;32m----> 1\u001b[0m \u001b[38;5;28mprint\u001b[39m(\u001b[43ma\u001b[49m)\n",
      "\u001b[1;31mNameError\u001b[0m: name 'a' is not defined"
     ]
    }
   ],
   "source": [
    "print(a)"
   ]
  },
  {
   "cell_type": "code",
   "execution_count": null,
   "id": "09e80986",
   "metadata": {},
   "outputs": [],
   "source": []
  }
 ],
 "metadata": {
  "kernelspec": {
   "display_name": "Python 3 (ipykernel)",
   "language": "python",
   "name": "python3"
  },
  "language_info": {
   "codemirror_mode": {
    "name": "ipython",
    "version": 3
   },
   "file_extension": ".py",
   "mimetype": "text/x-python",
   "name": "python",
   "nbconvert_exporter": "python",
   "pygments_lexer": "ipython3",
   "version": "3.9.12"
  }
 },
 "nbformat": 4,
 "nbformat_minor": 5
}
