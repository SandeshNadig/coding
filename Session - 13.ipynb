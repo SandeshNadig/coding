{
 "cells": [
  {
   "cell_type": "markdown",
   "id": "5441b525",
   "metadata": {},
   "source": [
    "## Variable Keyword Arguements\n",
    "\n",
    "- keyword arguements are always specified as **kwargs while defining the function.\n",
    "- kwargs are stored a dictionary"
   ]
  },
  {
   "cell_type": "code",
   "execution_count": 2,
   "id": "df3bcb5d",
   "metadata": {},
   "outputs": [
    {
     "name": "stdout",
     "output_type": "stream",
     "text": [
      "{'a': 1, 'b': 2}\n",
      "<class 'dict'>\n"
     ]
    }
   ],
   "source": [
    "def func(**kwargs):\n",
    "    print(kwargs)\n",
    "    print(type(kwargs))\n",
    "    \n",
    "func(a = 1, b =2)"
   ]
  },
  {
   "cell_type": "code",
   "execution_count": 3,
   "id": "dd1d7cdd",
   "metadata": {},
   "outputs": [
    {
     "name": "stdout",
     "output_type": "stream",
     "text": [
      "{'a': 1, 'b': 2, 'c': 3, 'd': 4}\n",
      "<class 'dict'>\n"
     ]
    }
   ],
   "source": [
    "func(a = 1, b = 2, c = 3, d = 4)"
   ]
  },
  {
   "cell_type": "code",
   "execution_count": 23,
   "id": "dd79a2c7",
   "metadata": {},
   "outputs": [
    {
     "name": "stdout",
     "output_type": "stream",
     "text": [
      "5 1 4\n"
     ]
    }
   ],
   "source": [
    "## Keyword Arguement\n",
    "\n",
    "def func1(a, b, c):\n",
    "    print(a, b, c)\n",
    "    \n",
    "func1(c = 4, b = 1, a = 5)"
   ]
  },
  {
   "cell_type": "code",
   "execution_count": 7,
   "id": "db94b601",
   "metadata": {},
   "outputs": [
    {
     "name": "stdout",
     "output_type": "stream",
     "text": [
      "{'a': 1, 'b': 42}\n",
      "<class 'dict'>\n"
     ]
    }
   ],
   "source": [
    "func(**{'a' : 1, 'b' : 42})"
   ]
  },
  {
   "cell_type": "code",
   "execution_count": 8,
   "id": "6cf4fb7c",
   "metadata": {},
   "outputs": [
    {
     "name": "stdout",
     "output_type": "stream",
     "text": [
      "{'a': 1, 'b': 42}\n",
      "<class 'dict'>\n"
     ]
    }
   ],
   "source": [
    "func(**dict(a = 1, b = 42))"
   ]
  },
  {
   "cell_type": "markdown",
   "id": "db182097",
   "metadata": {},
   "source": [
    "## Keyword Only Arguement"
   ]
  },
  {
   "cell_type": "code",
   "execution_count": 15,
   "id": "25bb140e",
   "metadata": {},
   "outputs": [
    {
     "name": "stdout",
     "output_type": "stream",
     "text": [
      "(1, 2, 3, 4, 5) 7\n"
     ]
    }
   ],
   "source": [
    "def kwo(*a, c):\n",
    "    print(a, c)\n",
    "\n",
    "kwo(1,2,3,4, 5, c= 7)"
   ]
  },
  {
   "cell_type": "code",
   "execution_count": 21,
   "id": "243562b4",
   "metadata": {},
   "outputs": [
    {
     "name": "stdout",
     "output_type": "stream",
     "text": [
      "10 20 30\n"
     ]
    }
   ],
   "source": [
    "##  positional arguements\n",
    "\n",
    "def func(a, b, c):\n",
    "    print(a, b, c)\n",
    "\n",
    "func(10, 20, 30)"
   ]
  },
  {
   "cell_type": "code",
   "execution_count": 13,
   "id": "f38f4d54",
   "metadata": {},
   "outputs": [
    {
     "name": "stdout",
     "output_type": "stream",
     "text": [
      "(10, 20, 30, 40, 50, 60)\n"
     ]
    }
   ],
   "source": [
    "## Variable positional arguement\n",
    "def func(*a):\n",
    "    print(a)\n",
    "\n",
    "func(10, 20, 30, 40, 50, 60)"
   ]
  },
  {
   "cell_type": "code",
   "execution_count": 16,
   "id": "1209a047",
   "metadata": {},
   "outputs": [
    {
     "name": "stdout",
     "output_type": "stream",
     "text": [
      "(1, 2, 3, 4, 5) 7\n"
     ]
    }
   ],
   "source": [
    "def kwo(*a, c):\n",
    "    print(a, c)\n",
    "\n",
    "kwo(1,2,3,4, 5, c= 7)"
   ]
  },
  {
   "cell_type": "code",
   "execution_count": 18,
   "id": "fd1461e0",
   "metadata": {},
   "outputs": [
    {
     "name": "stdout",
     "output_type": "stream",
     "text": [
      "() 7\n"
     ]
    }
   ],
   "source": [
    "kwo(c = 7)"
   ]
  },
  {
   "cell_type": "code",
   "execution_count": 20,
   "id": "f01a78cf",
   "metadata": {},
   "outputs": [
    {
     "name": "stdout",
     "output_type": "stream",
     "text": [
      "(9,) 11\n"
     ]
    }
   ],
   "source": [
    "kwo(9, c=11)"
   ]
  },
  {
   "cell_type": "markdown",
   "id": "c96d49c0",
   "metadata": {},
   "source": [
    "## Default Parameter\n",
    "\n",
    "- uses the default value to print in the output when the user does not specify anything while calling the function.\n",
    "- If the user provides a different value then the user provided value is considered and not the default value."
   ]
  },
  {
   "cell_type": "code",
   "execution_count": 24,
   "id": "1c63255b",
   "metadata": {},
   "outputs": [],
   "source": [
    "def my_func(country = 'India'):\n",
    "    print(country)"
   ]
  },
  {
   "cell_type": "code",
   "execution_count": 25,
   "id": "4542d329",
   "metadata": {},
   "outputs": [
    {
     "name": "stdout",
     "output_type": "stream",
     "text": [
      "Norway\n"
     ]
    }
   ],
   "source": [
    "my_func('Norway')"
   ]
  },
  {
   "cell_type": "code",
   "execution_count": 26,
   "id": "3658ba0f",
   "metadata": {},
   "outputs": [
    {
     "name": "stdout",
     "output_type": "stream",
     "text": [
      "China\n"
     ]
    }
   ],
   "source": [
    "my_func('China')"
   ]
  },
  {
   "cell_type": "code",
   "execution_count": 27,
   "id": "49b13d4a",
   "metadata": {},
   "outputs": [
    {
     "name": "stdout",
     "output_type": "stream",
     "text": [
      "India\n"
     ]
    }
   ],
   "source": [
    "my_func()"
   ]
  },
  {
   "cell_type": "markdown",
   "id": "0e4c2d67",
   "metadata": {},
   "source": [
    "## Return values of a function\n",
    "\n",
    "- using the return keyword you are returning a value back to the function.\n",
    "- if no return keyword is used the default return value in python is none."
   ]
  },
  {
   "cell_type": "code",
   "execution_count": 28,
   "id": "a0fbba8c",
   "metadata": {},
   "outputs": [
    {
     "name": "stdout",
     "output_type": "stream",
     "text": [
      "Europe\n"
     ]
    }
   ],
   "source": [
    "def my_func(country):\n",
    "    print(country)\n",
    "    \n",
    "my_func('Europe')"
   ]
  },
  {
   "cell_type": "code",
   "execution_count": 29,
   "id": "3013429b",
   "metadata": {},
   "outputs": [
    {
     "data": {
      "text/plain": [
       "'Europe'"
      ]
     },
     "execution_count": 29,
     "metadata": {},
     "output_type": "execute_result"
    }
   ],
   "source": [
    "def my_func(country):\n",
    "    return country\n",
    "    \n",
    "my_func('Europe')"
   ]
  },
  {
   "cell_type": "code",
   "execution_count": 30,
   "id": "46906fc3",
   "metadata": {},
   "outputs": [
    {
     "data": {
      "text/plain": [
       "15"
      ]
     },
     "execution_count": 30,
     "metadata": {},
     "output_type": "execute_result"
    }
   ],
   "source": [
    "def my_function(x):\n",
    "    return x * 5\n",
    "\n",
    "my_function(3)"
   ]
  },
  {
   "cell_type": "code",
   "execution_count": 31,
   "id": "e3106aa0",
   "metadata": {},
   "outputs": [
    {
     "data": {
      "text/plain": [
       "25"
      ]
     },
     "execution_count": 31,
     "metadata": {},
     "output_type": "execute_result"
    }
   ],
   "source": [
    "my_function(5)"
   ]
  },
  {
   "cell_type": "code",
   "execution_count": 32,
   "id": "fadfd99a",
   "metadata": {},
   "outputs": [
    {
     "name": "stdout",
     "output_type": "stream",
     "text": [
      "15\n"
     ]
    }
   ],
   "source": [
    "def my_function(x):\n",
    "    print(x*5) \n",
    "\n",
    "my_function(3)"
   ]
  },
  {
   "cell_type": "markdown",
   "id": "d14c7703",
   "metadata": {},
   "source": [
    "## Returning multiple values from the function"
   ]
  },
  {
   "cell_type": "code",
   "execution_count": 34,
   "id": "cb4f985a",
   "metadata": {},
   "outputs": [
    {
     "data": {
      "text/plain": [
       "(13, 7, 30)"
      ]
     },
     "execution_count": 34,
     "metadata": {},
     "output_type": "execute_result"
    }
   ],
   "source": [
    "def my_function(a, b):\n",
    "    x = a + b\n",
    "    y = a - b\n",
    "    z = a * b\n",
    "    return (x,y,z)\n",
    "\n",
    "my_function(10, 3)"
   ]
  },
  {
   "cell_type": "code",
   "execution_count": null,
   "id": "6333a014",
   "metadata": {},
   "outputs": [],
   "source": []
  }
 ],
 "metadata": {
  "kernelspec": {
   "display_name": "Python 3 (ipykernel)",
   "language": "python",
   "name": "python3"
  },
  "language_info": {
   "codemirror_mode": {
    "name": "ipython",
    "version": 3
   },
   "file_extension": ".py",
   "mimetype": "text/x-python",
   "name": "python",
   "nbconvert_exporter": "python",
   "pygments_lexer": "ipython3",
   "version": "3.9.12"
  }
 },
 "nbformat": 4,
 "nbformat_minor": 5
}
