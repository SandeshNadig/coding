{
 "cells": [
  {
   "cell_type": "markdown",
   "id": "d74afa08",
   "metadata": {},
   "source": [
    "## Constructor:\n",
    "\n",
    "1. Constructors start with double underscores(__)\n",
    "2. In the below example __init__ is a constructor\n",
    "3. Paramaterized constructor - contains parameters\n",
    "4. Non paramaterized constructor - does not contain any parameters"
   ]
  },
  {
   "cell_type": "code",
   "execution_count": 1,
   "id": "7b94148e",
   "metadata": {},
   "outputs": [],
   "source": [
    "class person():\n",
    "    def __init__(self, name, age):\n",
    "        self.name = name\n",
    "        self.age = age\n",
    "    \n",
    "p1 = person('John', 25)"
   ]
  },
  {
   "cell_type": "code",
   "execution_count": 2,
   "id": "5f353e8d",
   "metadata": {},
   "outputs": [
    {
     "data": {
      "text/plain": [
       "'John'"
      ]
     },
     "execution_count": 2,
     "metadata": {},
     "output_type": "execute_result"
    }
   ],
   "source": [
    "p1.name"
   ]
  },
  {
   "cell_type": "code",
   "execution_count": 5,
   "id": "4b7e80c1",
   "metadata": {},
   "outputs": [],
   "source": [
    "class MyClass():\n",
    "    def __init__(self):\n",
    "        pass\n",
    "    x = 5\n",
    "\n",
    "c = MyClass()"
   ]
  },
  {
   "cell_type": "code",
   "execution_count": 6,
   "id": "b2166fcd",
   "metadata": {},
   "outputs": [
    {
     "data": {
      "text/plain": [
       "5"
      ]
     },
     "execution_count": 6,
     "metadata": {},
     "output_type": "execute_result"
    }
   ],
   "source": [
    "c.x"
   ]
  },
  {
   "cell_type": "code",
   "execution_count": 7,
   "id": "d1111107",
   "metadata": {},
   "outputs": [],
   "source": [
    "class MyClass():\n",
    "    x = 5\n",
    "\n",
    "c = MyClass()"
   ]
  },
  {
   "cell_type": "code",
   "execution_count": 8,
   "id": "a9bc2712",
   "metadata": {},
   "outputs": [
    {
     "data": {
      "text/plain": [
       "5"
      ]
     },
     "execution_count": 8,
     "metadata": {},
     "output_type": "execute_result"
    }
   ],
   "source": [
    "c.x"
   ]
  },
  {
   "cell_type": "code",
   "execution_count": 11,
   "id": "da567ee9",
   "metadata": {},
   "outputs": [
    {
     "name": "stdout",
     "output_type": "stream",
     "text": [
      "Edubridge\n"
     ]
    }
   ],
   "source": [
    "class Edubridge():\n",
    "    \n",
    "    ##Default constructor\n",
    "    def __init__(self):\n",
    "        self.edu = 'Edubridge'\n",
    "        \n",
    "    ## a method for printing data members\n",
    "    def print_Edu(self):\n",
    "        print(self.edu)\n",
    "        \n",
    "## Creating an object of the class\n",
    "obj = Edubridge()\n",
    "obj.print_Edu()"
   ]
  },
  {
   "cell_type": "markdown",
   "id": "7e33310c",
   "metadata": {},
   "source": [
    "## Parameterized Constructor"
   ]
  },
  {
   "cell_type": "code",
   "execution_count": 14,
   "id": "1c32f42d",
   "metadata": {},
   "outputs": [
    {
     "name": "stdout",
     "output_type": "stream",
     "text": [
      "This is a parameterized constructor\n"
     ]
    }
   ],
   "source": [
    "class Teacher():\n",
    "    \n",
    "    ## Parameterized Constructor\n",
    "    def __init__(self, name):\n",
    "        print('This is a parameterized constructor')\n",
    "        self.name = name\n",
    "    \n",
    "    def display(self):\n",
    "        print('Welcome:', self.name)\n",
    "        \n",
    "t1 = Teacher('Sam')"
   ]
  },
  {
   "cell_type": "code",
   "execution_count": 16,
   "id": "3c5f6aca",
   "metadata": {},
   "outputs": [
    {
     "name": "stdout",
     "output_type": "stream",
     "text": [
      "Welcome: Sam\n"
     ]
    }
   ],
   "source": [
    "t1.display()"
   ]
  },
  {
   "cell_type": "code",
   "execution_count": 17,
   "id": "7d72ca9b",
   "metadata": {},
   "outputs": [
    {
     "data": {
      "text/plain": [
       "'Sam'"
      ]
     },
     "execution_count": 17,
     "metadata": {},
     "output_type": "execute_result"
    }
   ],
   "source": [
    "t1.name"
   ]
  },
  {
   "cell_type": "markdown",
   "id": "630cc34c",
   "metadata": {},
   "source": [
    "## Non parameterized constructor"
   ]
  },
  {
   "cell_type": "code",
   "execution_count": 19,
   "id": "9b8f779b",
   "metadata": {},
   "outputs": [
    {
     "name": "stdout",
     "output_type": "stream",
     "text": [
      "This is a non parameterized constructor\n"
     ]
    }
   ],
   "source": [
    "class Teacher():\n",
    "    \n",
    "    ## Non Parameterized Constructor\n",
    "    def __init__(self):\n",
    "        print('This is a non parameterized constructor')\n",
    "    \n",
    "    def display(self, name):\n",
    "        print('Welcome:', name)\n",
    "        \n",
    "t1 = Teacher()"
   ]
  },
  {
   "cell_type": "code",
   "execution_count": 20,
   "id": "974b3660",
   "metadata": {},
   "outputs": [
    {
     "name": "stdout",
     "output_type": "stream",
     "text": [
      "Welcome: John\n"
     ]
    }
   ],
   "source": [
    "t1.display('John')"
   ]
  },
  {
   "cell_type": "markdown",
   "id": "a1b80c04",
   "metadata": {},
   "source": [
    "## Inheritance\n",
    "\n",
    "1. Parent Class or Base Class - The primary class \n",
    "2. Child class - The class which derives properties from the parent class\n"
   ]
  },
  {
   "cell_type": "code",
   "execution_count": 21,
   "id": "24016ec5",
   "metadata": {},
   "outputs": [],
   "source": [
    "class person():\n",
    "    def __init__(self, fname, lname):\n",
    "        self.firstname = fname\n",
    "        self.lastname = lname\n",
    "        \n",
    "    def printname(self):\n",
    "        print(self.firstname, self.lastname)\n",
    "            \n",
    "x = person('Sam', 'Mathew')"
   ]
  },
  {
   "cell_type": "code",
   "execution_count": 22,
   "id": "2b4ca63b",
   "metadata": {},
   "outputs": [
    {
     "name": "stdout",
     "output_type": "stream",
     "text": [
      "Sam Mathew\n"
     ]
    }
   ],
   "source": [
    "x.printname()"
   ]
  },
  {
   "cell_type": "code",
   "execution_count": 28,
   "id": "512fa3d5",
   "metadata": {},
   "outputs": [],
   "source": [
    "class student(person):\n",
    "    pass"
   ]
  },
  {
   "cell_type": "code",
   "execution_count": 24,
   "id": "05d20d1c",
   "metadata": {},
   "outputs": [],
   "source": [
    "y = student('anil', 'sharma')"
   ]
  },
  {
   "cell_type": "code",
   "execution_count": 25,
   "id": "756c788d",
   "metadata": {},
   "outputs": [
    {
     "name": "stdout",
     "output_type": "stream",
     "text": [
      "anil sharma\n"
     ]
    }
   ],
   "source": [
    "y.printname()"
   ]
  },
  {
   "cell_type": "markdown",
   "id": "4fed4e82",
   "metadata": {},
   "source": [
    "## Multilevel inheritance\n",
    "\n",
    "- The inheritance of a child class from another child class is called as multilevel inheritance."
   ]
  },
  {
   "cell_type": "code",
   "execution_count": 29,
   "id": "37ba94a4",
   "metadata": {},
   "outputs": [],
   "source": [
    "class Employee():\n",
    "    def Name(self):\n",
    "        print('Employee name : Anil')\n",
    "    \n",
    "class Salary(Employee):\n",
    "    def Salary(self):\n",
    "        print('Salary: 95000')\n",
    "\n",
    "class Designation(Salary):\n",
    "    def designation(self):\n",
    "        print('Designation is : Data Scientist')\n",
    "        \n",
    "des = Designation()"
   ]
  },
  {
   "cell_type": "code",
   "execution_count": 30,
   "id": "f49ae658",
   "metadata": {},
   "outputs": [
    {
     "name": "stdout",
     "output_type": "stream",
     "text": [
      "Designation is : Data Scientist\n"
     ]
    }
   ],
   "source": [
    "des.designation()"
   ]
  },
  {
   "cell_type": "code",
   "execution_count": 32,
   "id": "e577eb07",
   "metadata": {},
   "outputs": [
    {
     "name": "stdout",
     "output_type": "stream",
     "text": [
      "Salary: 95000\n"
     ]
    }
   ],
   "source": [
    "des.Salary()"
   ]
  },
  {
   "cell_type": "code",
   "execution_count": 34,
   "id": "10b8d9b1",
   "metadata": {},
   "outputs": [
    {
     "name": "stdout",
     "output_type": "stream",
     "text": [
      "Employee name : Anil\n"
     ]
    }
   ],
   "source": [
    "des.Name()"
   ]
  },
  {
   "cell_type": "markdown",
   "id": "b660f399",
   "metadata": {},
   "source": [
    "## Multiple Inheritance\n",
    "\n",
    "- The inheritance of a child class from more than one parent class is called multiple inheritance"
   ]
  },
  {
   "cell_type": "code",
   "execution_count": 41,
   "id": "ca4dd61e",
   "metadata": {},
   "outputs": [],
   "source": [
    "class Employee():\n",
    "    def Name(self):\n",
    "        print('Employee name : Anil')\n",
    "    \n",
    "class Salary():\n",
    "    def Salary(self):\n",
    "        print('Salary: 95000')\n",
    "\n",
    "class Designation(Employee, Salary):\n",
    "    def designation(self):\n",
    "        print('Designation is : Data Scientist')\n",
    "        \n",
    "des = Designation()"
   ]
  },
  {
   "cell_type": "code",
   "execution_count": 43,
   "id": "d99c27bd",
   "metadata": {},
   "outputs": [
    {
     "name": "stdout",
     "output_type": "stream",
     "text": [
      "Salary: 95000\n"
     ]
    }
   ],
   "source": [
    "des.Salary()"
   ]
  },
  {
   "cell_type": "code",
   "execution_count": 44,
   "id": "57637fe6",
   "metadata": {},
   "outputs": [
    {
     "name": "stdout",
     "output_type": "stream",
     "text": [
      "Employee name : Anil\n"
     ]
    }
   ],
   "source": [
    "des.Name()"
   ]
  },
  {
   "cell_type": "markdown",
   "id": "7a4c93fb",
   "metadata": {},
   "source": [
    "## Super function:\n",
    "\n",
    "- The super() function is used to give access to methods and properties of a parent or sibling class.\n",
    "- The super() function return an object that represents the parent class."
   ]
  },
  {
   "cell_type": "code",
   "execution_count": 45,
   "id": "c2a32cb9",
   "metadata": {},
   "outputs": [],
   "source": [
    "class parent():\n",
    "    def __init__(self, txt):\n",
    "        self.message = txt\n",
    "    \n",
    "    def printmessage(self):\n",
    "        print(self.message)\n",
    "    \n",
    "class Child(parent):\n",
    "    def __init__(self, txt):\n",
    "        super().__init__(txt)\n",
    "        \n",
    "a = Child('Hello, and Welcome')"
   ]
  },
  {
   "cell_type": "code",
   "execution_count": 46,
   "id": "3643c47c",
   "metadata": {},
   "outputs": [
    {
     "name": "stdout",
     "output_type": "stream",
     "text": [
      "Hello, and Welcome\n"
     ]
    }
   ],
   "source": [
    "a.printmessage()"
   ]
  },
  {
   "cell_type": "markdown",
   "id": "eaef0cbe",
   "metadata": {},
   "source": [
    "## Polymorphism\n",
    "\n",
    "- Anything(like function, class, etc) which is having many forms"
   ]
  },
  {
   "cell_type": "code",
   "execution_count": 47,
   "id": "64af21ac",
   "metadata": {},
   "outputs": [],
   "source": [
    "### In built polymorphic functions"
   ]
  },
  {
   "cell_type": "code",
   "execution_count": 48,
   "id": "683d5671",
   "metadata": {},
   "outputs": [
    {
     "data": {
      "text/plain": [
       "9"
      ]
     },
     "execution_count": 48,
     "metadata": {},
     "output_type": "execute_result"
    }
   ],
   "source": [
    "len('edubridge')"
   ]
  },
  {
   "cell_type": "code",
   "execution_count": 49,
   "id": "c412bb7e",
   "metadata": {},
   "outputs": [
    {
     "data": {
      "text/plain": [
       "5"
      ]
     },
     "execution_count": 49,
     "metadata": {},
     "output_type": "execute_result"
    }
   ],
   "source": [
    "lst = [10, 20, 30, 40, 50]\n",
    "len(lst)"
   ]
  },
  {
   "cell_type": "code",
   "execution_count": 50,
   "id": "e7f2d327",
   "metadata": {},
   "outputs": [
    {
     "data": {
      "text/plain": [
       "str"
      ]
     },
     "execution_count": 50,
     "metadata": {},
     "output_type": "execute_result"
    }
   ],
   "source": [
    "type('s')"
   ]
  },
  {
   "cell_type": "code",
   "execution_count": 51,
   "id": "9c7fd4b2",
   "metadata": {},
   "outputs": [
    {
     "data": {
      "text/plain": [
       "int"
      ]
     },
     "execution_count": 51,
     "metadata": {},
     "output_type": "execute_result"
    }
   ],
   "source": [
    "type(10)"
   ]
  },
  {
   "cell_type": "code",
   "execution_count": 52,
   "id": "c095f45a",
   "metadata": {},
   "outputs": [
    {
     "data": {
      "text/plain": [
       "float"
      ]
     },
     "execution_count": 52,
     "metadata": {},
     "output_type": "execute_result"
    }
   ],
   "source": [
    "type(10.5)"
   ]
  },
  {
   "cell_type": "code",
   "execution_count": 53,
   "id": "9658abcd",
   "metadata": {},
   "outputs": [
    {
     "data": {
      "text/plain": [
       "list"
      ]
     },
     "execution_count": 53,
     "metadata": {},
     "output_type": "execute_result"
    }
   ],
   "source": [
    "type(lst)"
   ]
  },
  {
   "cell_type": "code",
   "execution_count": 54,
   "id": "9004a476",
   "metadata": {},
   "outputs": [],
   "source": [
    "## User Defined polymorphism"
   ]
  },
  {
   "cell_type": "code",
   "execution_count": 55,
   "id": "3f9f49d3",
   "metadata": {},
   "outputs": [
    {
     "data": {
      "text/plain": [
       "12"
      ]
     },
     "execution_count": 55,
     "metadata": {},
     "output_type": "execute_result"
    }
   ],
   "source": [
    "def add(x, y):\n",
    "    return x + y\n",
    "\n",
    "add(5, 7)"
   ]
  },
  {
   "cell_type": "code",
   "execution_count": 56,
   "id": "95fcbe30",
   "metadata": {},
   "outputs": [
    {
     "data": {
      "text/plain": [
       "'python programming'"
      ]
     },
     "execution_count": 56,
     "metadata": {},
     "output_type": "execute_result"
    }
   ],
   "source": [
    "add('python', ' programming')"
   ]
  },
  {
   "cell_type": "code",
   "execution_count": 57,
   "id": "bbdd617f",
   "metadata": {},
   "outputs": [
    {
     "data": {
      "text/plain": [
       "[1, 2, 3, 10, 20, 30]"
      ]
     },
     "execution_count": 57,
     "metadata": {},
     "output_type": "execute_result"
    }
   ],
   "source": [
    "add([1,2,3], [10,20,30])"
   ]
  },
  {
   "cell_type": "code",
   "execution_count": 59,
   "id": "25873c96",
   "metadata": {},
   "outputs": [
    {
     "data": {
      "text/plain": [
       "float"
      ]
     },
     "execution_count": 59,
     "metadata": {},
     "output_type": "execute_result"
    }
   ],
   "source": [
    "a =10.5 \n",
    "type(a)"
   ]
  },
  {
   "cell_type": "code",
   "execution_count": 60,
   "id": "ef8d8724",
   "metadata": {},
   "outputs": [
    {
     "data": {
      "text/plain": [
       "10"
      ]
     },
     "execution_count": 60,
     "metadata": {},
     "output_type": "execute_result"
    }
   ],
   "source": [
    "int(a)"
   ]
  },
  {
   "cell_type": "code",
   "execution_count": null,
   "id": "5e76d95d",
   "metadata": {},
   "outputs": [],
   "source": []
  }
 ],
 "metadata": {
  "kernelspec": {
   "display_name": "Python 3 (ipykernel)",
   "language": "python",
   "name": "python3"
  },
  "language_info": {
   "codemirror_mode": {
    "name": "ipython",
    "version": 3
   },
   "file_extension": ".py",
   "mimetype": "text/x-python",
   "name": "python",
   "nbconvert_exporter": "python",
   "pygments_lexer": "ipython3",
   "version": "3.9.12"
  }
 },
 "nbformat": 4,
 "nbformat_minor": 5
}
