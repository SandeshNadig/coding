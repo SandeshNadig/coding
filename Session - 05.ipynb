{
 "cells": [
  {
   "cell_type": "markdown",
   "id": "42253c6d",
   "metadata": {},
   "source": [
    "# Dictionary methods"
   ]
  },
  {
   "cell_type": "code",
   "execution_count": 1,
   "id": "84055fee",
   "metadata": {},
   "outputs": [
    {
     "name": "stdout",
     "output_type": "stream",
     "text": [
      "{'brand': 'ford', 'model': 'mustang', 'year': 1964}\n"
     ]
    }
   ],
   "source": [
    "vehicle = {'brand' : 'ford', 'model' : 'mustang', 'year' : 1964}\n",
    "print(vehicle)"
   ]
  },
  {
   "cell_type": "code",
   "execution_count": 2,
   "id": "76ae58e3",
   "metadata": {},
   "outputs": [
    {
     "data": {
      "text/plain": [
       "dict"
      ]
     },
     "execution_count": 2,
     "metadata": {},
     "output_type": "execute_result"
    }
   ],
   "source": [
    "type(vehicle)"
   ]
  },
  {
   "cell_type": "code",
   "execution_count": 3,
   "id": "34c5fe83",
   "metadata": {},
   "outputs": [
    {
     "data": {
      "text/plain": [
       "'mustang'"
      ]
     },
     "execution_count": 3,
     "metadata": {},
     "output_type": "execute_result"
    }
   ],
   "source": [
    "vehicle['model']"
   ]
  },
  {
   "cell_type": "code",
   "execution_count": 4,
   "id": "d94d1fd0",
   "metadata": {},
   "outputs": [
    {
     "data": {
      "text/plain": [
       "1964"
      ]
     },
     "execution_count": 4,
     "metadata": {},
     "output_type": "execute_result"
    }
   ],
   "source": [
    "vehicle.get('year')"
   ]
  },
  {
   "cell_type": "code",
   "execution_count": 5,
   "id": "0270791b",
   "metadata": {},
   "outputs": [
    {
     "name": "stdout",
     "output_type": "stream",
     "text": [
      "{'brand': 'ford', 'model': 'mustang', 'year': 1964, 'color': 'red'}\n"
     ]
    }
   ],
   "source": [
    "vehicle['color'] = 'red'\n",
    "print(vehicle)"
   ]
  },
  {
   "cell_type": "raw",
   "id": "81c1b40c",
   "metadata": {},
   "source": []
  },
  {
   "cell_type": "code",
   "execution_count": 6,
   "id": "9c9a6f57",
   "metadata": {},
   "outputs": [
    {
     "name": "stdout",
     "output_type": "stream",
     "text": [
      "{'brand': 'ford', 'model': 'mustang', 'year': 1964, 'color': 'red', 'modelno': '1010xa32'}\n"
     ]
    }
   ],
   "source": [
    "vehicle['modelno'] = '1010xa32'\n",
    "print(vehicle)"
   ]
  },
  {
   "cell_type": "code",
   "execution_count": 7,
   "id": "f5113af6",
   "metadata": {},
   "outputs": [
    {
     "data": {
      "text/plain": [
       "5"
      ]
     },
     "execution_count": 7,
     "metadata": {},
     "output_type": "execute_result"
    }
   ],
   "source": [
    "len(vehicle)"
   ]
  },
  {
   "cell_type": "code",
   "execution_count": 8,
   "id": "f0b053ea",
   "metadata": {},
   "outputs": [
    {
     "name": "stdout",
     "output_type": "stream",
     "text": [
      "{'brand': 'ford', 'model': 'mustang', 'color': 'red', 'modelno': '1010xa32'}\n"
     ]
    }
   ],
   "source": [
    "vehicle.pop('year')\n",
    "print(vehicle)"
   ]
  },
  {
   "cell_type": "code",
   "execution_count": 9,
   "id": "d230a81a",
   "metadata": {},
   "outputs": [
    {
     "ename": "TypeError",
     "evalue": "pop expected at least 1 argument, got 0",
     "output_type": "error",
     "traceback": [
      "\u001b[1;31m---------------------------------------------------------------------------\u001b[0m",
      "\u001b[1;31mTypeError\u001b[0m                                 Traceback (most recent call last)",
      "Input \u001b[1;32mIn [9]\u001b[0m, in \u001b[0;36m<cell line: 1>\u001b[1;34m()\u001b[0m\n\u001b[1;32m----> 1\u001b[0m \u001b[43mvehicle\u001b[49m\u001b[38;5;241;43m.\u001b[39;49m\u001b[43mpop\u001b[49m\u001b[43m(\u001b[49m\u001b[43m)\u001b[49m\n\u001b[0;32m      2\u001b[0m \u001b[38;5;28mprint\u001b[39m(vehicle)\n",
      "\u001b[1;31mTypeError\u001b[0m: pop expected at least 1 argument, got 0"
     ]
    }
   ],
   "source": [
    "vehicle.pop()\n",
    "print(vehicle)"
   ]
  },
  {
   "cell_type": "code",
   "execution_count": 10,
   "id": "35f0beeb",
   "metadata": {},
   "outputs": [
    {
     "name": "stdout",
     "output_type": "stream",
     "text": [
      "{'brand': 'ford', 'model': 'mustang', 'color': 'red'}\n"
     ]
    }
   ],
   "source": [
    "vehicle.popitem()\n",
    "print(vehicle)"
   ]
  },
  {
   "cell_type": "code",
   "execution_count": 11,
   "id": "a27e40e5",
   "metadata": {},
   "outputs": [
    {
     "name": "stdout",
     "output_type": "stream",
     "text": [
      "{'brand': 'ford', 'color': 'red'}\n"
     ]
    }
   ],
   "source": [
    "del vehicle['model']\n",
    "print(vehicle)"
   ]
  },
  {
   "cell_type": "code",
   "execution_count": 12,
   "id": "5e971137",
   "metadata": {},
   "outputs": [
    {
     "ename": "NameError",
     "evalue": "name 'vehicle' is not defined",
     "output_type": "error",
     "traceback": [
      "\u001b[1;31m---------------------------------------------------------------------------\u001b[0m",
      "\u001b[1;31mNameError\u001b[0m                                 Traceback (most recent call last)",
      "Input \u001b[1;32mIn [12]\u001b[0m, in \u001b[0;36m<cell line: 2>\u001b[1;34m()\u001b[0m\n\u001b[0;32m      1\u001b[0m \u001b[38;5;28;01mdel\u001b[39;00m vehicle\n\u001b[1;32m----> 2\u001b[0m \u001b[38;5;28mprint\u001b[39m(\u001b[43mvehicle\u001b[49m)\n",
      "\u001b[1;31mNameError\u001b[0m: name 'vehicle' is not defined"
     ]
    }
   ],
   "source": [
    "del vehicle\n",
    "print(vehicle)"
   ]
  },
  {
   "cell_type": "code",
   "execution_count": 13,
   "id": "9b162513",
   "metadata": {},
   "outputs": [
    {
     "name": "stdout",
     "output_type": "stream",
     "text": [
      "{'brand': 'ford', 'model': 'mustang', 'year': 1964}\n"
     ]
    }
   ],
   "source": [
    "vehicle = {'brand' : 'ford', 'model' : 'mustang', 'year' : 1964}\n",
    "print(vehicle)"
   ]
  },
  {
   "cell_type": "code",
   "execution_count": 14,
   "id": "a1ce0778",
   "metadata": {},
   "outputs": [
    {
     "name": "stdout",
     "output_type": "stream",
     "text": [
      "{}\n"
     ]
    }
   ],
   "source": [
    "vehicle.clear()\n",
    "print(vehicle)"
   ]
  },
  {
   "cell_type": "markdown",
   "id": "cb0f405d",
   "metadata": {},
   "source": [
    "## Empty Dictionary"
   ]
  },
  {
   "cell_type": "code",
   "execution_count": 15,
   "id": "7cf9e156",
   "metadata": {},
   "outputs": [
    {
     "name": "stdout",
     "output_type": "stream",
     "text": [
      "{}\n"
     ]
    }
   ],
   "source": [
    "d = {}\n",
    "print(d)"
   ]
  },
  {
   "cell_type": "code",
   "execution_count": 27,
   "id": "3a1893a7",
   "metadata": {},
   "outputs": [
    {
     "name": "stdout",
     "output_type": "stream",
     "text": [
      "{'keys': [1, 2, 3], 'values': [4, 5, 6]}\n"
     ]
    }
   ],
   "source": [
    "a = [1,2,3]\n",
    "b = [4,5,6]\n",
    "dict1 = dict(keys = a, values = b)\n",
    "print(dict1)"
   ]
  },
  {
   "cell_type": "code",
   "execution_count": 28,
   "id": "bd6fa803",
   "metadata": {},
   "outputs": [
    {
     "name": "stdout",
     "output_type": "stream",
     "text": [
      "{}\n"
     ]
    }
   ],
   "source": [
    "a = dict()\n",
    "print(a)"
   ]
  },
  {
   "cell_type": "code",
   "execution_count": 17,
   "id": "cd5fc804",
   "metadata": {},
   "outputs": [
    {
     "name": "stdout",
     "output_type": "stream",
     "text": [
      "[]\n"
     ]
    }
   ],
   "source": [
    "l = []\n",
    "print(l)"
   ]
  },
  {
   "cell_type": "code",
   "execution_count": 18,
   "id": "526c94d1",
   "metadata": {},
   "outputs": [
    {
     "data": {
      "text/plain": [
       "list"
      ]
     },
     "execution_count": 18,
     "metadata": {},
     "output_type": "execute_result"
    }
   ],
   "source": [
    "type(l)"
   ]
  },
  {
   "cell_type": "code",
   "execution_count": 19,
   "id": "958f5aad",
   "metadata": {},
   "outputs": [
    {
     "name": "stdout",
     "output_type": "stream",
     "text": [
      "()\n"
     ]
    }
   ],
   "source": [
    "tup = ()\n",
    "print(tup)"
   ]
  },
  {
   "cell_type": "code",
   "execution_count": 20,
   "id": "5e0b26be",
   "metadata": {},
   "outputs": [
    {
     "data": {
      "text/plain": [
       "tuple"
      ]
     },
     "execution_count": 20,
     "metadata": {},
     "output_type": "execute_result"
    }
   ],
   "source": [
    "type(tup)"
   ]
  },
  {
   "cell_type": "code",
   "execution_count": 22,
   "id": "6d2a5f04",
   "metadata": {},
   "outputs": [
    {
     "data": {
      "text/plain": [
       "''"
      ]
     },
     "execution_count": 22,
     "metadata": {},
     "output_type": "execute_result"
    }
   ],
   "source": [
    "s = ''\n",
    "s"
   ]
  },
  {
   "cell_type": "code",
   "execution_count": 29,
   "id": "db6d4c55",
   "metadata": {},
   "outputs": [
    {
     "ename": "SyntaxError",
     "evalue": "invalid syntax (922538463.py, line 1)",
     "output_type": "error",
     "traceback": [
      "\u001b[1;36m  Input \u001b[1;32mIn [29]\u001b[1;36m\u001b[0m\n\u001b[1;33m    d1 = dict{}\u001b[0m\n\u001b[1;37m             ^\u001b[0m\n\u001b[1;31mSyntaxError\u001b[0m\u001b[1;31m:\u001b[0m invalid syntax\n"
     ]
    }
   ],
   "source": [
    "d1 = dict{}"
   ]
  },
  {
   "cell_type": "code",
   "execution_count": 30,
   "id": "655a631e",
   "metadata": {},
   "outputs": [
    {
     "name": "stdout",
     "output_type": "stream",
     "text": [
      "{}\n"
     ]
    }
   ],
   "source": [
    "d1 = dict()\n",
    "print(d1)"
   ]
  },
  {
   "cell_type": "markdown",
   "id": "e3164b2a",
   "metadata": {},
   "source": [
    "## Sets\n",
    "\n",
    " - are unodered means no indexing present hence the output will always be printed in a random order.\n",
    " - the elements of the set are always unique\n",
    " - Sets do not support indexing and slicing"
   ]
  },
  {
   "cell_type": "code",
   "execution_count": 43,
   "id": "4e0b4839",
   "metadata": {},
   "outputs": [
    {
     "name": "stdout",
     "output_type": "stream",
     "text": [
      "{50, 'anant', 20, 'apple', 40}\n"
     ]
    }
   ],
   "source": [
    "st = {20, 40, 50, 'anant', 'apple'}\n",
    "print(st)"
   ]
  },
  {
   "cell_type": "code",
   "execution_count": 42,
   "id": "1d1ce4ec",
   "metadata": {},
   "outputs": [
    {
     "data": {
      "text/plain": [
       "set"
      ]
     },
     "execution_count": 42,
     "metadata": {},
     "output_type": "execute_result"
    }
   ],
   "source": [
    "type(st)"
   ]
  },
  {
   "cell_type": "code",
   "execution_count": 44,
   "id": "e944464c",
   "metadata": {},
   "outputs": [
    {
     "name": "stdout",
     "output_type": "stream",
     "text": [
      "{35, 'anant', 20, 45}\n"
     ]
    }
   ],
   "source": [
    "st = {'anant', 20, 'anant', 35, 20, 45, 20}\n",
    "print(st)"
   ]
  },
  {
   "cell_type": "code",
   "execution_count": 45,
   "id": "c6166658",
   "metadata": {
    "scrolled": true
   },
   "outputs": [
    {
     "data": {
      "text/plain": [
       "4"
      ]
     },
     "execution_count": 45,
     "metadata": {},
     "output_type": "execute_result"
    }
   ],
   "source": [
    "len(st)"
   ]
  },
  {
   "cell_type": "code",
   "execution_count": 46,
   "id": "c20fa94a",
   "metadata": {},
   "outputs": [
    {
     "ename": "TypeError",
     "evalue": "'set' object is not subscriptable",
     "output_type": "error",
     "traceback": [
      "\u001b[1;31m---------------------------------------------------------------------------\u001b[0m",
      "\u001b[1;31mTypeError\u001b[0m                                 Traceback (most recent call last)",
      "Input \u001b[1;32mIn [46]\u001b[0m, in \u001b[0;36m<cell line: 1>\u001b[1;34m()\u001b[0m\n\u001b[1;32m----> 1\u001b[0m \u001b[43mst\u001b[49m\u001b[43m[\u001b[49m\u001b[38;5;241;43m0\u001b[39;49m\u001b[43m]\u001b[49m\n",
      "\u001b[1;31mTypeError\u001b[0m: 'set' object is not subscriptable"
     ]
    }
   ],
   "source": [
    "st[0]"
   ]
  },
  {
   "cell_type": "code",
   "execution_count": 48,
   "id": "d0050b6c",
   "metadata": {},
   "outputs": [
    {
     "ename": "TypeError",
     "evalue": "'set' object is not subscriptable",
     "output_type": "error",
     "traceback": [
      "\u001b[1;31m---------------------------------------------------------------------------\u001b[0m",
      "\u001b[1;31mTypeError\u001b[0m                                 Traceback (most recent call last)",
      "Input \u001b[1;32mIn [48]\u001b[0m, in \u001b[0;36m<cell line: 1>\u001b[1;34m()\u001b[0m\n\u001b[1;32m----> 1\u001b[0m \u001b[43mst\u001b[49m\u001b[43m[\u001b[49m\u001b[38;5;241;43m0\u001b[39;49m\u001b[43m:\u001b[49m\u001b[38;5;241;43m3\u001b[39;49m\u001b[43m]\u001b[49m\n",
      "\u001b[1;31mTypeError\u001b[0m: 'set' object is not subscriptable"
     ]
    }
   ],
   "source": [
    "st[0:3]"
   ]
  },
  {
   "cell_type": "code",
   "execution_count": 49,
   "id": "98898f84",
   "metadata": {},
   "outputs": [
    {
     "name": "stdout",
     "output_type": "stream",
     "text": [
      "set()\n"
     ]
    }
   ],
   "source": [
    "st = set()\n",
    "print(st)"
   ]
  },
  {
   "cell_type": "code",
   "execution_count": 50,
   "id": "394c749a",
   "metadata": {},
   "outputs": [
    {
     "name": "stdout",
     "output_type": "stream",
     "text": [
      "{'anant'}\n"
     ]
    }
   ],
   "source": [
    "st1 = {'anant'}\n",
    "print(st1)"
   ]
  },
  {
   "cell_type": "code",
   "execution_count": 51,
   "id": "211bc7d1",
   "metadata": {},
   "outputs": [
    {
     "name": "stdout",
     "output_type": "stream",
     "text": [
      "{'t', 'a', 'n'}\n"
     ]
    }
   ],
   "source": [
    "st1 = set('anant')\n",
    "print(st1)"
   ]
  },
  {
   "cell_type": "code",
   "execution_count": 58,
   "id": "af286048",
   "metadata": {},
   "outputs": [
    {
     "name": "stdout",
     "output_type": "stream",
     "text": [
      "['a', 'n', 'a', 'n', 't']\n",
      "{'t', 'a', 'n'}\n"
     ]
    }
   ],
   "source": [
    "s = 'anant'\n",
    "l = []\n",
    "for i in s:\n",
    "    l.append(i)\n",
    "print(l)\n",
    "st2 = set(l)\n",
    "print(st2)"
   ]
  },
  {
   "cell_type": "code",
   "execution_count": 59,
   "id": "aac9267c",
   "metadata": {},
   "outputs": [
    {
     "data": {
      "text/plain": [
       "3"
      ]
     },
     "execution_count": 59,
     "metadata": {},
     "output_type": "execute_result"
    }
   ],
   "source": [
    "len(st1)"
   ]
  },
  {
   "cell_type": "code",
   "execution_count": 60,
   "id": "bf99f6d9",
   "metadata": {},
   "outputs": [
    {
     "name": "stdout",
     "output_type": "stream",
     "text": [
      "{67.5, 'anant', 35.5, 25, 10, 'anil'}\n"
     ]
    }
   ],
   "source": [
    "st3 = {10, 25, 35.5, 67.5, 'anant', 'anil'}\n",
    "print(st3)"
   ]
  },
  {
   "cell_type": "code",
   "execution_count": 61,
   "id": "4749404b",
   "metadata": {},
   "outputs": [
    {
     "ename": "TypeError",
     "evalue": "unhashable type: 'list'",
     "output_type": "error",
     "traceback": [
      "\u001b[1;31m---------------------------------------------------------------------------\u001b[0m",
      "\u001b[1;31mTypeError\u001b[0m                                 Traceback (most recent call last)",
      "Input \u001b[1;32mIn [61]\u001b[0m, in \u001b[0;36m<cell line: 1>\u001b[1;34m()\u001b[0m\n\u001b[1;32m----> 1\u001b[0m st4 \u001b[38;5;241m=\u001b[39m {\u001b[38;5;241m10\u001b[39m, \u001b[38;5;241m20\u001b[39m, [\u001b[38;5;241m45\u001b[39m, \u001b[38;5;241m65\u001b[39m]}\n\u001b[0;32m      2\u001b[0m \u001b[38;5;28mprint\u001b[39m(st4)\n",
      "\u001b[1;31mTypeError\u001b[0m: unhashable type: 'list'"
     ]
    }
   ],
   "source": [
    "st4 = {10, 20, [45, 65]}\n",
    "print(st4)"
   ]
  },
  {
   "cell_type": "code",
   "execution_count": 62,
   "id": "f93f79e3",
   "metadata": {},
   "outputs": [
    {
     "name": "stdout",
     "output_type": "stream",
     "text": [
      "{10, 20, (45, 65, 78)}\n"
     ]
    }
   ],
   "source": [
    "st5 = {10, 20, (45, 65, 78)}\n",
    "print(st5)"
   ]
  },
  {
   "cell_type": "code",
   "execution_count": 63,
   "id": "2ea7de3b",
   "metadata": {},
   "outputs": [
    {
     "ename": "TypeError",
     "evalue": "unhashable type: 'dict'",
     "output_type": "error",
     "traceback": [
      "\u001b[1;31m---------------------------------------------------------------------------\u001b[0m",
      "\u001b[1;31mTypeError\u001b[0m                                 Traceback (most recent call last)",
      "Input \u001b[1;32mIn [63]\u001b[0m, in \u001b[0;36m<cell line: 1>\u001b[1;34m()\u001b[0m\n\u001b[1;32m----> 1\u001b[0m st6 \u001b[38;5;241m=\u001b[39m {\u001b[38;5;241m10\u001b[39m, \u001b[38;5;241m20\u001b[39m, \u001b[38;5;241m30\u001b[39m, {\u001b[38;5;124m'\u001b[39m\u001b[38;5;124mone\u001b[39m\u001b[38;5;124m'\u001b[39m : \u001b[38;5;241m1\u001b[39m, \u001b[38;5;124m'\u001b[39m\u001b[38;5;124mtwo\u001b[39m\u001b[38;5;124m'\u001b[39m : \u001b[38;5;241m2\u001b[39m}}\n\u001b[0;32m      2\u001b[0m \u001b[38;5;28mprint\u001b[39m(st6)\n",
      "\u001b[1;31mTypeError\u001b[0m: unhashable type: 'dict'"
     ]
    }
   ],
   "source": [
    "st6 = {10, 20, 30, {'one' : 1, 'two' : 2}}\n",
    "print(st6)"
   ]
  },
  {
   "cell_type": "code",
   "execution_count": 64,
   "id": "e08ae117",
   "metadata": {},
   "outputs": [
    {
     "name": "stdout",
     "output_type": "stream",
     "text": [
      "set()\n"
     ]
    }
   ],
   "source": [
    "print(st)"
   ]
  },
  {
   "cell_type": "code",
   "execution_count": 65,
   "id": "955b06da",
   "metadata": {},
   "outputs": [
    {
     "name": "stdout",
     "output_type": "stream",
     "text": [
      "{50, 'anant', 20, 'apple', 40}\n"
     ]
    }
   ],
   "source": [
    "st = {20, 40, 50, 'anant', 'apple'}\n",
    "print(st)"
   ]
  },
  {
   "cell_type": "code",
   "execution_count": 67,
   "id": "5e10b36e",
   "metadata": {},
   "outputs": [
    {
     "data": {
      "text/plain": [
       "50"
      ]
     },
     "execution_count": 67,
     "metadata": {},
     "output_type": "execute_result"
    }
   ],
   "source": [
    "st.pop()"
   ]
  },
  {
   "cell_type": "code",
   "execution_count": 69,
   "id": "555398fa",
   "metadata": {},
   "outputs": [
    {
     "data": {
      "text/plain": [
       "'anant'"
      ]
     },
     "execution_count": 69,
     "metadata": {},
     "output_type": "execute_result"
    }
   ],
   "source": [
    "st.pop()"
   ]
  },
  {
   "cell_type": "code",
   "execution_count": 70,
   "id": "275f0392",
   "metadata": {},
   "outputs": [],
   "source": [
    "l = [10, 20, 30]\n",
    "l[0] = 100"
   ]
  },
  {
   "cell_type": "code",
   "execution_count": 71,
   "id": "d35de7e3",
   "metadata": {},
   "outputs": [
    {
     "name": "stdout",
     "output_type": "stream",
     "text": [
      "[100, 20, 30]\n"
     ]
    }
   ],
   "source": [
    "print(l)"
   ]
  },
  {
   "cell_type": "code",
   "execution_count": 72,
   "id": "47cf5631",
   "metadata": {},
   "outputs": [
    {
     "ename": "TypeError",
     "evalue": "'set' object does not support item assignment",
     "output_type": "error",
     "traceback": [
      "\u001b[1;31m---------------------------------------------------------------------------\u001b[0m",
      "\u001b[1;31mTypeError\u001b[0m                                 Traceback (most recent call last)",
      "Input \u001b[1;32mIn [72]\u001b[0m, in \u001b[0;36m<cell line: 2>\u001b[1;34m()\u001b[0m\n\u001b[0;32m      1\u001b[0m st \u001b[38;5;241m=\u001b[39m {\u001b[38;5;241m10\u001b[39m, \u001b[38;5;241m20\u001b[39m, \u001b[38;5;241m30\u001b[39m}\n\u001b[1;32m----> 2\u001b[0m st[\u001b[38;5;241m0\u001b[39m] \u001b[38;5;241m=\u001b[39m \u001b[38;5;241m100\u001b[39m\n",
      "\u001b[1;31mTypeError\u001b[0m: 'set' object does not support item assignment"
     ]
    }
   ],
   "source": [
    "st = {10, 20, 30}\n",
    "st[0] = 100"
   ]
  },
  {
   "cell_type": "code",
   "execution_count": 73,
   "id": "8d175747",
   "metadata": {},
   "outputs": [
    {
     "name": "stdout",
     "output_type": "stream",
     "text": [
      "[10, 2000, 'anil', 'sunil']\n"
     ]
    }
   ],
   "source": [
    "lst = [10, 20, 'anil', 'sunil']\n",
    "lst[1] = 2000\n",
    "print(lst)"
   ]
  },
  {
   "cell_type": "code",
   "execution_count": null,
   "id": "ae5ed4e3",
   "metadata": {},
   "outputs": [],
   "source": [
    ".add(100), .update([200,300])"
   ]
  },
  {
   "cell_type": "code",
   "execution_count": null,
   "id": "915953c8",
   "metadata": {},
   "outputs": [],
   "source": []
  },
  {
   "cell_type": "code",
   "execution_count": 75,
   "id": "2115efa9",
   "metadata": {},
   "outputs": [
    {
     "name": "stdout",
     "output_type": "stream",
     "text": [
      "banana\n",
      "cherry\n",
      "apple\n"
     ]
    }
   ],
   "source": [
    "fruit = {'apple', 'banana', 'cherry'}\n",
    "for i in fruit:\n",
    "    print(i)"
   ]
  },
  {
   "cell_type": "code",
   "execution_count": 76,
   "id": "6b975b27",
   "metadata": {},
   "outputs": [
    {
     "data": {
      "text/plain": [
       "3"
      ]
     },
     "execution_count": 76,
     "metadata": {},
     "output_type": "execute_result"
    }
   ],
   "source": [
    "len(fruit)"
   ]
  },
  {
   "cell_type": "code",
   "execution_count": 77,
   "id": "a0ed8c9a",
   "metadata": {},
   "outputs": [
    {
     "name": "stdout",
     "output_type": "stream",
     "text": [
      "{'banana', 'cherry', 'mango', 'apple'}\n"
     ]
    }
   ],
   "source": [
    "fruit.add('mango')\n",
    "print(fruit)"
   ]
  },
  {
   "cell_type": "code",
   "execution_count": 78,
   "id": "a9a08ebf",
   "metadata": {},
   "outputs": [
    {
     "ename": "TypeError",
     "evalue": "set.add() takes exactly one argument (2 given)",
     "output_type": "error",
     "traceback": [
      "\u001b[1;31m---------------------------------------------------------------------------\u001b[0m",
      "\u001b[1;31mTypeError\u001b[0m                                 Traceback (most recent call last)",
      "Input \u001b[1;32mIn [78]\u001b[0m, in \u001b[0;36m<cell line: 1>\u001b[1;34m()\u001b[0m\n\u001b[1;32m----> 1\u001b[0m \u001b[43mfruit\u001b[49m\u001b[38;5;241;43m.\u001b[39;49m\u001b[43madd\u001b[49m\u001b[43m(\u001b[49m\u001b[38;5;124;43m'\u001b[39;49m\u001b[38;5;124;43mkiwi\u001b[39;49m\u001b[38;5;124;43m'\u001b[39;49m\u001b[43m,\u001b[49m\u001b[43m \u001b[49m\u001b[38;5;124;43m'\u001b[39;49m\u001b[38;5;124;43mdragon fruit\u001b[39;49m\u001b[38;5;124;43m'\u001b[39;49m\u001b[43m)\u001b[49m\n",
      "\u001b[1;31mTypeError\u001b[0m: set.add() takes exactly one argument (2 given)"
     ]
    }
   ],
   "source": [
    "fruit.add('kiwi', 'dragon fruit')"
   ]
  },
  {
   "cell_type": "code",
   "execution_count": 79,
   "id": "ca62840c",
   "metadata": {},
   "outputs": [
    {
     "name": "stdout",
     "output_type": "stream",
     "text": [
      "{'apple', 'kiwi', 'dragon fruit', 'mango', 'cherry', 'banana'}\n"
     ]
    }
   ],
   "source": [
    "fruit.update(['kiwi', 'dragon fruit'])\n",
    "print(fruit)"
   ]
  },
  {
   "cell_type": "code",
   "execution_count": 80,
   "id": "ea34e190",
   "metadata": {},
   "outputs": [
    {
     "data": {
      "text/plain": [
       "{10}"
      ]
     },
     "execution_count": 80,
     "metadata": {},
     "output_type": "execute_result"
    }
   ],
   "source": [
    "set1 = {10, 20, 30}\n",
    "set2 = {20, 30, 40}\n",
    "\n",
    "set1.difference(set2)"
   ]
  },
  {
   "cell_type": "code",
   "execution_count": 81,
   "id": "02fbda61",
   "metadata": {},
   "outputs": [
    {
     "data": {
      "text/plain": [
       "{40}"
      ]
     },
     "execution_count": 81,
     "metadata": {},
     "output_type": "execute_result"
    }
   ],
   "source": [
    "set2.difference(set1)"
   ]
  },
  {
   "cell_type": "code",
   "execution_count": 83,
   "id": "f84cbb5b",
   "metadata": {},
   "outputs": [
    {
     "data": {
      "text/plain": [
       "{50, 'anant', 'anil'}"
      ]
     },
     "execution_count": 83,
     "metadata": {},
     "output_type": "execute_result"
    }
   ],
   "source": [
    "set3 = {50 , 'anant', 100, 'anil'}\n",
    "set4 = {100, 200, 'sunil', 'apple'}\n",
    "\n",
    "set3.difference(set4)"
   ]
  },
  {
   "cell_type": "code",
   "execution_count": 84,
   "id": "b4961d2a",
   "metadata": {},
   "outputs": [
    {
     "data": {
      "text/plain": [
       "{200, 'apple', 'sunil'}"
      ]
     },
     "execution_count": 84,
     "metadata": {},
     "output_type": "execute_result"
    }
   ],
   "source": [
    "set4.difference(set3)"
   ]
  },
  {
   "cell_type": "code",
   "execution_count": null,
   "id": "71e2553e",
   "metadata": {},
   "outputs": [],
   "source": []
  }
 ],
 "metadata": {
  "kernelspec": {
   "display_name": "Python 3 (ipykernel)",
   "language": "python",
   "name": "python3"
  },
  "language_info": {
   "codemirror_mode": {
    "name": "ipython",
    "version": 3
   },
   "file_extension": ".py",
   "mimetype": "text/x-python",
   "name": "python",
   "nbconvert_exporter": "python",
   "pygments_lexer": "ipython3",
   "version": "3.9.12"
  }
 },
 "nbformat": 4,
 "nbformat_minor": 5
}
