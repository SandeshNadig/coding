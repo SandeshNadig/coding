{
 "cells": [
  {
   "cell_type": "markdown",
   "id": "efaae247",
   "metadata": {},
   "source": [
    "# Strings:\n",
    "\n",
    "1. A sequence of characters put together is called strings.\n",
    "2. Strings are mentioned inside the quotation marks(either single or double, ' ' or \" \")\n",
    "3. A character is essentially everything that is present on your keyboard.\n",
    "4. '+' is used for concatenation operation and '*' is used for repetation."
   ]
  },
  {
   "cell_type": "code",
   "execution_count": 1,
   "id": "b8bbaff1",
   "metadata": {},
   "outputs": [
    {
     "name": "stdout",
     "output_type": "stream",
     "text": [
      "hello\n"
     ]
    }
   ],
   "source": [
    "s = 'hello'\n",
    "print(s)"
   ]
  },
  {
   "cell_type": "code",
   "execution_count": 2,
   "id": "a82e1b72",
   "metadata": {},
   "outputs": [
    {
     "data": {
      "text/plain": [
       "str"
      ]
     },
     "execution_count": 2,
     "metadata": {},
     "output_type": "execute_result"
    }
   ],
   "source": [
    "type(s)"
   ]
  },
  {
   "cell_type": "code",
   "execution_count": 3,
   "id": "68dc9105",
   "metadata": {},
   "outputs": [
    {
     "data": {
      "text/plain": [
       "str"
      ]
     },
     "execution_count": 3,
     "metadata": {},
     "output_type": "execute_result"
    }
   ],
   "source": [
    "num = '20'\n",
    "type(num)"
   ]
  },
  {
   "cell_type": "code",
   "execution_count": 4,
   "id": "ceb07f27",
   "metadata": {},
   "outputs": [
    {
     "data": {
      "text/plain": [
       "str"
      ]
     },
     "execution_count": 4,
     "metadata": {},
     "output_type": "execute_result"
    }
   ],
   "source": [
    "num = '5'\n",
    "type(num)"
   ]
  },
  {
   "cell_type": "code",
   "execution_count": 5,
   "id": "126cfffe",
   "metadata": {},
   "outputs": [
    {
     "data": {
      "text/plain": [
       "str"
      ]
     },
     "execution_count": 5,
     "metadata": {},
     "output_type": "execute_result"
    }
   ],
   "source": [
    "ex = '@sum!of35'\n",
    "type(ex)"
   ]
  },
  {
   "cell_type": "code",
   "execution_count": 8,
   "id": "94ed81da",
   "metadata": {},
   "outputs": [
    {
     "name": "stdout",
     "output_type": "stream",
     "text": [
      "hello\n"
     ]
    },
    {
     "data": {
      "text/plain": [
       "str"
      ]
     },
     "execution_count": 8,
     "metadata": {},
     "output_type": "execute_result"
    }
   ],
   "source": [
    "s = 'hello'\n",
    "print(s)\n",
    "type(s)"
   ]
  },
  {
   "cell_type": "code",
   "execution_count": 9,
   "id": "b23f9ece",
   "metadata": {},
   "outputs": [
    {
     "name": "stdout",
     "output_type": "stream",
     "text": [
      "hello\n"
     ]
    },
    {
     "data": {
      "text/plain": [
       "str"
      ]
     },
     "execution_count": 9,
     "metadata": {},
     "output_type": "execute_result"
    }
   ],
   "source": [
    "s1 = \"hello\"\n",
    "print(s1)\n",
    "type(s1)"
   ]
  },
  {
   "cell_type": "code",
   "execution_count": 10,
   "id": "0ed09d45",
   "metadata": {},
   "outputs": [
    {
     "ename": "SyntaxError",
     "evalue": "EOL while scanning string literal (4040611750.py, line 1)",
     "output_type": "error",
     "traceback": [
      "\u001b[1;36m  Input \u001b[1;32mIn [10]\u001b[1;36m\u001b[0m\n\u001b[1;33m    s2 = 'hello\"\u001b[0m\n\u001b[1;37m                ^\u001b[0m\n\u001b[1;31mSyntaxError\u001b[0m\u001b[1;31m:\u001b[0m EOL while scanning string literal\n"
     ]
    }
   ],
   "source": [
    "s2 = 'hello\"\n",
    "print(s2)"
   ]
  },
  {
   "cell_type": "code",
   "execution_count": 11,
   "id": "17eb9014",
   "metadata": {},
   "outputs": [
    {
     "name": "stdout",
     "output_type": "stream",
     "text": [
      "hello\n",
      "python\n"
     ]
    }
   ],
   "source": [
    "s3 = \"hello\"\n",
    "s4 = 'python'\n",
    "print(s3)\n",
    "print(s4)"
   ]
  },
  {
   "cell_type": "code",
   "execution_count": 12,
   "id": "e6cb0ea2",
   "metadata": {},
   "outputs": [
    {
     "name": "stdout",
     "output_type": "stream",
     "text": [
      "hello python\n"
     ]
    }
   ],
   "source": [
    "print(s3, s4)"
   ]
  },
  {
   "cell_type": "code",
   "execution_count": 13,
   "id": "b085bdf2",
   "metadata": {},
   "outputs": [
    {
     "data": {
      "text/plain": [
       "str"
      ]
     },
     "execution_count": 13,
     "metadata": {},
     "output_type": "execute_result"
    }
   ],
   "source": [
    "num = '101010'\n",
    "type(num)"
   ]
  },
  {
   "cell_type": "code",
   "execution_count": 14,
   "id": "141bbbab",
   "metadata": {},
   "outputs": [
    {
     "data": {
      "text/plain": [
       "str"
      ]
     },
     "execution_count": 14,
     "metadata": {},
     "output_type": "execute_result"
    }
   ],
   "source": [
    "num1 = '10.5023'\n",
    "type(num1)"
   ]
  },
  {
   "cell_type": "code",
   "execution_count": 15,
   "id": "7d6ac47e",
   "metadata": {},
   "outputs": [
    {
     "data": {
      "text/plain": [
       "'pythonprogramming'"
      ]
     },
     "execution_count": 15,
     "metadata": {},
     "output_type": "execute_result"
    }
   ],
   "source": [
    "s = 'python'\n",
    "s1 = 'programming'\n",
    "\n",
    "s+s1\n"
   ]
  },
  {
   "cell_type": "code",
   "execution_count": 16,
   "id": "0bf6b660",
   "metadata": {},
   "outputs": [
    {
     "data": {
      "text/plain": [
       "'I am Learning python programming language'"
      ]
     },
     "execution_count": 16,
     "metadata": {},
     "output_type": "execute_result"
    }
   ],
   "source": [
    "a = 'I am Learning'\n",
    "b = ' python programming language'\n",
    "\n",
    "a + b"
   ]
  },
  {
   "cell_type": "code",
   "execution_count": 17,
   "id": "b0fda633",
   "metadata": {},
   "outputs": [
    {
     "data": {
      "text/plain": [
       "'pythonpythonpython'"
      ]
     },
     "execution_count": 17,
     "metadata": {},
     "output_type": "execute_result"
    }
   ],
   "source": [
    "s = 'python'\n",
    "\n",
    "s*3"
   ]
  },
  {
   "cell_type": "code",
   "execution_count": 18,
   "id": "3035194b",
   "metadata": {},
   "outputs": [
    {
     "data": {
      "text/plain": [
       "'pythonpythonpythonpythonpython'"
      ]
     },
     "execution_count": 18,
     "metadata": {},
     "output_type": "execute_result"
    }
   ],
   "source": [
    "s*5"
   ]
  },
  {
   "cell_type": "code",
   "execution_count": 19,
   "id": "3ee0364f",
   "metadata": {},
   "outputs": [
    {
     "name": "stdout",
     "output_type": "stream",
     "text": [
      "Hello World\n",
      "Programming concepts\n"
     ]
    }
   ],
   "source": [
    "var1 = 'Hello World'\n",
    "var2 = \"Programming concepts\"\n",
    "print(var1)\n",
    "print(var2)"
   ]
  },
  {
   "cell_type": "code",
   "execution_count": 20,
   "id": "2534fc46",
   "metadata": {},
   "outputs": [
    {
     "data": {
      "text/plain": [
       "str"
      ]
     },
     "execution_count": 20,
     "metadata": {},
     "output_type": "execute_result"
    }
   ],
   "source": [
    "type(var1)"
   ]
  },
  {
   "cell_type": "code",
   "execution_count": 21,
   "id": "26779ff3",
   "metadata": {},
   "outputs": [
    {
     "data": {
      "text/plain": [
       "str"
      ]
     },
     "execution_count": 21,
     "metadata": {},
     "output_type": "execute_result"
    }
   ],
   "source": [
    "type(var2)"
   ]
  },
  {
   "cell_type": "markdown",
   "id": "64932b5e",
   "metadata": {},
   "source": [
    "# String methods\n",
    "\n",
    "1. len - len is a function and not just a string method. len can be applied on any datatype. Calculates the length of whatever is mentioned inside it.\n",
    "2. lower() - Converts everything to a lower case\n",
    "3. upper() - Converts everything to a upper case\n",
    "4. replace() - Used to replace some part of the string with something else.\n",
    "5. split() - Seperates the string based on space(by default). If space not present then the seperator should be mentioned inside the split(). Note: The output will always be a list.\n",
    "6. capitalize() - Converts only the first character into capital letter\n",
    "7. title() - converts the first character of every word into capital letter.\n",
    "8. strip() - used to delete the beginning and ending spaces. if any special characters are present then to strip based on the special characters mention the character inside the strip() method."
   ]
  },
  {
   "cell_type": "code",
   "execution_count": 22,
   "id": "b091b7d6",
   "metadata": {},
   "outputs": [
    {
     "data": {
      "text/plain": [
       "5"
      ]
     },
     "execution_count": 22,
     "metadata": {},
     "output_type": "execute_result"
    }
   ],
   "source": [
    "s = 'Hello'\n",
    "len(s)"
   ]
  },
  {
   "cell_type": "code",
   "execution_count": 23,
   "id": "ca681e9e",
   "metadata": {},
   "outputs": [
    {
     "data": {
      "text/plain": [
       "3"
      ]
     },
     "execution_count": 23,
     "metadata": {},
     "output_type": "execute_result"
    }
   ],
   "source": [
    "lst = [1, 2, 3]\n",
    "len(lst)"
   ]
  },
  {
   "cell_type": "code",
   "execution_count": 24,
   "id": "f3b2be8a",
   "metadata": {},
   "outputs": [
    {
     "data": {
      "text/plain": [
       "'hello'"
      ]
     },
     "execution_count": 24,
     "metadata": {},
     "output_type": "execute_result"
    }
   ],
   "source": [
    "s.lower()"
   ]
  },
  {
   "cell_type": "code",
   "execution_count": 25,
   "id": "d15bb7aa",
   "metadata": {},
   "outputs": [
    {
     "ename": "AttributeError",
     "evalue": "'list' object has no attribute 'lower'",
     "output_type": "error",
     "traceback": [
      "\u001b[1;31m---------------------------------------------------------------------------\u001b[0m",
      "\u001b[1;31mAttributeError\u001b[0m                            Traceback (most recent call last)",
      "Input \u001b[1;32mIn [25]\u001b[0m, in \u001b[0;36m<cell line: 1>\u001b[1;34m()\u001b[0m\n\u001b[1;32m----> 1\u001b[0m \u001b[43mlst\u001b[49m\u001b[38;5;241;43m.\u001b[39;49m\u001b[43mlower\u001b[49m()\n",
      "\u001b[1;31mAttributeError\u001b[0m: 'list' object has no attribute 'lower'"
     ]
    }
   ],
   "source": [
    "lst.lower()"
   ]
  },
  {
   "cell_type": "code",
   "execution_count": 32,
   "id": "3d870b32",
   "metadata": {},
   "outputs": [
    {
     "data": {
      "text/plain": [
       "11"
      ]
     },
     "execution_count": 32,
     "metadata": {},
     "output_type": "execute_result"
    }
   ],
   "source": [
    "string = 'hello world'\n",
    "len(string)"
   ]
  },
  {
   "cell_type": "code",
   "execution_count": 33,
   "id": "3c39c6c3",
   "metadata": {},
   "outputs": [
    {
     "data": {
      "text/plain": [
       "1"
      ]
     },
     "execution_count": 33,
     "metadata": {},
     "output_type": "execute_result"
    }
   ],
   "source": [
    "space = ' '\n",
    "len(space)"
   ]
  },
  {
   "cell_type": "code",
   "execution_count": 34,
   "id": "10bceeb2",
   "metadata": {},
   "outputs": [
    {
     "data": {
      "text/plain": [
       "'hello world'"
      ]
     },
     "execution_count": 34,
     "metadata": {},
     "output_type": "execute_result"
    }
   ],
   "source": [
    "string = 'HeLLo WorLD'\n",
    "string.lower()"
   ]
  },
  {
   "cell_type": "code",
   "execution_count": 37,
   "id": "a6b563a5",
   "metadata": {},
   "outputs": [
    {
     "data": {
      "text/plain": [
       "'HELLO WORLD'"
      ]
     },
     "execution_count": 37,
     "metadata": {},
     "output_type": "execute_result"
    }
   ],
   "source": [
    "string.upper()"
   ]
  },
  {
   "cell_type": "code",
   "execution_count": 38,
   "id": "72bfa8bc",
   "metadata": {},
   "outputs": [
    {
     "name": "stdout",
     "output_type": "stream",
     "text": [
      "HeLLo WorLD\n"
     ]
    }
   ],
   "source": [
    "print(string)"
   ]
  },
  {
   "cell_type": "code",
   "execution_count": 39,
   "id": "d86209db",
   "metadata": {},
   "outputs": [
    {
     "data": {
      "text/plain": [
       "'JeLLo WorLD'"
      ]
     },
     "execution_count": 39,
     "metadata": {},
     "output_type": "execute_result"
    }
   ],
   "source": [
    "string.replace('H', 'J')"
   ]
  },
  {
   "cell_type": "code",
   "execution_count": 40,
   "id": "75eb079c",
   "metadata": {},
   "outputs": [
    {
     "data": {
      "text/plain": [
       "'HeLLo python'"
      ]
     },
     "execution_count": 40,
     "metadata": {},
     "output_type": "execute_result"
    }
   ],
   "source": [
    "string.replace('WorLD', 'python')"
   ]
  },
  {
   "cell_type": "code",
   "execution_count": 42,
   "id": "57536114",
   "metadata": {},
   "outputs": [
    {
     "name": "stdout",
     "output_type": "stream",
     "text": [
      "HeLLo WorLD\n"
     ]
    }
   ],
   "source": [
    "print(string)"
   ]
  },
  {
   "cell_type": "code",
   "execution_count": 43,
   "id": "dfa746f9",
   "metadata": {},
   "outputs": [
    {
     "data": {
      "text/plain": [
       "['HeLLo', 'WorLD']"
      ]
     },
     "execution_count": 43,
     "metadata": {},
     "output_type": "execute_result"
    }
   ],
   "source": [
    "string.split()"
   ]
  },
  {
   "cell_type": "code",
   "execution_count": 44,
   "id": "bbd63d72",
   "metadata": {},
   "outputs": [
    {
     "data": {
      "text/plain": [
       "['This', 'is', 'a', 'python', 'programming', 'session.']"
      ]
     },
     "execution_count": 44,
     "metadata": {},
     "output_type": "execute_result"
    }
   ],
   "source": [
    "s = \"This is a python programming session.\"\n",
    "s.split()"
   ]
  },
  {
   "cell_type": "code",
   "execution_count": 45,
   "id": "d5527106",
   "metadata": {},
   "outputs": [
    {
     "data": {
      "text/plain": [
       "list"
      ]
     },
     "execution_count": 45,
     "metadata": {},
     "output_type": "execute_result"
    }
   ],
   "source": [
    "type(s.split())"
   ]
  },
  {
   "cell_type": "code",
   "execution_count": 48,
   "id": "db80934e",
   "metadata": {},
   "outputs": [
    {
     "data": {
      "text/plain": [
       "['python/programming/language']"
      ]
     },
     "execution_count": 48,
     "metadata": {},
     "output_type": "execute_result"
    }
   ],
   "source": [
    "s1 = 'python/programming/language'\n",
    "s1.split()"
   ]
  },
  {
   "cell_type": "code",
   "execution_count": 49,
   "id": "2601e47a",
   "metadata": {},
   "outputs": [
    {
     "data": {
      "text/plain": [
       "['python', 'programming', 'language']"
      ]
     },
     "execution_count": 49,
     "metadata": {},
     "output_type": "execute_result"
    }
   ],
   "source": [
    "s1 = 'python/programming/language'\n",
    "s1.split('/')"
   ]
  },
  {
   "cell_type": "code",
   "execution_count": 51,
   "id": "d6fb4076",
   "metadata": {},
   "outputs": [
    {
     "name": "stdout",
     "output_type": "stream",
     "text": [
      "HeLLo WorLD\n"
     ]
    }
   ],
   "source": [
    "print(string)"
   ]
  },
  {
   "cell_type": "code",
   "execution_count": 52,
   "id": "a9ee20a9",
   "metadata": {},
   "outputs": [
    {
     "data": {
      "text/plain": [
       "'Hello'"
      ]
     },
     "execution_count": 52,
     "metadata": {},
     "output_type": "execute_result"
    }
   ],
   "source": [
    "s = 'hello'\n",
    "s.capitalize()"
   ]
  },
  {
   "cell_type": "code",
   "execution_count": 53,
   "id": "48f49e59",
   "metadata": {},
   "outputs": [
    {
     "data": {
      "text/plain": [
       "'Hello'"
      ]
     },
     "execution_count": 53,
     "metadata": {},
     "output_type": "execute_result"
    }
   ],
   "source": [
    "s = 'hello'\n",
    "s.title()"
   ]
  },
  {
   "cell_type": "code",
   "execution_count": 55,
   "id": "95d860f6",
   "metadata": {},
   "outputs": [
    {
     "data": {
      "text/plain": [
       "'The times of india'"
      ]
     },
     "execution_count": 55,
     "metadata": {},
     "output_type": "execute_result"
    }
   ],
   "source": [
    "paper = 'the times of india'\n",
    "paper.capitalize()"
   ]
  },
  {
   "cell_type": "code",
   "execution_count": 56,
   "id": "e5bc2cae",
   "metadata": {},
   "outputs": [
    {
     "data": {
      "text/plain": [
       "'The Times Of India'"
      ]
     },
     "execution_count": 56,
     "metadata": {},
     "output_type": "execute_result"
    }
   ],
   "source": [
    "paper.title()"
   ]
  },
  {
   "cell_type": "code",
   "execution_count": 57,
   "id": "b92e146a",
   "metadata": {},
   "outputs": [
    {
     "data": {
      "text/plain": [
       "'Sheetal'"
      ]
     },
     "execution_count": 57,
     "metadata": {},
     "output_type": "execute_result"
    }
   ],
   "source": [
    "name = 'sheetal'\n",
    "name.capitalize()"
   ]
  },
  {
   "cell_type": "code",
   "execution_count": 58,
   "id": "1b94c053",
   "metadata": {},
   "outputs": [
    {
     "data": {
      "text/plain": [
       "'Sheetal agnihotri'"
      ]
     },
     "execution_count": 58,
     "metadata": {},
     "output_type": "execute_result"
    }
   ],
   "source": [
    "name = 'sheetal agnihotri'\n",
    "name.capitalize()"
   ]
  },
  {
   "cell_type": "code",
   "execution_count": 59,
   "id": "c1df7d4b",
   "metadata": {},
   "outputs": [
    {
     "data": {
      "text/plain": [
       "'Sheetal Agnihotri'"
      ]
     },
     "execution_count": 59,
     "metadata": {},
     "output_type": "execute_result"
    }
   ],
   "source": [
    "name.title()"
   ]
  },
  {
   "cell_type": "code",
   "execution_count": 60,
   "id": "781cf957",
   "metadata": {},
   "outputs": [
    {
     "data": {
      "text/plain": [
       "37"
      ]
     },
     "execution_count": 60,
     "metadata": {},
     "output_type": "execute_result"
    }
   ],
   "source": [
    "name = '               hello world           '\n",
    "len(name)"
   ]
  },
  {
   "cell_type": "code",
   "execution_count": 62,
   "id": "452c7420",
   "metadata": {},
   "outputs": [
    {
     "data": {
      "text/plain": [
       "11"
      ]
     },
     "execution_count": 62,
     "metadata": {},
     "output_type": "execute_result"
    }
   ],
   "source": [
    "s = 'hello world'\n",
    "len(s)"
   ]
  },
  {
   "cell_type": "code",
   "execution_count": 63,
   "id": "071e5dc2",
   "metadata": {},
   "outputs": [
    {
     "data": {
      "text/plain": [
       "'hello world'"
      ]
     },
     "execution_count": 63,
     "metadata": {},
     "output_type": "execute_result"
    }
   ],
   "source": [
    "name.strip()"
   ]
  },
  {
   "cell_type": "code",
   "execution_count": 65,
   "id": "bb86fec1",
   "metadata": {},
   "outputs": [
    {
     "name": "stdout",
     "output_type": "stream",
     "text": [
      "               hello world           \n"
     ]
    }
   ],
   "source": [
    "name = '               hello world           '\n",
    "print(name)"
   ]
  },
  {
   "cell_type": "code",
   "execution_count": 66,
   "id": "726afc8e",
   "metadata": {},
   "outputs": [
    {
     "data": {
      "text/plain": [
       "'hello world           '"
      ]
     },
     "execution_count": 66,
     "metadata": {},
     "output_type": "execute_result"
    }
   ],
   "source": [
    "name.lstrip()"
   ]
  },
  {
   "cell_type": "code",
   "execution_count": 67,
   "id": "db8fe286",
   "metadata": {},
   "outputs": [
    {
     "data": {
      "text/plain": [
       "'               hello world'"
      ]
     },
     "execution_count": 67,
     "metadata": {},
     "output_type": "execute_result"
    }
   ],
   "source": [
    "name.rstrip()"
   ]
  },
  {
   "cell_type": "code",
   "execution_count": 69,
   "id": "4c2db4b2",
   "metadata": {},
   "outputs": [
    {
     "data": {
      "text/plain": [
       "'anant divanji'"
      ]
     },
     "execution_count": 69,
     "metadata": {},
     "output_type": "execute_result"
    }
   ],
   "source": [
    "name = '@@@@@@@@anant divanji@@@@@@@'\n",
    "name.strip(\"@\")"
   ]
  },
  {
   "cell_type": "code",
   "execution_count": 70,
   "id": "3f2322de",
   "metadata": {},
   "outputs": [
    {
     "data": {
      "text/plain": [
       "'anant divanji@@@@@@@'"
      ]
     },
     "execution_count": 70,
     "metadata": {},
     "output_type": "execute_result"
    }
   ],
   "source": [
    "name.lstrip('@')"
   ]
  },
  {
   "cell_type": "code",
   "execution_count": 71,
   "id": "0518cbae",
   "metadata": {},
   "outputs": [
    {
     "data": {
      "text/plain": [
       "'@@@@@@@@anant divanji'"
      ]
     },
     "execution_count": 71,
     "metadata": {},
     "output_type": "execute_result"
    }
   ],
   "source": [
    "name.rstrip('@')"
   ]
  },
  {
   "cell_type": "code",
   "execution_count": 72,
   "id": "d0b6d232",
   "metadata": {},
   "outputs": [],
   "source": [
    "s = 'hello'"
   ]
  },
  {
   "cell_type": "code",
   "execution_count": 73,
   "id": "7d95b130",
   "metadata": {},
   "outputs": [
    {
     "data": {
      "text/plain": [
       "'h'"
      ]
     },
     "execution_count": 73,
     "metadata": {},
     "output_type": "execute_result"
    }
   ],
   "source": [
    "s[0]"
   ]
  },
  {
   "cell_type": "code",
   "execution_count": 74,
   "id": "47a0baa4",
   "metadata": {},
   "outputs": [
    {
     "data": {
      "text/plain": [
       "'l'"
      ]
     },
     "execution_count": 74,
     "metadata": {},
     "output_type": "execute_result"
    }
   ],
   "source": [
    "s[3]"
   ]
  },
  {
   "cell_type": "code",
   "execution_count": 75,
   "id": "2e6af930",
   "metadata": {},
   "outputs": [
    {
     "data": {
      "text/plain": [
       "8"
      ]
     },
     "execution_count": 75,
     "metadata": {},
     "output_type": "execute_result"
    }
   ],
   "source": [
    "string = 'This is a python programming class'\n",
    "string.find('a')"
   ]
  },
  {
   "cell_type": "code",
   "execution_count": 76,
   "id": "4e42b251",
   "metadata": {},
   "outputs": [
    {
     "data": {
      "text/plain": [
       "-1"
      ]
     },
     "execution_count": 76,
     "metadata": {},
     "output_type": "execute_result"
    }
   ],
   "source": [
    "string.find('z')"
   ]
  },
  {
   "cell_type": "code",
   "execution_count": 77,
   "id": "9e906f1a",
   "metadata": {},
   "outputs": [
    {
     "name": "stdout",
     "output_type": "stream",
     "text": [
      "my name is anant\n"
     ]
    }
   ],
   "source": [
    "name = 'anant'\n",
    "age = 15\n",
    "print('my name is',name)"
   ]
  },
  {
   "cell_type": "code",
   "execution_count": 78,
   "id": "cd29b01a",
   "metadata": {},
   "outputs": [
    {
     "name": "stdout",
     "output_type": "stream",
     "text": [
      "my age is  15\n"
     ]
    }
   ],
   "source": [
    "print('my age is ', age)"
   ]
  },
  {
   "cell_type": "code",
   "execution_count": 79,
   "id": "fcde6d0f",
   "metadata": {},
   "outputs": [
    {
     "name": "stdout",
     "output_type": "stream",
     "text": [
      "my age is age\n"
     ]
    }
   ],
   "source": [
    "print('my age is age')"
   ]
  },
  {
   "cell_type": "code",
   "execution_count": 81,
   "id": "d8582fde",
   "metadata": {},
   "outputs": [
    {
     "name": "stdout",
     "output_type": "stream",
     "text": [
      "We are in a session python\n"
     ]
    }
   ],
   "source": [
    "session = 'python'\n",
    "print('We are in a session', session)"
   ]
  },
  {
   "cell_type": "code",
   "execution_count": 82,
   "id": "16c91b92",
   "metadata": {},
   "outputs": [
    {
     "name": "stdout",
     "output_type": "stream",
     "text": [
      "We are in a python session\n"
     ]
    }
   ],
   "source": [
    "print('We are in a', session, 'session')"
   ]
  },
  {
   "cell_type": "code",
   "execution_count": 83,
   "id": "d80fa581",
   "metadata": {},
   "outputs": [
    {
     "name": "stdout",
     "output_type": "stream",
     "text": [
      "We are in a python session\n"
     ]
    }
   ],
   "source": [
    "print('We are in a {} session'.format(session))"
   ]
  },
  {
   "cell_type": "code",
   "execution_count": 84,
   "id": "dc4892a7",
   "metadata": {},
   "outputs": [
    {
     "name": "stdout",
     "output_type": "stream",
     "text": [
      "my name is anant, my age is 15\n"
     ]
    }
   ],
   "source": [
    "name = 'anant'\n",
    "age = 15\n",
    "print('my name is {}, my age is {}'.format(name, age))"
   ]
  },
  {
   "cell_type": "code",
   "execution_count": 87,
   "id": "57bfd186",
   "metadata": {},
   "outputs": [
    {
     "data": {
      "text/plain": [
       "'l'"
      ]
     },
     "execution_count": 87,
     "metadata": {},
     "output_type": "execute_result"
    }
   ],
   "source": [
    "s = 'hello'\n",
    "s[2]"
   ]
  },
  {
   "cell_type": "code",
   "execution_count": 86,
   "id": "b07042e4",
   "metadata": {},
   "outputs": [
    {
     "data": {
      "text/plain": [
       "'e'"
      ]
     },
     "execution_count": 86,
     "metadata": {},
     "output_type": "execute_result"
    }
   ],
   "source": [
    "s[-4]"
   ]
  },
  {
   "cell_type": "code",
   "execution_count": 88,
   "id": "a8f31dfc",
   "metadata": {},
   "outputs": [
    {
     "data": {
      "text/plain": [
       "'el'"
      ]
     },
     "execution_count": 88,
     "metadata": {},
     "output_type": "execute_result"
    }
   ],
   "source": [
    "s[1:3]"
   ]
  },
  {
   "cell_type": "code",
   "execution_count": 89,
   "id": "9075a4d7",
   "metadata": {},
   "outputs": [
    {
     "data": {
      "text/plain": [
       "'ell'"
      ]
     },
     "execution_count": 89,
     "metadata": {},
     "output_type": "execute_result"
    }
   ],
   "source": [
    "s[1:4]"
   ]
  },
  {
   "cell_type": "code",
   "execution_count": 90,
   "id": "b252b59a",
   "metadata": {},
   "outputs": [
    {
     "data": {
      "text/plain": [
       "'ho'"
      ]
     },
     "execution_count": 90,
     "metadata": {},
     "output_type": "execute_result"
    }
   ],
   "source": [
    "s1 = 'python'\n",
    "s1[3:5]"
   ]
  },
  {
   "cell_type": "code",
   "execution_count": 91,
   "id": "1d2e9b06",
   "metadata": {},
   "outputs": [
    {
     "data": {
      "text/plain": [
       "'hon'"
      ]
     },
     "execution_count": 91,
     "metadata": {},
     "output_type": "execute_result"
    }
   ],
   "source": [
    "s1[3:6]"
   ]
  },
  {
   "cell_type": "code",
   "execution_count": 92,
   "id": "a3f149bd",
   "metadata": {},
   "outputs": [
    {
     "data": {
      "text/plain": [
       "'ell'"
      ]
     },
     "execution_count": 92,
     "metadata": {},
     "output_type": "execute_result"
    }
   ],
   "source": [
    "s[-4:-1]"
   ]
  },
  {
   "cell_type": "code",
   "execution_count": 93,
   "id": "a82d11ad",
   "metadata": {},
   "outputs": [
    {
     "data": {
      "text/plain": [
       "'python'"
      ]
     },
     "execution_count": 93,
     "metadata": {},
     "output_type": "execute_result"
    }
   ],
   "source": [
    "s1"
   ]
  },
  {
   "cell_type": "code",
   "execution_count": 95,
   "id": "93d92bec",
   "metadata": {},
   "outputs": [
    {
     "data": {
      "text/plain": [
       "'hon'"
      ]
     },
     "execution_count": 95,
     "metadata": {},
     "output_type": "execute_result"
    }
   ],
   "source": [
    "s1[-3:6]"
   ]
  },
  {
   "cell_type": "code",
   "execution_count": 96,
   "id": "b6deada9",
   "metadata": {},
   "outputs": [
    {
     "data": {
      "text/plain": [
       "''"
      ]
     },
     "execution_count": 96,
     "metadata": {},
     "output_type": "execute_result"
    }
   ],
   "source": [
    "s1[-3:0]"
   ]
  },
  {
   "cell_type": "code",
   "execution_count": 97,
   "id": "73c0c576",
   "metadata": {},
   "outputs": [
    {
     "data": {
      "text/plain": [
       "''"
      ]
     },
     "execution_count": 97,
     "metadata": {},
     "output_type": "execute_result"
    }
   ],
   "source": [
    "s = 'programming'\n",
    "s[-2:-4]"
   ]
  },
  {
   "cell_type": "code",
   "execution_count": null,
   "id": "511379a4",
   "metadata": {},
   "outputs": [],
   "source": []
  }
 ],
 "metadata": {
  "kernelspec": {
   "display_name": "Python 3 (ipykernel)",
   "language": "python",
   "name": "python3"
  },
  "language_info": {
   "codemirror_mode": {
    "name": "ipython",
    "version": 3
   },
   "file_extension": ".py",
   "mimetype": "text/x-python",
   "name": "python",
   "nbconvert_exporter": "python",
   "pygments_lexer": "ipython3",
   "version": "3.9.12"
  }
 },
 "nbformat": 4,
 "nbformat_minor": 5
}
