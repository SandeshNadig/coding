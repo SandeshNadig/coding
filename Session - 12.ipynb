{
 "cells": [
  {
   "cell_type": "markdown",
   "id": "59a6613c",
   "metadata": {},
   "source": [
    "## Functions"
   ]
  },
  {
   "cell_type": "code",
   "execution_count": 1,
   "id": "8b9c6696",
   "metadata": {},
   "outputs": [
    {
     "name": "stdout",
     "output_type": "stream",
     "text": [
      "Hello\n"
     ]
    }
   ],
   "source": [
    "print('Hello')"
   ]
  },
  {
   "cell_type": "code",
   "execution_count": 2,
   "id": "ce7e28d6",
   "metadata": {},
   "outputs": [],
   "source": [
    "def add(x, y):\n",
    "    return x + y"
   ]
  },
  {
   "cell_type": "code",
   "execution_count": 3,
   "id": "28e5eb02",
   "metadata": {},
   "outputs": [
    {
     "data": {
      "text/plain": [
       "7"
      ]
     },
     "execution_count": 3,
     "metadata": {},
     "output_type": "execute_result"
    }
   ],
   "source": [
    "add(3,4)"
   ]
  },
  {
   "cell_type": "markdown",
   "id": "43a04356",
   "metadata": {},
   "source": [
    "## Functions :\n",
    "- 2 types\n",
    "- In built like print(), len(), type(), etc.\n",
    "- User defined functions : the one defined by the user"
   ]
  },
  {
   "cell_type": "markdown",
   "id": "f5e9ba9d",
   "metadata": {},
   "source": [
    "## Syntax of functions"
   ]
  },
  {
   "cell_type": "raw",
   "id": "34b9cf6f",
   "metadata": {},
   "source": [
    "def function_name(optional paramaters):\n",
    "    statement 1\n",
    "    statement 2\n",
    "    statement 3\n",
    "    .\n",
    "    .\n",
    "    .\n",
    "    return data\n",
    "\n",
    "- Both defining and calling the function are necessary to get an output.\n",
    "- return of the function is optional"
   ]
  },
  {
   "cell_type": "code",
   "execution_count": 4,
   "id": "8255e287",
   "metadata": {},
   "outputs": [],
   "source": [
    "## Defining the function\n",
    "\n",
    "def Upper(s):\n",
    "    up_s = s.upper()\n",
    "    return up_s"
   ]
  },
  {
   "cell_type": "code",
   "execution_count": 5,
   "id": "87493eae",
   "metadata": {},
   "outputs": [
    {
     "data": {
      "text/plain": [
       "'PYTHON'"
      ]
     },
     "execution_count": 5,
     "metadata": {},
     "output_type": "execute_result"
    }
   ],
   "source": [
    "## Calling the function\n",
    "\n",
    "Upper('python')"
   ]
  },
  {
   "cell_type": "markdown",
   "id": "35957d7e",
   "metadata": {},
   "source": [
    "## Global and local variables\n",
    "\n",
    "- Global variables : variables written outside the user defined functions\n",
    "- local variables : variables written inside the user defined function(The validity of these variables is only limited to the funciton block)"
   ]
  },
  {
   "cell_type": "code",
   "execution_count": 6,
   "id": "6521dc8a",
   "metadata": {},
   "outputs": [
    {
     "name": "stdout",
     "output_type": "stream",
     "text": [
      "20\n"
     ]
    }
   ],
   "source": [
    "x = 20\n",
    "y = 25\n",
    "\n",
    "def add():\n",
    "    x = 40\n",
    "    y = 60\n",
    "    return x + y\n",
    "\n",
    "print(x)"
   ]
  },
  {
   "cell_type": "code",
   "execution_count": 7,
   "id": "6414c9aa",
   "metadata": {},
   "outputs": [
    {
     "name": "stdout",
     "output_type": "stream",
     "text": [
      "25\n"
     ]
    }
   ],
   "source": [
    "print(y)"
   ]
  },
  {
   "cell_type": "markdown",
   "id": "37e92603",
   "metadata": {},
   "source": [
    "## Converting a local variable to a global variable"
   ]
  },
  {
   "cell_type": "markdown",
   "id": "df8876c1",
   "metadata": {},
   "source": [
    "- Using the global keyword inside the function, we are converting a local variable into a global variable"
   ]
  },
  {
   "cell_type": "code",
   "execution_count": 34,
   "id": "42ad3489",
   "metadata": {},
   "outputs": [],
   "source": [
    "v = 30\n",
    "\n",
    "def add():\n",
    "    global c\n",
    "    global n\n",
    "    c = 50\n",
    "    n = 45\n",
    "    return c + n\n",
    "\n",
    "print(v)"
   ]
  },
  {
   "cell_type": "code",
   "execution_count": 26,
   "id": "6dfe983c",
   "metadata": {},
   "outputs": [
    {
     "name": "stdout",
     "output_type": "stream",
     "text": [
      "30\n"
     ]
    }
   ],
   "source": [
    "print(v)"
   ]
  },
  {
   "cell_type": "code",
   "execution_count": 27,
   "id": "bd68333a",
   "metadata": {},
   "outputs": [
    {
     "ename": "NameError",
     "evalue": "name 'c' is not defined",
     "output_type": "error",
     "traceback": [
      "\u001b[1;31m---------------------------------------------------------------------------\u001b[0m",
      "\u001b[1;31mNameError\u001b[0m                                 Traceback (most recent call last)",
      "Input \u001b[1;32mIn [27]\u001b[0m, in \u001b[0;36m<cell line: 1>\u001b[1;34m()\u001b[0m\n\u001b[1;32m----> 1\u001b[0m \u001b[38;5;28mprint\u001b[39m(\u001b[43mc\u001b[49m)\n",
      "\u001b[1;31mNameError\u001b[0m: name 'c' is not defined"
     ]
    }
   ],
   "source": [
    "print(c)"
   ]
  },
  {
   "cell_type": "code",
   "execution_count": 36,
   "id": "b5092dea",
   "metadata": {},
   "outputs": [
    {
     "data": {
      "text/plain": [
       "95"
      ]
     },
     "execution_count": 36,
     "metadata": {},
     "output_type": "execute_result"
    }
   ],
   "source": [
    "add()"
   ]
  },
  {
   "cell_type": "code",
   "execution_count": 32,
   "id": "8b142a62",
   "metadata": {},
   "outputs": [
    {
     "name": "stdout",
     "output_type": "stream",
     "text": [
      "50\n"
     ]
    }
   ],
   "source": [
    "print(c)"
   ]
  },
  {
   "cell_type": "code",
   "execution_count": 37,
   "id": "4d4763fa",
   "metadata": {},
   "outputs": [
    {
     "name": "stdout",
     "output_type": "stream",
     "text": [
      "45\n"
     ]
    }
   ],
   "source": [
    "print(n)"
   ]
  },
  {
   "cell_type": "markdown",
   "id": "34b8a526",
   "metadata": {},
   "source": [
    "- Global variables can be accessed anywhere in the program even inside the function\n",
    "- Local variables cannot be accessed anywhere. They can be accessed inside the function only."
   ]
  },
  {
   "cell_type": "code",
   "execution_count": 38,
   "id": "1189f194",
   "metadata": {},
   "outputs": [
    {
     "name": "stdout",
     "output_type": "stream",
     "text": [
      "50\n"
     ]
    }
   ],
   "source": [
    "i = 10\n",
    "def mult():\n",
    "    j = 5\n",
    "    return i * j\n",
    "\n",
    "print(mult())"
   ]
  },
  {
   "cell_type": "code",
   "execution_count": 39,
   "id": "25411c33",
   "metadata": {
    "scrolled": true
   },
   "outputs": [
    {
     "name": "stdout",
     "output_type": "stream",
     "text": [
      "50\n"
     ]
    }
   ],
   "source": [
    "i = 10\n",
    "def mult():\n",
    "    j = 5\n",
    "    return i * j\n",
    "print(mult())"
   ]
  },
  {
   "cell_type": "code",
   "execution_count": 40,
   "id": "648f3789",
   "metadata": {
    "scrolled": true
   },
   "outputs": [
    {
     "name": "stdout",
     "output_type": "stream",
     "text": [
      "10\n"
     ]
    }
   ],
   "source": [
    "print(i)"
   ]
  },
  {
   "cell_type": "code",
   "execution_count": 41,
   "id": "32e358af",
   "metadata": {
    "scrolled": true
   },
   "outputs": [
    {
     "ename": "NameError",
     "evalue": "name 'j' is not defined",
     "output_type": "error",
     "traceback": [
      "\u001b[1;31m---------------------------------------------------------------------------\u001b[0m",
      "\u001b[1;31mNameError\u001b[0m                                 Traceback (most recent call last)",
      "Input \u001b[1;32mIn [41]\u001b[0m, in \u001b[0;36m<cell line: 1>\u001b[1;34m()\u001b[0m\n\u001b[1;32m----> 1\u001b[0m \u001b[38;5;28mprint\u001b[39m(\u001b[43mj\u001b[49m)\n",
      "\u001b[1;31mNameError\u001b[0m: name 'j' is not defined"
     ]
    }
   ],
   "source": [
    "print(j)"
   ]
  },
  {
   "cell_type": "code",
   "execution_count": 42,
   "id": "e921461b",
   "metadata": {},
   "outputs": [
    {
     "name": "stdout",
     "output_type": "stream",
     "text": [
      "50\n"
     ]
    }
   ],
   "source": [
    "i = 10\n",
    "def mult():\n",
    "    global j\n",
    "    j = 5\n",
    "    return i * j\n",
    "print(mult())"
   ]
  },
  {
   "cell_type": "code",
   "execution_count": 43,
   "id": "3dfcadec",
   "metadata": {},
   "outputs": [
    {
     "name": "stdout",
     "output_type": "stream",
     "text": [
      "10\n"
     ]
    }
   ],
   "source": [
    "print(i)"
   ]
  },
  {
   "cell_type": "code",
   "execution_count": 44,
   "id": "40e791a7",
   "metadata": {
    "scrolled": true
   },
   "outputs": [
    {
     "name": "stdout",
     "output_type": "stream",
     "text": [
      "5\n"
     ]
    }
   ],
   "source": [
    "print(j)"
   ]
  },
  {
   "cell_type": "markdown",
   "id": "97995ac0",
   "metadata": {},
   "source": [
    "## Anonymous Functions:(lambda functions)"
   ]
  },
  {
   "cell_type": "code",
   "execution_count": 47,
   "id": "60060c59",
   "metadata": {},
   "outputs": [
    {
     "name": "stdout",
     "output_type": "stream",
     "text": [
      "HELLO\n"
     ]
    }
   ],
   "source": [
    "## user defined function\n",
    "\n",
    "def up(s):\n",
    "    return s.upper()\n",
    "\n",
    "print(up('hello'))"
   ]
  },
  {
   "cell_type": "code",
   "execution_count": 48,
   "id": "a4c5d5c2",
   "metadata": {},
   "outputs": [
    {
     "name": "stdout",
     "output_type": "stream",
     "text": [
      "75\n"
     ]
    }
   ],
   "source": [
    "a = 25\n",
    "def tot():\n",
    "    x = a + 50\n",
    "    return x\n",
    "print(tot())"
   ]
  },
  {
   "cell_type": "markdown",
   "id": "131a9339",
   "metadata": {},
   "source": [
    "## Syntax of lambda function\n",
    "\n",
    "lambda arguements : expression\n",
    "\n",
    "- Useful for writing single line functions.\n",
    "- When the user defined function is very small, use lambda functions instead of user defined functions"
   ]
  },
  {
   "cell_type": "code",
   "execution_count": 49,
   "id": "e071bbf2",
   "metadata": {},
   "outputs": [
    {
     "name": "stdout",
     "output_type": "stream",
     "text": [
      "75\n"
     ]
    }
   ],
   "source": [
    "x = lambda a : a + 50\n",
    "print(x(25))"
   ]
  },
  {
   "cell_type": "code",
   "execution_count": 50,
   "id": "562b5566",
   "metadata": {},
   "outputs": [
    {
     "name": "stdout",
     "output_type": "stream",
     "text": [
      "HELLO\n"
     ]
    }
   ],
   "source": [
    "y = lambda z : z.upper()\n",
    "print(y('hello'))"
   ]
  },
  {
   "cell_type": "code",
   "execution_count": 51,
   "id": "8f3ddb7b",
   "metadata": {},
   "outputs": [
    {
     "name": "stdout",
     "output_type": "stream",
     "text": [
      "700\n"
     ]
    }
   ],
   "source": [
    "x = lambda number : number + 500\n",
    "print(x(200))"
   ]
  },
  {
   "cell_type": "code",
   "execution_count": 52,
   "id": "55c5a8f2",
   "metadata": {},
   "outputs": [],
   "source": [
    "def my_function():\n",
    "    print('This is my function')\n",
    "    "
   ]
  },
  {
   "cell_type": "code",
   "execution_count": 53,
   "id": "45a2218e",
   "metadata": {},
   "outputs": [
    {
     "name": "stdout",
     "output_type": "stream",
     "text": [
      "This is my function\n"
     ]
    }
   ],
   "source": [
    "my_function()"
   ]
  },
  {
   "cell_type": "code",
   "execution_count": 54,
   "id": "50d5ad19",
   "metadata": {},
   "outputs": [
    {
     "name": "stdout",
     "output_type": "stream",
     "text": [
      "This is my function\n"
     ]
    }
   ],
   "source": [
    "def my_function():\n",
    "    test = 1\n",
    "    print('This is my function')\n",
    "    \n",
    "test = 0\n",
    "my_function()"
   ]
  },
  {
   "cell_type": "code",
   "execution_count": 55,
   "id": "9b3f28ce",
   "metadata": {},
   "outputs": [
    {
     "name": "stdout",
     "output_type": "stream",
     "text": [
      "0\n"
     ]
    }
   ],
   "source": [
    "print(test)"
   ]
  },
  {
   "cell_type": "code",
   "execution_count": 56,
   "id": "2b4fdb8b",
   "metadata": {},
   "outputs": [
    {
     "name": "stdout",
     "output_type": "stream",
     "text": [
      "this is my name Sam\n"
     ]
    }
   ],
   "source": [
    "def my_function(name):\n",
    "    print('this is my name', name)\n",
    "    \n",
    "my_function('Sam')"
   ]
  },
  {
   "cell_type": "code",
   "execution_count": 57,
   "id": "2dd816d6",
   "metadata": {},
   "outputs": [
    {
     "data": {
      "text/plain": [
       "11"
      ]
     },
     "execution_count": 57,
     "metadata": {},
     "output_type": "execute_result"
    }
   ],
   "source": [
    "def add(c,d):\n",
    "    return c + d\n",
    "\n",
    "add(5, 6)"
   ]
  },
  {
   "cell_type": "markdown",
   "id": "4a70643f",
   "metadata": {},
   "source": [
    "## Positional Arguements"
   ]
  },
  {
   "cell_type": "code",
   "execution_count": 58,
   "id": "8e1ac089",
   "metadata": {},
   "outputs": [
    {
     "name": "stdout",
     "output_type": "stream",
     "text": [
      "10 20 30\n"
     ]
    }
   ],
   "source": [
    "def func(a,b,c):\n",
    "    print(a,b,c)\n",
    "    \n",
    "func(10, 20, 30)"
   ]
  },
  {
   "cell_type": "code",
   "execution_count": 60,
   "id": "10d82836",
   "metadata": {},
   "outputs": [
    {
     "name": "stdout",
     "output_type": "stream",
     "text": [
      "30 10 20\n"
     ]
    }
   ],
   "source": [
    "def func(a,b,c):\n",
    "    print(a,b,c)\n",
    "    \n",
    "func(30, 10, 20)"
   ]
  },
  {
   "cell_type": "markdown",
   "id": "9d3f0782",
   "metadata": {},
   "source": [
    "## Keywords Arguements"
   ]
  },
  {
   "cell_type": "code",
   "execution_count": 59,
   "id": "c6b13815",
   "metadata": {},
   "outputs": [
    {
     "name": "stdout",
     "output_type": "stream",
     "text": [
      "4 5 10\n"
     ]
    }
   ],
   "source": [
    "def func(a, b, c):\n",
    "    print(a, b, c)\n",
    "\n",
    "func(c= 10, a = 4, b = 5)"
   ]
  },
  {
   "cell_type": "code",
   "execution_count": 61,
   "id": "eb043c51",
   "metadata": {},
   "outputs": [
    {
     "name": "stdout",
     "output_type": "stream",
     "text": [
      "4 5 10\n"
     ]
    }
   ],
   "source": [
    "def func(a, b, c):\n",
    "    print(a, b, c)\n",
    "\n",
    "func(b= 5, a = 4, c = 10)"
   ]
  },
  {
   "cell_type": "markdown",
   "id": "2020143a",
   "metadata": {},
   "source": [
    "## Variable Positional Arguements"
   ]
  },
  {
   "cell_type": "code",
   "execution_count": 69,
   "id": "d7166e16",
   "metadata": {},
   "outputs": [
    {
     "ename": "TypeError",
     "evalue": "func() takes 3 positional arguments but 4 were given",
     "output_type": "error",
     "traceback": [
      "\u001b[1;31m---------------------------------------------------------------------------\u001b[0m",
      "\u001b[1;31mTypeError\u001b[0m                                 Traceback (most recent call last)",
      "Input \u001b[1;32mIn [69]\u001b[0m, in \u001b[0;36m<cell line: 4>\u001b[1;34m()\u001b[0m\n\u001b[0;32m      1\u001b[0m \u001b[38;5;28;01mdef\u001b[39;00m \u001b[38;5;21mfunc\u001b[39m(a,b,c):\n\u001b[0;32m      2\u001b[0m     \u001b[38;5;28mprint\u001b[39m(a,b,c)\n\u001b[1;32m----> 4\u001b[0m \u001b[43mfunc\u001b[49m\u001b[43m(\u001b[49m\u001b[38;5;241;43m10\u001b[39;49m\u001b[43m,\u001b[49m\u001b[43m \u001b[49m\u001b[38;5;241;43m20\u001b[39;49m\u001b[43m,\u001b[49m\u001b[43m \u001b[49m\u001b[38;5;241;43m30\u001b[39;49m\u001b[43m,\u001b[49m\u001b[43m \u001b[49m\u001b[38;5;241;43m40\u001b[39;49m\u001b[43m)\u001b[49m\n",
      "\u001b[1;31mTypeError\u001b[0m: func() takes 3 positional arguments but 4 were given"
     ]
    }
   ],
   "source": [
    "def func(a,b,c):\n",
    "    print(a,b,c)\n",
    "    \n",
    "func(10, 20, 30, 40)"
   ]
  },
  {
   "cell_type": "code",
   "execution_count": 63,
   "id": "cc48cd0b",
   "metadata": {},
   "outputs": [
    {
     "name": "stdout",
     "output_type": "stream",
     "text": [
      "9\n"
     ]
    }
   ],
   "source": [
    "def calc_sum(*num):\n",
    "    total = 0\n",
    "    for i in num:\n",
    "        total = total + i\n",
    "    print(total)\n",
    "\n",
    "calc_sum(4, 5)\n"
   ]
  },
  {
   "cell_type": "code",
   "execution_count": 64,
   "id": "0292ee1a",
   "metadata": {},
   "outputs": [
    {
     "name": "stdout",
     "output_type": "stream",
     "text": [
      "12\n"
     ]
    }
   ],
   "source": [
    "calc_sum(3,4,5)"
   ]
  },
  {
   "cell_type": "code",
   "execution_count": 65,
   "id": "dc04086f",
   "metadata": {},
   "outputs": [
    {
     "name": "stdout",
     "output_type": "stream",
     "text": [
      "73\n"
     ]
    }
   ],
   "source": [
    "calc_sum(3, 5, 8, 10, 12, 15, 20)"
   ]
  },
  {
   "cell_type": "code",
   "execution_count": 75,
   "id": "8a018c19",
   "metadata": {},
   "outputs": [
    {
     "name": "stdout",
     "output_type": "stream",
     "text": [
      "-7\n"
     ]
    }
   ],
   "source": [
    "def minimum(*n):\n",
    "    if n:\n",
    "        mn = n[0]\n",
    "        for value in n[1:]:\n",
    "            if value < mn:\n",
    "                mn = value\n",
    "        print(mn)\n",
    "minimum(1,-6,-7,9)"
   ]
  },
  {
   "cell_type": "code",
   "execution_count": null,
   "id": "c2b88833",
   "metadata": {},
   "outputs": [],
   "source": []
  }
 ],
 "metadata": {
  "kernelspec": {
   "display_name": "Python 3 (ipykernel)",
   "language": "python",
   "name": "python3"
  },
  "language_info": {
   "codemirror_mode": {
    "name": "ipython",
    "version": 3
   },
   "file_extension": ".py",
   "mimetype": "text/x-python",
   "name": "python",
   "nbconvert_exporter": "python",
   "pygments_lexer": "ipython3",
   "version": "3.9.12"
  }
 },
 "nbformat": 4,
 "nbformat_minor": 5
}
