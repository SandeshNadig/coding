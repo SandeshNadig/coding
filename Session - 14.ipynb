{
 "cells": [
  {
   "cell_type": "code",
   "execution_count": 1,
   "id": "43d5825f",
   "metadata": {},
   "outputs": [
    {
     "name": "stdout",
     "output_type": "stream",
     "text": [
      "This Is My First Module\n"
     ]
    }
   ],
   "source": [
    "s = 'This is my first module'\n",
    "import module\n",
    "module.tit(s)"
   ]
  },
  {
   "cell_type": "code",
   "execution_count": 2,
   "id": "abc924a7",
   "metadata": {},
   "outputs": [
    {
     "name": "stdout",
     "output_type": "stream",
     "text": [
      "THIS IS MY FIRST MODULE\n"
     ]
    }
   ],
   "source": [
    "module.up(s)"
   ]
  },
  {
   "cell_type": "code",
   "execution_count": 3,
   "id": "5726d994",
   "metadata": {},
   "outputs": [
    {
     "name": "stdout",
     "output_type": "stream",
     "text": [
      "this is my first module\n"
     ]
    }
   ],
   "source": [
    "module.low(s)"
   ]
  },
  {
   "cell_type": "code",
   "execution_count": 4,
   "id": "d57182f5",
   "metadata": {},
   "outputs": [
    {
     "name": "stdout",
     "output_type": "stream",
     "text": [
      "This is my first module\n"
     ]
    }
   ],
   "source": [
    "module.cap(s)"
   ]
  },
  {
   "cell_type": "markdown",
   "id": "28558dab",
   "metadata": {},
   "source": [
    "## Files in python\n",
    "\n",
    "- 4 operations can be performed on a file in python\n",
    "1. Opening a file - open()\n",
    "2. Reading or writing to a file - read - read() and write - write - write()\n",
    "3. Appending to a file - append()\n",
    "4. Closing the file - close()"
   ]
  },
  {
   "cell_type": "raw",
   "id": "0013e81d",
   "metadata": {},
   "source": [
    "syntax of file open:\n",
    "f = open(filename, mode)\n",
    "\n",
    "f is variable name\n",
    "filename is the name of the file\n",
    "mode - read(r), write(w) and append(a)"
   ]
  },
  {
   "cell_type": "code",
   "execution_count": 1,
   "id": "d5935d28",
   "metadata": {},
   "outputs": [],
   "source": [
    "file = open('fileone.txt', 'r')"
   ]
  },
  {
   "cell_type": "code",
   "execution_count": 2,
   "id": "200ce9b8",
   "metadata": {},
   "outputs": [
    {
     "name": "stdout",
     "output_type": "stream",
     "text": [
      "This is my\n"
     ]
    }
   ],
   "source": [
    "print(file.read(10))"
   ]
  },
  {
   "cell_type": "code",
   "execution_count": 2,
   "id": "c42a2f27",
   "metadata": {},
   "outputs": [
    {
     "name": "stdout",
     "output_type": "stream",
     "text": [
      "This is a file in python\n",
      "\n",
      "I am learning the concept of files in python\n",
      "\n",
      "In Files we can perform 4 operations namely\n",
      "\n",
      "read, write, append, open and close\n",
      "\n"
     ]
    }
   ],
   "source": [
    "for each in file:\n",
    "    print(each)"
   ]
  },
  {
   "cell_type": "code",
   "execution_count": 3,
   "id": "876baf27",
   "metadata": {},
   "outputs": [],
   "source": [
    "file.close()"
   ]
  },
  {
   "cell_type": "code",
   "execution_count": 8,
   "id": "327aa9bc",
   "metadata": {},
   "outputs": [
    {
     "data": {
      "text/plain": [
       "24"
      ]
     },
     "execution_count": 8,
     "metadata": {},
     "output_type": "execute_result"
    }
   ],
   "source": [
    "file = open('secondpythonfile.txt', 'w')\n",
    "file.write('My name is Anant')\n",
    "file.write('I am learning python now')"
   ]
  },
  {
   "cell_type": "code",
   "execution_count": 10,
   "id": "4a5da783",
   "metadata": {},
   "outputs": [
    {
     "name": "stdout",
     "output_type": "stream",
     "text": [
      "The file has been successfully closed now\n"
     ]
    }
   ],
   "source": [
    "file.close()\n",
    "print('The file has been successfully closed now')"
   ]
  },
  {
   "cell_type": "code",
   "execution_count": 13,
   "id": "1c9a7c79",
   "metadata": {},
   "outputs": [],
   "source": [
    "f = open('fileone.txt')"
   ]
  },
  {
   "cell_type": "markdown",
   "id": "8b137ace",
   "metadata": {},
   "source": [
    "### when opening a exisiting file in a write mode, the write mode will delete all the contents of the file and overwrite the new content"
   ]
  },
  {
   "cell_type": "code",
   "execution_count": 14,
   "id": "2681a408",
   "metadata": {},
   "outputs": [
    {
     "name": "stdout",
     "output_type": "stream",
     "text": [
      "This is a f1 file\n",
      "\n"
     ]
    }
   ],
   "source": [
    "file = open('f1.txt', 'r')\n",
    "for each in file:\n",
    "    print(each)"
   ]
  },
  {
   "cell_type": "code",
   "execution_count": 15,
   "id": "9052c262",
   "metadata": {},
   "outputs": [],
   "source": [
    "file.close()"
   ]
  },
  {
   "cell_type": "code",
   "execution_count": 16,
   "id": "951afae1",
   "metadata": {},
   "outputs": [],
   "source": [
    "file = open('f1.txt', 'w')\n",
    "file.write('This is an overwritten file')\n",
    "file.close()"
   ]
  },
  {
   "cell_type": "code",
   "execution_count": 17,
   "id": "915b1825",
   "metadata": {},
   "outputs": [
    {
     "name": "stdout",
     "output_type": "stream",
     "text": [
      "This is an overwritten file\n"
     ]
    }
   ],
   "source": [
    "file = open('f1.txt', 'r')\n",
    "for each in file:\n",
    "    print(each)"
   ]
  },
  {
   "cell_type": "markdown",
   "id": "14a9f2c2",
   "metadata": {},
   "source": [
    "### Appending to a file will not delete the existing content, It will add the new content to the existing content"
   ]
  },
  {
   "cell_type": "code",
   "execution_count": 20,
   "id": "0db555b1",
   "metadata": {},
   "outputs": [
    {
     "name": "stdout",
     "output_type": "stream",
     "text": [
      "\n"
     ]
    }
   ],
   "source": [
    "f2 = open('appendex.txt', 'a')\n",
    "f2.write('\\n I am learning the concept of file append')\n",
    "print()\n",
    "f2.write('These statements will be appended to the file appendex')\n",
    "f2.close()"
   ]
  },
  {
   "cell_type": "code",
   "execution_count": 21,
   "id": "0de7466b",
   "metadata": {},
   "outputs": [
    {
     "ename": "FileNotFoundError",
     "evalue": "[Errno 2] No such file or directory: 'f3.txt'",
     "output_type": "error",
     "traceback": [
      "\u001b[1;31m---------------------------------------------------------------------------\u001b[0m",
      "\u001b[1;31mFileNotFoundError\u001b[0m                         Traceback (most recent call last)",
      "Input \u001b[1;32mIn [21]\u001b[0m, in \u001b[0;36m<cell line: 1>\u001b[1;34m()\u001b[0m\n\u001b[1;32m----> 1\u001b[0m f3 \u001b[38;5;241m=\u001b[39m \u001b[38;5;28;43mopen\u001b[39;49m\u001b[43m(\u001b[49m\u001b[38;5;124;43m'\u001b[39;49m\u001b[38;5;124;43mf3.txt\u001b[39;49m\u001b[38;5;124;43m'\u001b[39;49m\u001b[43m,\u001b[49m\u001b[43m \u001b[49m\u001b[38;5;124;43m'\u001b[39;49m\u001b[38;5;124;43mr\u001b[39;49m\u001b[38;5;124;43m'\u001b[39;49m\u001b[43m)\u001b[49m\n",
      "\u001b[1;31mFileNotFoundError\u001b[0m: [Errno 2] No such file or directory: 'f3.txt'"
     ]
    }
   ],
   "source": [
    "f3 = open('f3.txt', 'r')"
   ]
  },
  {
   "cell_type": "markdown",
   "id": "3b685099",
   "metadata": {},
   "source": [
    "### While opening a file using the file path in open function, provide \\\\ wherever you see a \\."
   ]
  },
  {
   "cell_type": "code",
   "execution_count": 24,
   "id": "c98ef145",
   "metadata": {},
   "outputs": [],
   "source": [
    "f3 = open('C:\\\\Users\\\\AMANT\\\\OneDrive\\\\Desktop\\\\f3.txt', 'r')"
   ]
  },
  {
   "cell_type": "code",
   "execution_count": 25,
   "id": "c71871df",
   "metadata": {
    "scrolled": true
   },
   "outputs": [
    {
     "name": "stdout",
     "output_type": "stream",
     "text": [
      "My name is anant.\n",
      "\n",
      "I live in India.\n",
      "\n",
      "I am currently studying data science.\n"
     ]
    }
   ],
   "source": [
    "for each in f3:\n",
    "    print(each)"
   ]
  },
  {
   "cell_type": "markdown",
   "id": "1829a970",
   "metadata": {},
   "source": [
    "## Reading input from the user\n",
    "\n",
    "- input() is used to read the input from the user."
   ]
  },
  {
   "cell_type": "code",
   "execution_count": 40,
   "id": "f5946750",
   "metadata": {},
   "outputs": [
    {
     "name": "stdout",
     "output_type": "stream",
     "text": [
      "anant\n"
     ]
    }
   ],
   "source": [
    "name = input()"
   ]
  },
  {
   "cell_type": "code",
   "execution_count": 41,
   "id": "87e0f735",
   "metadata": {},
   "outputs": [
    {
     "name": "stdout",
     "output_type": "stream",
     "text": [
      "anant\n"
     ]
    }
   ],
   "source": [
    "print(name)"
   ]
  },
  {
   "cell_type": "code",
   "execution_count": 42,
   "id": "fc976d44",
   "metadata": {},
   "outputs": [
    {
     "name": "stdout",
     "output_type": "stream",
     "text": [
      "15\n",
      "15\n"
     ]
    }
   ],
   "source": [
    "age = int(input())\n",
    "print(age)"
   ]
  },
  {
   "cell_type": "code",
   "execution_count": 43,
   "id": "6e01a1e6",
   "metadata": {},
   "outputs": [
    {
     "ename": "NameError",
     "evalue": "name 'raw_input' is not defined",
     "output_type": "error",
     "traceback": [
      "\u001b[1;31m---------------------------------------------------------------------------\u001b[0m",
      "\u001b[1;31mNameError\u001b[0m                                 Traceback (most recent call last)",
      "Input \u001b[1;32mIn [43]\u001b[0m, in \u001b[0;36m<cell line: 1>\u001b[1;34m()\u001b[0m\n\u001b[1;32m----> 1\u001b[0m name \u001b[38;5;241m=\u001b[39m \u001b[43mraw_input\u001b[49m()\n",
      "\u001b[1;31mNameError\u001b[0m: name 'raw_input' is not defined"
     ]
    }
   ],
   "source": [
    "name = raw_input()"
   ]
  },
  {
   "cell_type": "markdown",
   "id": "8fc0b262",
   "metadata": {},
   "source": [
    "## Directory and file management\n",
    "\n",
    "- os module available in python\n",
    "\n",
    "1. os.getcwd() - to get the current working directory\n",
    "2. os.chdir()- to change the directory\n",
    "3. os.listdir() - to get a list of file and folders available in current working directory\n",
    "4. os.mkdir() - to create a new file or folder in the current working directory\n",
    "5. os.rename() - to rename an existing file or folder in the current working directory\n",
    "6. os.rmdir() - to delete a file or folder in the current working directory"
   ]
  },
  {
   "cell_type": "code",
   "execution_count": 44,
   "id": "ce2a910c",
   "metadata": {},
   "outputs": [],
   "source": [
    "import os"
   ]
  },
  {
   "cell_type": "markdown",
   "id": "7b68b1f0",
   "metadata": {},
   "source": [
    "os.getcwd() - is used to check the current working directory."
   ]
  },
  {
   "cell_type": "code",
   "execution_count": 45,
   "id": "ea92f089",
   "metadata": {},
   "outputs": [
    {
     "data": {
      "text/plain": [
       "'C:\\\\Users\\\\AMANT\\\\OneDrive\\\\Desktop\\\\EduBridge\\\\Batch\\\\91-92(Morning)\\\\python'"
      ]
     },
     "execution_count": 45,
     "metadata": {},
     "output_type": "execute_result"
    }
   ],
   "source": [
    "os.getcwd()"
   ]
  },
  {
   "cell_type": "markdown",
   "id": "35ccea1d",
   "metadata": {},
   "source": [
    "### Change my working directory"
   ]
  },
  {
   "cell_type": "code",
   "execution_count": 46,
   "id": "1efcf378",
   "metadata": {},
   "outputs": [],
   "source": [
    "os.chdir('C:\\\\Users\\\\AMANT\\\\OneDrive\\\\Documents')"
   ]
  },
  {
   "cell_type": "code",
   "execution_count": 47,
   "id": "c8ee8e3d",
   "metadata": {},
   "outputs": [
    {
     "data": {
      "text/plain": [
       "'C:\\\\Users\\\\AMANT\\\\OneDrive\\\\Documents'"
      ]
     },
     "execution_count": 47,
     "metadata": {},
     "output_type": "execute_result"
    }
   ],
   "source": [
    "os.getcwd()"
   ]
  },
  {
   "cell_type": "markdown",
   "id": "c5d365a5",
   "metadata": {},
   "source": [
    "## To check all file and folder present in the current working directory"
   ]
  },
  {
   "cell_type": "code",
   "execution_count": 48,
   "id": "e17f1ea3",
   "metadata": {},
   "outputs": [
    {
     "data": {
      "text/plain": [
       "['Book1.xlsx',\n",
       " 'Custom Office Templates',\n",
       " 'desktop.ini',\n",
       " 'MBTN',\n",
       " 'Photo Album.pptx',\n",
       " 'Python Scripts',\n",
       " 'Scaler',\n",
       " 'temp.png',\n",
       " 'Zoom']"
      ]
     },
     "execution_count": 48,
     "metadata": {},
     "output_type": "execute_result"
    }
   ],
   "source": [
    "os.listdir()"
   ]
  },
  {
   "cell_type": "markdown",
   "id": "11576899",
   "metadata": {},
   "source": [
    "## To create a new file or  folder in the current working directory"
   ]
  },
  {
   "cell_type": "code",
   "execution_count": 49,
   "id": "b3086ec4",
   "metadata": {},
   "outputs": [],
   "source": [
    "os.mkdir('anant-resume.txt')"
   ]
  },
  {
   "cell_type": "code",
   "execution_count": 50,
   "id": "e412e6eb",
   "metadata": {},
   "outputs": [
    {
     "data": {
      "text/plain": [
       "['anant-resume.txt',\n",
       " 'Book1.xlsx',\n",
       " 'Custom Office Templates',\n",
       " 'desktop.ini',\n",
       " 'MBTN',\n",
       " 'Photo Album.pptx',\n",
       " 'Python Scripts',\n",
       " 'Scaler',\n",
       " 'temp.png',\n",
       " 'Zoom']"
      ]
     },
     "execution_count": 50,
     "metadata": {},
     "output_type": "execute_result"
    }
   ],
   "source": [
    "os.listdir()"
   ]
  },
  {
   "cell_type": "markdown",
   "id": "0d40915a",
   "metadata": {},
   "source": [
    "## Rename a file or a folder in the current working directory"
   ]
  },
  {
   "cell_type": "code",
   "execution_count": 51,
   "id": "962623bf",
   "metadata": {},
   "outputs": [],
   "source": [
    "os.rename('anant-resume.txt', 'anil-resume.txt')"
   ]
  },
  {
   "cell_type": "code",
   "execution_count": 52,
   "id": "d13059e2",
   "metadata": {},
   "outputs": [
    {
     "data": {
      "text/plain": [
       "['anil-resume.txt',\n",
       " 'Book1.xlsx',\n",
       " 'Custom Office Templates',\n",
       " 'desktop.ini',\n",
       " 'MBTN',\n",
       " 'Photo Album.pptx',\n",
       " 'Python Scripts',\n",
       " 'Scaler',\n",
       " 'temp.png',\n",
       " 'Zoom']"
      ]
     },
     "execution_count": 52,
     "metadata": {},
     "output_type": "execute_result"
    }
   ],
   "source": [
    "os.listdir()"
   ]
  },
  {
   "cell_type": "markdown",
   "id": "aa13ef5b",
   "metadata": {},
   "source": [
    "## to delete a file or  a folder from the current working directory"
   ]
  },
  {
   "cell_type": "code",
   "execution_count": 53,
   "id": "b3b16f47",
   "metadata": {},
   "outputs": [],
   "source": [
    "os.rmdir('anil-resume.txt')"
   ]
  },
  {
   "cell_type": "code",
   "execution_count": 54,
   "id": "f27b0a50",
   "metadata": {},
   "outputs": [
    {
     "data": {
      "text/plain": [
       "['Book1.xlsx',\n",
       " 'Custom Office Templates',\n",
       " 'desktop.ini',\n",
       " 'MBTN',\n",
       " 'Photo Album.pptx',\n",
       " 'Python Scripts',\n",
       " 'Scaler',\n",
       " 'temp.png',\n",
       " 'Zoom']"
      ]
     },
     "execution_count": 54,
     "metadata": {},
     "output_type": "execute_result"
    }
   ],
   "source": [
    "os.listdir()"
   ]
  },
  {
   "cell_type": "code",
   "execution_count": 55,
   "id": "c19f37a2",
   "metadata": {},
   "outputs": [],
   "source": [
    "os.mkdir('anant-resume')"
   ]
  },
  {
   "cell_type": "code",
   "execution_count": 56,
   "id": "d4276d53",
   "metadata": {},
   "outputs": [
    {
     "data": {
      "text/plain": [
       "['anant-resume',\n",
       " 'Book1.xlsx',\n",
       " 'Custom Office Templates',\n",
       " 'desktop.ini',\n",
       " 'MBTN',\n",
       " 'Photo Album.pptx',\n",
       " 'Python Scripts',\n",
       " 'Scaler',\n",
       " 'temp.png',\n",
       " 'Zoom']"
      ]
     },
     "execution_count": 56,
     "metadata": {},
     "output_type": "execute_result"
    }
   ],
   "source": [
    "os.listdir()"
   ]
  },
  {
   "cell_type": "code",
   "execution_count": 58,
   "id": "1cfb8297",
   "metadata": {},
   "outputs": [],
   "source": [
    "os.rmdir('anant-resume')"
   ]
  },
  {
   "cell_type": "code",
   "execution_count": 59,
   "id": "424776a0",
   "metadata": {},
   "outputs": [
    {
     "data": {
      "text/plain": [
       "['Book1.xlsx',\n",
       " 'Custom Office Templates',\n",
       " 'desktop.ini',\n",
       " 'MBTN',\n",
       " 'Photo Album.pptx',\n",
       " 'Python Scripts',\n",
       " 'Scaler',\n",
       " 'temp.png',\n",
       " 'Zoom']"
      ]
     },
     "execution_count": 59,
     "metadata": {},
     "output_type": "execute_result"
    }
   ],
   "source": [
    "os.listdir()"
   ]
  },
  {
   "cell_type": "code",
   "execution_count": 65,
   "id": "e53174fb",
   "metadata": {},
   "outputs": [
    {
     "ename": "IndentationError",
     "evalue": "expected an indented block (1925085379.py, line 1)",
     "output_type": "error",
     "traceback": [
      "\u001b[1;36m  Input \u001b[1;32mIn [65]\u001b[1;36m\u001b[0m\n\u001b[1;33m    for i in range(5):\u001b[0m\n\u001b[1;37m                      ^\u001b[0m\n\u001b[1;31mIndentationError\u001b[0m\u001b[1;31m:\u001b[0m expected an indented block\n"
     ]
    }
   ],
   "source": [
    "for i in range(5):"
   ]
  },
  {
   "cell_type": "code",
   "execution_count": 67,
   "id": "1967acbe",
   "metadata": {},
   "outputs": [
    {
     "name": "stdout",
     "output_type": "stream",
     "text": [
      "10\n",
      "0\n"
     ]
    },
    {
     "ename": "ZeroDivisionError",
     "evalue": "division by zero",
     "output_type": "error",
     "traceback": [
      "\u001b[1;31m---------------------------------------------------------------------------\u001b[0m",
      "\u001b[1;31mZeroDivisionError\u001b[0m                         Traceback (most recent call last)",
      "Input \u001b[1;32mIn [67]\u001b[0m, in \u001b[0;36m<cell line: 3>\u001b[1;34m()\u001b[0m\n\u001b[0;32m      1\u001b[0m a \u001b[38;5;241m=\u001b[39m \u001b[38;5;28mint\u001b[39m(\u001b[38;5;28minput\u001b[39m())\n\u001b[0;32m      2\u001b[0m b \u001b[38;5;241m=\u001b[39m \u001b[38;5;28mint\u001b[39m(\u001b[38;5;28minput\u001b[39m())\n\u001b[1;32m----> 3\u001b[0m x \u001b[38;5;241m=\u001b[39m \u001b[43ma\u001b[49m\u001b[38;5;241;43m/\u001b[39;49m\u001b[43mb\u001b[49m\n\u001b[0;32m      4\u001b[0m \u001b[38;5;28mprint\u001b[39m(x)\n\u001b[0;32m      5\u001b[0m \u001b[38;5;28mprint\u001b[39m(\u001b[38;5;124m'\u001b[39m\u001b[38;5;124mthis is normal float division\u001b[39m\u001b[38;5;124m'\u001b[39m)\n",
      "\u001b[1;31mZeroDivisionError\u001b[0m: division by zero"
     ]
    }
   ],
   "source": [
    "a = int(input())\n",
    "b = int(input())\n",
    "x = a/b\n",
    "print(x)\n",
    "print('this is normal float division')"
   ]
  },
  {
   "cell_type": "code",
   "execution_count": 69,
   "id": "5301adf2",
   "metadata": {},
   "outputs": [
    {
     "name": "stdout",
     "output_type": "stream",
     "text": [
      "10\n",
      "0\n",
      "This is a division by zero. Cannot perform division by zero\n"
     ]
    }
   ],
   "source": [
    "a = int(input())\n",
    "b = int(input())\n",
    "\n",
    "try:\n",
    "    x = a / b\n",
    "    print(x)\n",
    "except:\n",
    "    print('This is a division by zero. Cannot perform division by zero')"
   ]
  },
  {
   "cell_type": "code",
   "execution_count": null,
   "id": "c08934c7",
   "metadata": {},
   "outputs": [],
   "source": []
  }
 ],
 "metadata": {
  "kernelspec": {
   "display_name": "Python 3 (ipykernel)",
   "language": "python",
   "name": "python3"
  },
  "language_info": {
   "codemirror_mode": {
    "name": "ipython",
    "version": 3
   },
   "file_extension": ".py",
   "mimetype": "text/x-python",
   "name": "python",
   "nbconvert_exporter": "python",
   "pygments_lexer": "ipython3",
   "version": "3.9.12"
  }
 },
 "nbformat": 4,
 "nbformat_minor": 5
}
