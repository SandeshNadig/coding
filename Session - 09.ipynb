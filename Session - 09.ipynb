{
 "cells": [
  {
   "cell_type": "code",
   "execution_count": 2,
   "id": "b37f4ec2",
   "metadata": {},
   "outputs": [
    {
     "name": "stdout",
     "output_type": "stream",
     "text": [
      "Both a and b are equal\n",
      "Goodbye\n"
     ]
    }
   ],
   "source": [
    "a = 50\n",
    "b = 50\n",
    "if a == b:\n",
    "    print('Both a and b are equal')\n",
    "print('Goodbye')"
   ]
  },
  {
   "cell_type": "code",
   "execution_count": 9,
   "id": "ce7e0853",
   "metadata": {},
   "outputs": [
    {
     "name": "stdout",
     "output_type": "stream",
     "text": [
      "Both a and b are equal\n"
     ]
    }
   ],
   "source": [
    "if a == b:\n",
    "    print('Both a and b are equal')\n",
    "else:\n",
    "    print('Both a and b are unequal')\n",
    "print('GoodBye')"
   ]
  },
  {
   "cell_type": "code",
   "execution_count": 8,
   "id": "25102b8b",
   "metadata": {},
   "outputs": [
    {
     "name": "stdout",
     "output_type": "stream",
     "text": [
      "n is negative\n"
     ]
    }
   ],
   "source": [
    "n = -5\n",
    "if n > 0:\n",
    "    print('n is positive')\n",
    "elif n == 0:\n",
    "    print('n is neither positive nor negative')\n",
    "else:\n",
    "    print('n is negative')"
   ]
  },
  {
   "cell_type": "code",
   "execution_count": 14,
   "id": "0de6d9f6",
   "metadata": {},
   "outputs": [
    {
     "name": "stdout",
     "output_type": "stream",
     "text": [
      "757\n"
     ]
    },
    {
     "data": {
      "text/plain": [
       "757"
      ]
     },
     "execution_count": 14,
     "metadata": {},
     "output_type": "execute_result"
    }
   ],
   "source": [
    "n = input()\n",
    "n = int(n)\n",
    "n"
   ]
  },
  {
   "cell_type": "code",
   "execution_count": 12,
   "id": "b75be361",
   "metadata": {},
   "outputs": [
    {
     "data": {
      "text/plain": [
       "100"
      ]
     },
     "execution_count": 12,
     "metadata": {},
     "output_type": "execute_result"
    }
   ],
   "source": [
    "s = '100'\n",
    "s = int(s)\n",
    "s"
   ]
  },
  {
   "cell_type": "markdown",
   "id": "5ba036ed",
   "metadata": {},
   "source": [
    "- Take a marks of the student as an input from the user and print the grade of the student based on the input. Marks will be in range of 0 to 100 only.\n",
    "Consider the following conditions:\n",
    "\n",
    "1. If marks > 80 print A grade.\n",
    "2. If marks > 60 print B grade.\n",
    "3. If marks > 40 print C grade.\n",
    "4. If marks < 40 print Fail."
   ]
  },
  {
   "cell_type": "code",
   "execution_count": 19,
   "id": "155c549e",
   "metadata": {},
   "outputs": [
    {
     "name": "stdout",
     "output_type": "stream",
     "text": [
      "Enter your marks41\n",
      "C grade\n"
     ]
    }
   ],
   "source": [
    "marks = input(\"Enter your marks\")\n",
    "marks = int(marks)\n",
    "\n",
    "if marks > 80:\n",
    "    print('A grade')\n",
    "elif marks > 60:\n",
    "    print('B grade')\n",
    "elif marks > 40:\n",
    "    print('C grade')\n",
    "else:\n",
    "    print('Fail')"
   ]
  },
  {
   "cell_type": "code",
   "execution_count": 22,
   "id": "538c58ec",
   "metadata": {},
   "outputs": [
    {
     "name": "stdout",
     "output_type": "stream",
     "text": [
      "Enter your marks150\n",
      "Enter valid marks\n"
     ]
    }
   ],
   "source": [
    "marks = input(\"Enter your marks\")\n",
    "marks = int(marks)\n",
    "\n",
    "if marks > 100 or marks < 0:\n",
    "    print('Enter valid marks')\n",
    "\n",
    "elif marks > 80:\n",
    "    print('A grade')\n",
    "elif marks > 60:\n",
    "    print('B grade')\n",
    "elif marks > 40:\n",
    "    print('C grade')\n",
    "else:\n",
    "    print('Fail')\n"
   ]
  },
  {
   "cell_type": "code",
   "execution_count": 27,
   "id": "54fa9370",
   "metadata": {},
   "outputs": [
    {
     "name": "stdout",
     "output_type": "stream",
     "text": [
      "male\n",
      "25\n",
      "You are an adult\n"
     ]
    }
   ],
   "source": [
    "gender = input()\n",
    "age = input()\n",
    "age = int(age)\n",
    "if gender == 'male':\n",
    "    if age > 16:\n",
    "        print('You are an adult')\n",
    "    else:\n",
    "        print('you are still young')\n",
    "else:\n",
    "    if age > 21:\n",
    "        print('You are an adult')\n",
    "    else:\n",
    "        print('You are still young')"
   ]
  },
  {
   "cell_type": "code",
   "execution_count": 29,
   "id": "892bdf5c",
   "metadata": {},
   "outputs": [
    {
     "ename": "NameError",
     "evalue": "name 'xrange' is not defined",
     "output_type": "error",
     "traceback": [
      "\u001b[1;31m---------------------------------------------------------------------------\u001b[0m",
      "\u001b[1;31mNameError\u001b[0m                                 Traceback (most recent call last)",
      "Input \u001b[1;32mIn [29]\u001b[0m, in \u001b[0;36m<cell line: 1>\u001b[1;34m()\u001b[0m\n\u001b[1;32m----> 1\u001b[0m li \u001b[38;5;241m=\u001b[39m \u001b[38;5;28mlist\u001b[39m(\u001b[43mxrange\u001b[49m(\u001b[38;5;241m0\u001b[39m,\u001b[38;5;241m10\u001b[39m))\n\u001b[0;32m      2\u001b[0m \u001b[38;5;28mprint\u001b[39m(li)\n",
      "\u001b[1;31mNameError\u001b[0m: name 'xrange' is not defined"
     ]
    }
   ],
   "source": [
    "li = list(xrange(0,10))\n",
    "print(li)"
   ]
  },
  {
   "cell_type": "code",
   "execution_count": 30,
   "id": "53ce8c61",
   "metadata": {},
   "outputs": [
    {
     "name": "stdout",
     "output_type": "stream",
     "text": [
      "Hi\n",
      "Hi\n",
      "Hi\n"
     ]
    }
   ],
   "source": [
    "print('Hi')\n",
    "print('Hi')\n",
    "print('Hi')"
   ]
  },
  {
   "cell_type": "code",
   "execution_count": 31,
   "id": "08f67795",
   "metadata": {},
   "outputs": [
    {
     "name": "stdout",
     "output_type": "stream",
     "text": [
      "Hi\n",
      "Hi\n",
      "Hi\n",
      "Hi\n",
      "Hi\n",
      "Hi\n",
      "Hi\n",
      "Hi\n",
      "Hi\n",
      "Hi\n",
      "Hi\n",
      "Hi\n",
      "Hi\n",
      "Hi\n",
      "Hi\n",
      "Hi\n",
      "Hi\n",
      "Hi\n",
      "Hi\n",
      "Hi\n"
     ]
    }
   ],
   "source": [
    "for i in range(0, 20):\n",
    "    print('Hi')"
   ]
  },
  {
   "cell_type": "code",
   "execution_count": 32,
   "id": "2412af22",
   "metadata": {},
   "outputs": [
    {
     "name": "stdout",
     "output_type": "stream",
     "text": [
      "Hi\n",
      "Hi\n",
      "Hi\n",
      "Hi\n",
      "Hi\n",
      "Hi\n",
      "Hi\n",
      "Hi\n",
      "Hi\n",
      "Hi\n",
      "Hi\n",
      "Hi\n",
      "Hi\n",
      "Hi\n",
      "Hi\n",
      "Hi\n",
      "Hi\n",
      "Hi\n",
      "Hi\n",
      "Hi\n"
     ]
    }
   ],
   "source": [
    "i = 1\n",
    "while i <= 20:\n",
    "    print('Hi')\n",
    "    i += 1"
   ]
  },
  {
   "cell_type": "code",
   "execution_count": null,
   "id": "82d792a5",
   "metadata": {},
   "outputs": [],
   "source": []
  }
 ],
 "metadata": {
  "kernelspec": {
   "display_name": "Python 3 (ipykernel)",
   "language": "python",
   "name": "python3"
  },
  "language_info": {
   "codemirror_mode": {
    "name": "ipython",
    "version": 3
   },
   "file_extension": ".py",
   "mimetype": "text/x-python",
   "name": "python",
   "nbconvert_exporter": "python",
   "pygments_lexer": "ipython3",
   "version": "3.9.12"
  }
 },
 "nbformat": 4,
 "nbformat_minor": 5
}
