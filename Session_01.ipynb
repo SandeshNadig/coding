{
 "cells": [
  {
   "cell_type": "markdown",
   "id": "05d4b4ff",
   "metadata": {},
   "source": [
    "# Identifiers\n",
    "\n",
    "1. The name used to identify a variable, function, class, module or any object in python.\n"
   ]
  },
  {
   "cell_type": "code",
   "execution_count": 1,
   "id": "0c18f064",
   "metadata": {},
   "outputs": [
    {
     "name": "stdout",
     "output_type": "stream",
     "text": [
      "python\n"
     ]
    }
   ],
   "source": [
    "s = 'python'\n",
    "print(s)"
   ]
  },
  {
   "cell_type": "code",
   "execution_count": 2,
   "id": "31c9f64d",
   "metadata": {},
   "outputs": [],
   "source": [
    "def get_string(st):\n",
    "    pass"
   ]
  },
  {
   "cell_type": "code",
   "execution_count": null,
   "id": "dd2cacc1",
   "metadata": {},
   "outputs": [],
   "source": [
    "class Student():\n",
    "    pass"
   ]
  },
  {
   "cell_type": "code",
   "execution_count": 3,
   "id": "63598c29",
   "metadata": {},
   "outputs": [],
   "source": [
    "age = 20"
   ]
  },
  {
   "cell_type": "markdown",
   "id": "a55fb0b5",
   "metadata": {},
   "source": [
    "## Identifiers Rules\n",
    "\n",
    "1. Always Start your identifiers with Capital letters(A-Z) or Small letters(a-z) or underscore(_)\n",
    "2. Never start the identifiers with numbers(0-9) or special characters(#, &, %, etc)\n",
    "3. Identifier with only one underscore(_) is called private identifier\n",
    "4. Identifier with 2 underscore(__) is called strongly private identifier\n",
    "5. Identifiers are case sensitive, meaning age and Age are two different identifiers\n",
    "6. For Class names go for capital letters and for other identifiers go with small letters."
   ]
  },
  {
   "cell_type": "code",
   "execution_count": 4,
   "id": "389a60e4",
   "metadata": {},
   "outputs": [],
   "source": [
    "s = 'python'"
   ]
  },
  {
   "cell_type": "code",
   "execution_count": 5,
   "id": "66edfac0",
   "metadata": {},
   "outputs": [],
   "source": [
    "strings = 'python'"
   ]
  },
  {
   "cell_type": "code",
   "execution_count": 6,
   "id": "dbd20c04",
   "metadata": {},
   "outputs": [],
   "source": [
    "S = 'python'"
   ]
  },
  {
   "cell_type": "code",
   "execution_count": 7,
   "id": "47620cd2",
   "metadata": {},
   "outputs": [],
   "source": [
    "_ = 45"
   ]
  },
  {
   "cell_type": "code",
   "execution_count": 8,
   "id": "1ed232aa",
   "metadata": {},
   "outputs": [
    {
     "ename": "SyntaxError",
     "evalue": "invalid syntax (1793199188.py, line 1)",
     "output_type": "error",
     "traceback": [
      "\u001b[1;36m  Input \u001b[1;32mIn [8]\u001b[1;36m\u001b[0m\n\u001b[1;33m    1s = '22'\u001b[0m\n\u001b[1;37m     ^\u001b[0m\n\u001b[1;31mSyntaxError\u001b[0m\u001b[1;31m:\u001b[0m invalid syntax\n"
     ]
    }
   ],
   "source": [
    "1s = '22'"
   ]
  },
  {
   "cell_type": "code",
   "execution_count": 9,
   "id": "04075c8b",
   "metadata": {},
   "outputs": [
    {
     "name": "stderr",
     "output_type": "stream",
     "text": [
      "UsageError: Line magic function `%s` not found.\n"
     ]
    }
   ],
   "source": [
    "%s = 'python'"
   ]
  },
  {
   "cell_type": "code",
   "execution_count": 10,
   "id": "b0db5330",
   "metadata": {},
   "outputs": [
    {
     "ename": "SyntaxError",
     "evalue": "invalid syntax (3529507989.py, line 1)",
     "output_type": "error",
     "traceback": [
      "\u001b[1;36m  Input \u001b[1;32mIn [10]\u001b[1;36m\u001b[0m\n\u001b[1;33m    $age = 20\u001b[0m\n\u001b[1;37m    ^\u001b[0m\n\u001b[1;31mSyntaxError\u001b[0m\u001b[1;31m:\u001b[0m invalid syntax\n"
     ]
    }
   ],
   "source": [
    "$age = 20"
   ]
  },
  {
   "cell_type": "code",
   "execution_count": 12,
   "id": "456657c8",
   "metadata": {},
   "outputs": [
    {
     "ename": "SyntaxError",
     "evalue": "invalid syntax (2343867998.py, line 1)",
     "output_type": "error",
     "traceback": [
      "\u001b[1;36m  Input \u001b[1;32mIn [12]\u001b[1;36m\u001b[0m\n\u001b[1;33m    def %get_string(st):\u001b[0m\n\u001b[1;37m        ^\u001b[0m\n\u001b[1;31mSyntaxError\u001b[0m\u001b[1;31m:\u001b[0m invalid syntax\n"
     ]
    }
   ],
   "source": [
    "def %get_string(st):\n",
    "    pass"
   ]
  },
  {
   "cell_type": "code",
   "execution_count": 14,
   "id": "8965b9f3",
   "metadata": {},
   "outputs": [],
   "source": [
    "_age = 20"
   ]
  },
  {
   "cell_type": "code",
   "execution_count": 15,
   "id": "0db7aeca",
   "metadata": {},
   "outputs": [],
   "source": [
    "__age__ = 20"
   ]
  },
  {
   "cell_type": "code",
   "execution_count": 17,
   "id": "cf79235b",
   "metadata": {},
   "outputs": [],
   "source": [
    "age = 20"
   ]
  },
  {
   "cell_type": "code",
   "execution_count": 18,
   "id": "618390eb",
   "metadata": {},
   "outputs": [],
   "source": [
    "Age = 30"
   ]
  },
  {
   "cell_type": "code",
   "execution_count": null,
   "id": "85a2a311",
   "metadata": {},
   "outputs": [],
   "source": [
    "if __namespace__"
   ]
  },
  {
   "cell_type": "code",
   "execution_count": 19,
   "id": "db1613e9",
   "metadata": {},
   "outputs": [],
   "source": [
    "s = 'python'"
   ]
  },
  {
   "cell_type": "code",
   "execution_count": 20,
   "id": "84b5758e",
   "metadata": {},
   "outputs": [
    {
     "ename": "SyntaxError",
     "evalue": "invalid syntax (3577732141.py, line 1)",
     "output_type": "error",
     "traceback": [
      "\u001b[1;36m  Input \u001b[1;32mIn [20]\u001b[1;36m\u001b[0m\n\u001b[1;33m    def = 'python'\u001b[0m\n\u001b[1;37m        ^\u001b[0m\n\u001b[1;31mSyntaxError\u001b[0m\u001b[1;31m:\u001b[0m invalid syntax\n"
     ]
    }
   ],
   "source": [
    "def = 'python'"
   ]
  },
  {
   "cell_type": "code",
   "execution_count": 22,
   "id": "a058a756",
   "metadata": {},
   "outputs": [
    {
     "name": "stdout",
     "output_type": "stream",
     "text": [
      "['False', 'None', 'True', '__peg_parser__', 'and', 'as', 'assert', 'async', 'await', 'break', 'class', 'continue', 'def', 'del', 'elif', 'else', 'except', 'finally', 'for', 'from', 'global', 'if', 'import', 'in', 'is', 'lambda', 'nonlocal', 'not', 'or', 'pass', 'raise', 'return', 'try', 'while', 'with', 'yield']\n"
     ]
    }
   ],
   "source": [
    "import keyword\n",
    "print(keyword.kwlist)"
   ]
  },
  {
   "cell_type": "code",
   "execution_count": 23,
   "id": "478e7565",
   "metadata": {},
   "outputs": [
    {
     "ename": "SyntaxError",
     "evalue": "invalid syntax (462945976.py, line 1)",
     "output_type": "error",
     "traceback": [
      "\u001b[1;36m  Input \u001b[1;32mIn [23]\u001b[1;36m\u001b[0m\n\u001b[1;33m    else = 20\u001b[0m\n\u001b[1;37m    ^\u001b[0m\n\u001b[1;31mSyntaxError\u001b[0m\u001b[1;31m:\u001b[0m invalid syntax\n"
     ]
    }
   ],
   "source": [
    "else = 20"
   ]
  },
  {
   "cell_type": "code",
   "execution_count": 24,
   "id": "4c1f6222",
   "metadata": {},
   "outputs": [
    {
     "data": {
      "text/plain": [
       "36"
      ]
     },
     "execution_count": 24,
     "metadata": {},
     "output_type": "execute_result"
    }
   ],
   "source": [
    "len(keyword.kwlist)"
   ]
  },
  {
   "cell_type": "markdown",
   "id": "0d9db1f6",
   "metadata": {},
   "source": [
    "## Variables"
   ]
  },
  {
   "cell_type": "code",
   "execution_count": 26,
   "id": "31e0f480",
   "metadata": {},
   "outputs": [
    {
     "name": "stdout",
     "output_type": "stream",
     "text": [
      "20\n"
     ]
    }
   ],
   "source": [
    "age = 20\n",
    "print(age)"
   ]
  },
  {
   "cell_type": "code",
   "execution_count": 27,
   "id": "c8cc3516",
   "metadata": {},
   "outputs": [
    {
     "name": "stdout",
     "output_type": "stream",
     "text": [
      "Male\n"
     ]
    }
   ],
   "source": [
    "gender = 'Male'\n",
    "print(gender)"
   ]
  },
  {
   "cell_type": "code",
   "execution_count": 29,
   "id": "27260112",
   "metadata": {},
   "outputs": [],
   "source": [
    "name = 'anant'\n",
    "age = 20\n",
    "height = 20.25"
   ]
  },
  {
   "cell_type": "code",
   "execution_count": 30,
   "id": "e4be9e62",
   "metadata": {},
   "outputs": [
    {
     "data": {
      "text/plain": [
       "str"
      ]
     },
     "execution_count": 30,
     "metadata": {},
     "output_type": "execute_result"
    }
   ],
   "source": [
    "type('anant')"
   ]
  },
  {
   "cell_type": "code",
   "execution_count": 31,
   "id": "fc1f4cce",
   "metadata": {},
   "outputs": [
    {
     "data": {
      "text/plain": [
       "str"
      ]
     },
     "execution_count": 31,
     "metadata": {},
     "output_type": "execute_result"
    }
   ],
   "source": [
    "type(name)"
   ]
  },
  {
   "cell_type": "code",
   "execution_count": 32,
   "id": "5d5d0fef",
   "metadata": {},
   "outputs": [
    {
     "data": {
      "text/plain": [
       "int"
      ]
     },
     "execution_count": 32,
     "metadata": {},
     "output_type": "execute_result"
    }
   ],
   "source": [
    "type(20)"
   ]
  },
  {
   "cell_type": "code",
   "execution_count": 33,
   "id": "2f0778e7",
   "metadata": {},
   "outputs": [
    {
     "data": {
      "text/plain": [
       "float"
      ]
     },
     "execution_count": 33,
     "metadata": {},
     "output_type": "execute_result"
    }
   ],
   "source": [
    "type(20.251)"
   ]
  },
  {
   "cell_type": "code",
   "execution_count": 34,
   "id": "b9822a7e",
   "metadata": {},
   "outputs": [
    {
     "ename": "SyntaxError",
     "evalue": "invalid syntax (2296052988.py, line 1)",
     "output_type": "error",
     "traceback": [
      "\u001b[1;36m  Input \u001b[1;32mIn [34]\u001b[1;36m\u001b[0m\n\u001b[1;33m    int age = 20\u001b[0m\n\u001b[1;37m        ^\u001b[0m\n\u001b[1;31mSyntaxError\u001b[0m\u001b[1;31m:\u001b[0m invalid syntax\n"
     ]
    }
   ],
   "source": [
    "int age = 20"
   ]
  },
  {
   "cell_type": "code",
   "execution_count": 35,
   "id": "cf3d4035",
   "metadata": {},
   "outputs": [
    {
     "name": "stdout",
     "output_type": "stream",
     "text": [
      "10\n",
      "10\n",
      "10\n"
     ]
    }
   ],
   "source": [
    "anil = sunil = arun = 10\n",
    "print(anil)\n",
    "print(sunil)\n",
    "print(arun)"
   ]
  },
  {
   "cell_type": "code",
   "execution_count": 36,
   "id": "c4bbac51",
   "metadata": {},
   "outputs": [
    {
     "name": "stdout",
     "output_type": "stream",
     "text": [
      "10\n",
      "10\n",
      "10\n"
     ]
    }
   ],
   "source": [
    "anil = 10\n",
    "sunil = 10\n",
    "arun = 10\n",
    "print(anil)\n",
    "print(sunil)\n",
    "print(arun)"
   ]
  },
  {
   "cell_type": "code",
   "execution_count": 37,
   "id": "715d60f4",
   "metadata": {},
   "outputs": [
    {
     "name": "stdout",
     "output_type": "stream",
     "text": [
      "10\n",
      "15\n",
      "20\n"
     ]
    }
   ],
   "source": [
    "anil, sunil, arun = 10, 15, 20\n",
    "print(anil)\n",
    "print(sunil)\n",
    "print(arun)"
   ]
  },
  {
   "cell_type": "code",
   "execution_count": 39,
   "id": "7d35fd97",
   "metadata": {},
   "outputs": [
    {
     "name": "stdout",
     "output_type": "stream",
     "text": [
      "anil\n",
      "anil\n",
      "anil\n"
     ]
    }
   ],
   "source": [
    "name_1 = name_2 = name_3 = 'anil'\n",
    "print(name_1)\n",
    "print(name_2)\n",
    "print(name_3)"
   ]
  },
  {
   "cell_type": "code",
   "execution_count": 40,
   "id": "aaf0f9f9",
   "metadata": {},
   "outputs": [
    {
     "name": "stdout",
     "output_type": "stream",
     "text": [
      "anil\n",
      "sunil\n",
      "arun\n"
     ]
    }
   ],
   "source": [
    "name_1, name_2, name_3 = 'anil', 'sunil', 'arun'\n",
    "print(name_1)\n",
    "print(name_2)\n",
    "print(name_3)"
   ]
  },
  {
   "cell_type": "code",
   "execution_count": 41,
   "id": "54e5186a",
   "metadata": {},
   "outputs": [
    {
     "name": "stdout",
     "output_type": "stream",
     "text": [
      "20\n"
     ]
    }
   ],
   "source": [
    "age = 10\n",
    "age = 20\n",
    "print(age)"
   ]
  },
  {
   "cell_type": "code",
   "execution_count": 44,
   "id": "09504386",
   "metadata": {},
   "outputs": [
    {
     "name": "stdout",
     "output_type": "stream",
     "text": [
      "20\n",
      "15\n",
      "20\n"
     ]
    }
   ],
   "source": [
    "anil, sunil, anil = 10, 15, 20\n",
    "print(anil)\n",
    "print(sunil)\n",
    "print(anil)"
   ]
  },
  {
   "cell_type": "markdown",
   "id": "cfe91a96",
   "metadata": {},
   "source": [
    "# Data types\n",
    "\n",
    "### Basic Data types:  \n",
    "1. str\n",
    "2. int\n",
    "3. float\n",
    "4. bool\n",
    "5. complex\n",
    "\n",
    "### Advanced Data types:\n",
    "1. List\n",
    "2. tuple\n",
    "3. Dictionary\n",
    "4. Sets"
   ]
  },
  {
   "cell_type": "code",
   "execution_count": 46,
   "id": "0682c941",
   "metadata": {},
   "outputs": [
    {
     "data": {
      "text/plain": [
       "str"
      ]
     },
     "execution_count": 46,
     "metadata": {},
     "output_type": "execute_result"
    }
   ],
   "source": [
    "type('mumbai')"
   ]
  },
  {
   "cell_type": "code",
   "execution_count": 47,
   "id": "a847632d",
   "metadata": {},
   "outputs": [
    {
     "data": {
      "text/plain": [
       "int"
      ]
     },
     "execution_count": 47,
     "metadata": {},
     "output_type": "execute_result"
    }
   ],
   "source": [
    "type(20)"
   ]
  },
  {
   "cell_type": "code",
   "execution_count": 48,
   "id": "0a35a312",
   "metadata": {},
   "outputs": [
    {
     "data": {
      "text/plain": [
       "int"
      ]
     },
     "execution_count": 48,
     "metadata": {},
     "output_type": "execute_result"
    }
   ],
   "source": [
    "type(-45)"
   ]
  },
  {
   "cell_type": "code",
   "execution_count": 49,
   "id": "26109726",
   "metadata": {},
   "outputs": [
    {
     "data": {
      "text/plain": [
       "float"
      ]
     },
     "execution_count": 49,
     "metadata": {},
     "output_type": "execute_result"
    }
   ],
   "source": [
    "type(75.5)"
   ]
  },
  {
   "cell_type": "code",
   "execution_count": 50,
   "id": "0f3fc893",
   "metadata": {},
   "outputs": [
    {
     "data": {
      "text/plain": [
       "bool"
      ]
     },
     "execution_count": 50,
     "metadata": {},
     "output_type": "execute_result"
    }
   ],
   "source": [
    "type(True)"
   ]
  },
  {
   "cell_type": "code",
   "execution_count": 51,
   "id": "4f76340c",
   "metadata": {},
   "outputs": [
    {
     "data": {
      "text/plain": [
       "bool"
      ]
     },
     "execution_count": 51,
     "metadata": {},
     "output_type": "execute_result"
    }
   ],
   "source": [
    "type(False)"
   ]
  },
  {
   "cell_type": "code",
   "execution_count": 52,
   "id": "a1a91169",
   "metadata": {},
   "outputs": [
    {
     "data": {
      "text/plain": [
       "complex"
      ]
     },
     "execution_count": 52,
     "metadata": {},
     "output_type": "execute_result"
    }
   ],
   "source": [
    "type(3j)"
   ]
  },
  {
   "cell_type": "code",
   "execution_count": 54,
   "id": "14b8770d",
   "metadata": {},
   "outputs": [
    {
     "data": {
      "text/plain": [
       "complex"
      ]
     },
     "execution_count": 54,
     "metadata": {},
     "output_type": "execute_result"
    }
   ],
   "source": [
    "type(3 + 4j)"
   ]
  },
  {
   "cell_type": "code",
   "execution_count": 55,
   "id": "55075546",
   "metadata": {},
   "outputs": [
    {
     "data": {
      "text/plain": [
       "list"
      ]
     },
     "execution_count": 55,
     "metadata": {},
     "output_type": "execute_result"
    }
   ],
   "source": [
    "type([1,2,3,4])"
   ]
  },
  {
   "cell_type": "code",
   "execution_count": 56,
   "id": "2cc99824",
   "metadata": {},
   "outputs": [
    {
     "data": {
      "text/plain": [
       "tuple"
      ]
     },
     "execution_count": 56,
     "metadata": {},
     "output_type": "execute_result"
    }
   ],
   "source": [
    "type((1,2,3,4))"
   ]
  },
  {
   "cell_type": "code",
   "execution_count": 57,
   "id": "aeee96c7",
   "metadata": {},
   "outputs": [
    {
     "data": {
      "text/plain": [
       "set"
      ]
     },
     "execution_count": 57,
     "metadata": {},
     "output_type": "execute_result"
    }
   ],
   "source": [
    "type({1,2,3,4})"
   ]
  },
  {
   "cell_type": "code",
   "execution_count": 58,
   "id": "96a174d3",
   "metadata": {},
   "outputs": [
    {
     "data": {
      "text/plain": [
       "dict"
      ]
     },
     "execution_count": 58,
     "metadata": {},
     "output_type": "execute_result"
    }
   ],
   "source": [
    "type({'name' : 'anant', 'age' : 20, 'gender' : 'male'})"
   ]
  },
  {
   "cell_type": "code",
   "execution_count": 59,
   "id": "0c47c163",
   "metadata": {},
   "outputs": [
    {
     "data": {
      "text/plain": [
       "dict"
      ]
     },
     "execution_count": 59,
     "metadata": {},
     "output_type": "execute_result"
    }
   ],
   "source": [
    "type({'name' : 'anant', 'age' : 20, 'gender' : 'male'})"
   ]
  },
  {
   "cell_type": "code",
   "execution_count": null,
   "id": "edfc9c67",
   "metadata": {},
   "outputs": [],
   "source": []
  },
  {
   "cell_type": "code",
   "execution_count": 60,
   "id": "565c6dd4",
   "metadata": {},
   "outputs": [
    {
     "name": "stdout",
     "output_type": "stream",
     "text": [
      "45\n"
     ]
    }
   ],
   "source": [
    "age = 45\n",
    "print(age)"
   ]
  },
  {
   "cell_type": "code",
   "execution_count": 61,
   "id": "d96ea25c",
   "metadata": {},
   "outputs": [],
   "source": [
    "del age"
   ]
  },
  {
   "cell_type": "code",
   "execution_count": 62,
   "id": "75e44b5b",
   "metadata": {},
   "outputs": [
    {
     "ename": "NameError",
     "evalue": "name 'age' is not defined",
     "output_type": "error",
     "traceback": [
      "\u001b[1;31m---------------------------------------------------------------------------\u001b[0m",
      "\u001b[1;31mNameError\u001b[0m                                 Traceback (most recent call last)",
      "Input \u001b[1;32mIn [62]\u001b[0m, in \u001b[0;36m<cell line: 1>\u001b[1;34m()\u001b[0m\n\u001b[1;32m----> 1\u001b[0m \u001b[38;5;28mprint\u001b[39m(\u001b[43mage\u001b[49m)\n",
      "\u001b[1;31mNameError\u001b[0m: name 'age' is not defined"
     ]
    }
   ],
   "source": [
    "print(age)"
   ]
  },
  {
   "cell_type": "code",
   "execution_count": 63,
   "id": "71f258e6",
   "metadata": {},
   "outputs": [
    {
     "name": "stdout",
     "output_type": "stream",
     "text": [
      "35\n"
     ]
    }
   ],
   "source": [
    "age = 35\n",
    "print(age)"
   ]
  },
  {
   "cell_type": "code",
   "execution_count": 64,
   "id": "c561461b",
   "metadata": {},
   "outputs": [
    {
     "data": {
      "text/plain": [
       "complex"
      ]
     },
     "execution_count": 64,
     "metadata": {},
     "output_type": "execute_result"
    }
   ],
   "source": [
    "c = 35j\n",
    "type(c)"
   ]
  },
  {
   "cell_type": "code",
   "execution_count": null,
   "id": "bebd4dd7",
   "metadata": {},
   "outputs": [],
   "source": []
  }
 ],
 "metadata": {
  "kernelspec": {
   "display_name": "Python 3 (ipykernel)",
   "language": "python",
   "name": "python3"
  },
  "language_info": {
   "codemirror_mode": {
    "name": "ipython",
    "version": 3
   },
   "file_extension": ".py",
   "mimetype": "text/x-python",
   "name": "python",
   "nbconvert_exporter": "python",
   "pygments_lexer": "ipython3",
   "version": "3.9.12"
  }
 },
 "nbformat": 4,
 "nbformat_minor": 5
}
