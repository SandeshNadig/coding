{
 "cells": [
  {
   "cell_type": "code",
   "execution_count": 1,
   "id": "734910c8",
   "metadata": {},
   "outputs": [
    {
     "data": {
      "text/plain": [
       "0"
      ]
     },
     "execution_count": 1,
     "metadata": {},
     "output_type": "execute_result"
    }
   ],
   "source": [
    "a = 10\n",
    "b = 4\n",
    "\n",
    "a & b"
   ]
  },
  {
   "cell_type": "code",
   "execution_count": 2,
   "id": "7da067bb",
   "metadata": {},
   "outputs": [
    {
     "data": {
      "text/plain": [
       "14"
      ]
     },
     "execution_count": 2,
     "metadata": {},
     "output_type": "execute_result"
    }
   ],
   "source": [
    "a | b"
   ]
  },
  {
   "cell_type": "code",
   "execution_count": null,
   "id": "18ff54f0",
   "metadata": {},
   "outputs": [],
   "source": [
    "10 * 20 + 35 - 22 / 14 + 25"
   ]
  },
  {
   "cell_type": "code",
   "execution_count": 4,
   "id": "c8de1951",
   "metadata": {},
   "outputs": [
    {
     "data": {
      "text/plain": [
       "20"
      ]
     },
     "execution_count": 4,
     "metadata": {},
     "output_type": "execute_result"
    }
   ],
   "source": [
    "10 + (2 * 4) - 8 // 2 + 3 * 2"
   ]
  },
  {
   "cell_type": "markdown",
   "id": "e92f4200",
   "metadata": {},
   "source": [
    "## Decision making : If Condtional Statements"
   ]
  },
  {
   "cell_type": "code",
   "execution_count": null,
   "id": "62063b97",
   "metadata": {},
   "outputs": [],
   "source": [
    "if condition:\n",
    "    statement 1\n",
    "    statement 2\n",
    "    .\n",
    "    .\n",
    "    statement n\n",
    "Next set of statements    "
   ]
  },
  {
   "cell_type": "code",
   "execution_count": 7,
   "id": "5cc17af6",
   "metadata": {},
   "outputs": [
    {
     "name": "stdout",
     "output_type": "stream",
     "text": [
      "You are too old\n",
      "Goodbye\n"
     ]
    }
   ],
   "source": [
    "age = 75\n",
    "if age < 60:\n",
    "    print('You are still a working professional')\n",
    "    print('You have still 15 years for your retirement')\n",
    "    print('All the best for your next phase of your career')\n",
    "print('You are too old')\n",
    "print('Goodbye')"
   ]
  },
  {
   "cell_type": "code",
   "execution_count": 9,
   "id": "261a36ce",
   "metadata": {},
   "outputs": [
    {
     "name": "stdout",
     "output_type": "stream",
     "text": [
      "You are still a working professional\n",
      "You have still 15 years for your retirement\n",
      "All the best for your next phase of your career\n",
      "You are too old\n",
      "Goodbye\n"
     ]
    }
   ],
   "source": [
    "age = 45\n",
    "if age < 60:\n",
    "    print('You are still a working professional')\n",
    "    print('You have still 15 years for your retirement')\n",
    "    print('All the best for your next phase of your career')\n",
    "print('You are too old')\n",
    "print('Goodbye')"
   ]
  },
  {
   "cell_type": "code",
   "execution_count": 11,
   "id": "672fec24",
   "metadata": {},
   "outputs": [],
   "source": [
    "age = 75\n",
    "if age < 60:\n",
    "    print('You are still a working professional')\n",
    "    print('You have still 15 years for your retirement')\n",
    "    print('All the best for your next phase of your career')\n",
    "    print('You are too old')\n",
    "    print('Goodbye')"
   ]
  },
  {
   "cell_type": "code",
   "execution_count": 21,
   "id": "ab01d7cf",
   "metadata": {},
   "outputs": [
    {
     "name": "stdout",
     "output_type": "stream",
     "text": [
      "You are still a working professional\n",
      "You have still 15 years for your retirement\n",
      "All the best for your next phase of your career\n",
      "You are too old\n",
      "Goodbye\n"
     ]
    }
   ],
   "source": [
    "if 10:\n",
    "    print('You are still a working professional')\n",
    "    print('You have still 15 years for your retirement')\n",
    "    print('All the best for your next phase of your career')\n",
    "    print('You are too old')\n",
    "    print('Goodbye')"
   ]
  },
  {
   "cell_type": "markdown",
   "id": "71b17e7e",
   "metadata": {},
   "source": [
    "- If any random number(except 0) is given after the if, then it is treated as true.\n",
    "- If 0, empty string, empty list, empty dictionary, etc are present after if then, it is false"
   ]
  },
  {
   "cell_type": "code",
   "execution_count": 25,
   "id": "467795f1",
   "metadata": {},
   "outputs": [
    {
     "name": "stdout",
     "output_type": "stream",
     "text": [
      "You are still a working professional\n",
      "You have still 15 years for your retirement\n",
      "All the best for your next phase of your career\n",
      "You are too old\n",
      "Goodbye\n",
      "Welcome\n"
     ]
    }
   ],
   "source": [
    "age = 35\n",
    "if age < 60:\n",
    "    print('You are still a working professional')\n",
    "    print('You have still 15 years for your retirement')\n",
    "    print('All the best for your next phase of your career')\n",
    "print('You are too old')\n",
    "print('Goodbye')\n",
    "print('Welcome')"
   ]
  },
  {
   "cell_type": "code",
   "execution_count": 27,
   "id": "84a3c0fb",
   "metadata": {},
   "outputs": [
    {
     "name": "stdout",
     "output_type": "stream",
     "text": [
      "a and b are not equal\n",
      "Try using some other number\n",
      "Goodbye\n"
     ]
    }
   ],
   "source": [
    "a = 25\n",
    "b = 30\n",
    "if a == b:\n",
    "    print('both a and b are equal')\n",
    "else:\n",
    "    print('a and b are not equal')\n",
    "\n",
    "print('Try using some other number')\n",
    "print('Goodbye')"
   ]
  },
  {
   "cell_type": "code",
   "execution_count": null,
   "id": "01def09e",
   "metadata": {},
   "outputs": [],
   "source": []
  }
 ],
 "metadata": {
  "kernelspec": {
   "display_name": "Python 3 (ipykernel)",
   "language": "python",
   "name": "python3"
  },
  "language_info": {
   "codemirror_mode": {
    "name": "ipython",
    "version": 3
   },
   "file_extension": ".py",
   "mimetype": "text/x-python",
   "name": "python",
   "nbconvert_exporter": "python",
   "pygments_lexer": "ipython3",
   "version": "3.9.12"
  }
 },
 "nbformat": 4,
 "nbformat_minor": 5
}
